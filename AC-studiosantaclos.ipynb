{
 "cells": [
  {
   "cell_type": "code",
   "execution_count": 1,
   "id": "ultimate-jumping",
   "metadata": {},
   "outputs": [
    {
     "data": {
      "text/plain": [
       "'2021-03-16'"
      ]
     },
     "execution_count": 1,
     "metadata": {},
     "output_type": "execute_result"
    }
   ],
   "source": [
    "#\n",
    "from datetime import datetime\n",
    "#target_code = '033340'\n",
    "#date_from = '1995-5-2'\n",
    "date_from  = '2010-1-1'\n",
    "today=  datetime.now().strftime('%Y-%m-%d')\n",
    "today"
   ]
  },
  {
   "cell_type": "code",
   "execution_count": 2,
   "id": "operating-nylon",
   "metadata": {},
   "outputs": [],
   "source": [
    "# 기본 모듈 로드\n",
    "import pandas as pd\n",
    "from marcap import marcap_data\n",
    "import matplotlib.pyplot as plt"
   ]
  },
  {
   "cell_type": "code",
   "execution_count": 3,
   "id": "burning-mercy",
   "metadata": {},
   "outputs": [
    {
     "data": {
      "text/plain": [
       "'204630'"
      ]
     },
     "execution_count": 3,
     "metadata": {},
     "output_type": "execute_result"
    }
   ],
   "source": [
    "# 쌍방울 코드 검색하기\n",
    "target_name = \"스튜디오산타클로스\"\n",
    "df = pd.read_csv(\"marcap/data/marcap-2021.csv.gz\")\n",
    "target_code = df[df[\"Name\"] == target_name][\"Code\"].iloc[0]\n",
    "target_code"
   ]
  },
  {
   "cell_type": "code",
   "execution_count": 4,
   "id": "independent-storm",
   "metadata": {},
   "outputs": [],
   "source": [
    "# 그래프 설정\n",
    "import matplotlib.pyplot as plt\n",
    "import matplotlib.dates as mdates\n",
    "\n",
    "years = mdates.YearLocator()   # every year\n",
    "months = mdates.MonthLocator()  # every month\n",
    "years_fmt = mdates.DateFormatter('%Y')\n",
    "\n",
    "plt.rcParams[\"figure.figsize\"] = (16,4)\n",
    "plt.rcParams['lines.linewidth'] = 0.5\n",
    "plt.rcParams[\"axes.grid\"] = True\n",
    "plt.rcParams[\"axes.formatter.useoffset\"] = False\n",
    "plt.rcParams[\"xtick.minor.visible\"] = True \n",
    "\n",
    "pd.options.display.float_format = '{:.2f}'.format"
   ]
  },
  {
   "cell_type": "code",
   "execution_count": 5,
   "id": "excellent-coordinator",
   "metadata": {},
   "outputs": [
    {
     "name": "stderr",
     "output_type": "stream",
     "text": [
      "c:\\users\\j\\appdata\\local\\programs\\python\\python39\\lib\\site-packages\\IPython\\core\\interactiveshell.py:3338: DtypeWarning: Columns (3) have mixed types.Specify dtype option on import or set low_memory=False.\n",
      "  if (await self.run_code(code, result,  async_=asy)):\n",
      "c:\\users\\j\\appdata\\local\\programs\\python\\python39\\lib\\site-packages\\IPython\\core\\interactiveshell.py:3338: DtypeWarning: Columns (0) have mixed types.Specify dtype option on import or set low_memory=False.\n",
      "  if (await self.run_code(code, result,  async_=asy)):\n"
     ]
    }
   ],
   "source": [
    "df = marcap_data(date_from, today, target_code)"
   ]
  },
  {
   "cell_type": "code",
   "execution_count": 6,
   "id": "aggressive-variable",
   "metadata": {},
   "outputs": [
    {
     "data": {
      "text/plain": [
       "29453855.0"
      ]
     },
     "execution_count": 6,
     "metadata": {},
     "output_type": "execute_result"
    }
   ],
   "source": [
    "latest_stocks = df.iloc[-1]['Stocks']\n",
    "latest_stocks"
   ]
  },
  {
   "cell_type": "code",
   "execution_count": 7,
   "id": "surprised-little",
   "metadata": {},
   "outputs": [],
   "source": [
    "df['Adj Close'] = df['Close'] / latest_stocks * df['Stocks']"
   ]
  },
  {
   "cell_type": "code",
   "execution_count": 8,
   "id": "other-passion",
   "metadata": {},
   "outputs": [
    {
     "data": {
      "text/plain": [
       "<AxesSubplot:xlabel='Date'>"
      ]
     },
     "execution_count": 8,
     "metadata": {},
     "output_type": "execute_result"
    },
    {
     "data": {
      "image/png": "[encoded data removed]",
      "text/plain": [
       "<Figure size 1152x288 with 1 Axes>"
      ]
     },
     "metadata": {
      "needs_background": "light"
     },
     "output_type": "display_data"
    }
   ],
   "source": [
    "df['Adj Close'].plot()"
   ]
  },
  {
   "cell_type": "code",
   "execution_count": 9,
   "id": "arabic-advance",
   "metadata": {},
   "outputs": [
    {
     "data": {
      "text/plain": [
       "2039.9999999999998"
      ]
     },
     "execution_count": 9,
     "metadata": {},
     "output_type": "execute_result"
    }
   ],
   "source": [
    "df['Adj Close'].iloc[-1]"
   ]
  },
  {
   "cell_type": "code",
   "execution_count": 10,
   "id": "falling-assault",
   "metadata": {},
   "outputs": [
    {
     "data": {
      "text/plain": [
       "Code                  204630\n",
       "Name               스튜디오산타클로스\n",
       "Market                KOSDAQ\n",
       "Dept                   중견기업부\n",
       "Close                 2040.0\n",
       "ChangeCode                 1\n",
       "Changes                 25.0\n",
       "ChagesRatio              NaN\n",
       "Open                  2065.0\n",
       "High                  2065.0\n",
       "Low                   2020.0\n",
       "Volume               49135.0\n",
       "Amount           100184560.0\n",
       "Marcap         60085864200.0\n",
       "Stocks            29453855.0\n",
       "MarketId                 KSQ\n",
       "Rank                    1996\n",
       "ChangesRatio            1.24\n",
       "Adj Close             2040.0\n",
       "Name: 2021-03-16 00:00:00, dtype: object"
      ]
     },
     "execution_count": 10,
     "metadata": {},
     "output_type": "execute_result"
    }
   ],
   "source": [
    "df.iloc[-1]"
   ]
  },
  {
   "cell_type": "code",
   "execution_count": 11,
   "id": "inappropriate-period",
   "metadata": {},
   "outputs": [],
   "source": [
    "import scipy.stats"
   ]
  },
  {
   "cell_type": "code",
   "execution_count": 12,
   "id": "attractive-multiple",
   "metadata": {},
   "outputs": [
    {
     "name": "stdout",
     "output_type": "stream",
     "text": [
      "461.60086684748063 9482.196557971783 3396.630346411905 2039.9999999999998 0.22628541796818413\n"
     ]
    }
   ],
   "source": [
    "c_min = df['Adj Close'].min()\n",
    "c_max = df['Adj Close'].max()\n",
    "c_mean = df['Adj Close'].mean()\n",
    "c_std = df['Adj Close'].std()\n",
    "\n",
    "c_current = df['Adj Close'].iloc[-1]\n",
    "\n",
    "c_norm = scipy.stats.norm(c_mean, c_std)\n",
    "print(c_min, c_max, c_mean, c_current, c_norm.cdf(c_current))"
   ]
  },
  {
   "cell_type": "code",
   "execution_count": 13,
   "id": "flying-links",
   "metadata": {},
   "outputs": [
    {
     "data": {
      "text/plain": [
       "1.6650148756921106"
      ]
     },
     "execution_count": 13,
     "metadata": {},
     "output_type": "execute_result"
    }
   ],
   "source": [
    "c_mean/c_current"
   ]
  },
  {
   "cell_type": "code",
   "execution_count": 14,
   "id": "altered-bronze",
   "metadata": {},
   "outputs": [
    {
     "data": {
      "text/plain": [
       "<AxesSubplot:xlabel='Date'>"
      ]
     },
     "execution_count": 14,
     "metadata": {},
     "output_type": "execute_result"
    },
    {
     "data": {
      "image/png": "[encoded data removed]",
      "text/plain": [
       "<Figure size 1152x288 with 1 Axes>"
      ]
     },
     "metadata": {
      "needs_background": "light"
     },
     "output_type": "display_data"
    }
   ],
   "source": [
    "df['Stocks'].plot()"
   ]
  },
  {
   "cell_type": "code",
   "execution_count": null,
   "id": "binding-stocks",
   "metadata": {},
   "outputs": [],
   "source": []
  }
 ],
 "metadata": {
  "kernelspec": {
   "display_name": "Python 3",
   "language": "python",
   "name": "python3"
  },
  "language_info": {
   "codemirror_mode": {
    "name": "ipython",
    "version": 3
   },
   "file_extension": ".py",
   "mimetype": "text/x-python",
   "name": "python",
   "nbconvert_exporter": "python",
   "pygments_lexer": "ipython3",
   "version": "3.9.1"
  }
 },
 "nbformat": 4,
 "nbformat_minor": 5
}
