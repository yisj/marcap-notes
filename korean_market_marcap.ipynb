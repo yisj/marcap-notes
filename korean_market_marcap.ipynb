{
 "cells": [
  {
   "cell_type": "code",
   "execution_count": 1,
   "id": "false-craft",
   "metadata": {},
   "outputs": [],
   "source": [
    "# 코스닥, 코스피, 코넥스별 시가총액 흐름\n",
    "today = '2021-02-23'\n",
    "first = '1995-05-02'\n",
    "billion = 1000000000"
   ]
  },
  {
   "cell_type": "code",
   "execution_count": 2,
   "id": "excited-contractor",
   "metadata": {},
   "outputs": [],
   "source": [
    "# 기본 모듈 로드\n",
    "import pandas as pd\n",
    "from marcap import marcap_data\n",
    "import matplotlib.pyplot as plt"
   ]
  },
  {
   "cell_type": "code",
   "execution_count": 3,
   "id": "optional-steps",
   "metadata": {},
   "outputs": [],
   "source": [
    "# 그래프 설정\n",
    "import matplotlib.pyplot as plt\n",
    "import matplotlib.dates as mdates\n",
    "\n",
    "years = mdates.YearLocator()   # every year\n",
    "months = mdates.MonthLocator()  # every month\n",
    "years_fmt = mdates.DateFormatter('%Y')\n",
    "\n",
    "plt.rcParams[\"figure.figsize\"] = (16,4)\n",
    "plt.rcParams['lines.linewidth'] = 0.5\n",
    "plt.rcParams[\"axes.grid\"] = True\n",
    "plt.rcParams[\"axes.formatter.useoffset\"] = False\n",
    "plt.rcParams[\"xtick.minor.visible\"] = True \n",
    "\n",
    "pd.options.display.float_format = '{:.2f}'.format"
   ]
  },
  {
   "cell_type": "code",
   "execution_count": 4,
   "id": "horizontal-english",
   "metadata": {},
   "outputs": [
    {
     "name": "stderr",
     "output_type": "stream",
     "text": [
      "c:\\users\\j\\appdata\\local\\programs\\python\\python39\\lib\\site-packages\\IPython\\core\\interactiveshell.py:3338: DtypeWarning: Columns (0) have mixed types.Specify dtype option on import or set low_memory=False.\n",
      "  if (await self.run_code(code, result,  async_=asy)):\n",
      "c:\\users\\j\\appdata\\local\\programs\\python\\python39\\lib\\site-packages\\IPython\\core\\interactiveshell.py:3338: DtypeWarning: Columns (3) have mixed types.Specify dtype option on import or set low_memory=False.\n",
      "  if (await self.run_code(code, result,  async_=asy)):\n"
     ]
    }
   ],
   "source": [
    "df = marcap_data(first, today)"
   ]
  },
  {
   "cell_type": "code",
   "execution_count": 5,
   "id": "fiscal-wisconsin",
   "metadata": {},
   "outputs": [],
   "source": [
    "marcap_daily = df.groupby('Date').sum()['Marcap']"
   ]
  },
  {
   "cell_type": "code",
   "execution_count": 6,
   "id": "imperial-cologne",
   "metadata": {},
   "outputs": [
    {
     "data": {
      "text/plain": [
       "<AxesSubplot:xlabel='Date'>"
      ]
     },
     "execution_count": 6,
     "metadata": {},
     "output_type": "execute_result"
    },
    {
     "data": {
      "image/png": "[encoded data removed]",
      "text/plain": [
       "<Figure size 1152x288 with 1 Axes>"
      ]
     },
     "metadata": {
      "needs_background": "light"
     },
     "output_type": "display_data"
    }
   ],
   "source": [
    "marcap_daily.plot()"
   ]
  },
  {
   "cell_type": "code",
   "execution_count": 7,
   "id": "annual-butterfly",
   "metadata": {},
   "outputs": [
    {
     "data": {
      "text/html": [
       "<div>\n",
       "<style scoped>\n",
       "    .dataframe tbody tr th:only-of-type {\n",
       "        vertical-align: middle;\n",
       "    }\n",
       "\n",
       "    .dataframe tbody tr th {\n",
       "        vertical-align: top;\n",
       "    }\n",
       "\n",
       "    .dataframe thead th {\n",
       "        text-align: right;\n",
       "    }\n",
       "</style>\n",
       "<table border=\"1\" class=\"dataframe\">\n",
       "  <thead>\n",
       "    <tr style=\"text-align: right;\">\n",
       "      <th></th>\n",
       "      <th>Code</th>\n",
       "      <th>Name</th>\n",
       "      <th>Market</th>\n",
       "      <th>Dept</th>\n",
       "      <th>Close</th>\n",
       "      <th>ChangeCode</th>\n",
       "      <th>Changes</th>\n",
       "      <th>ChagesRatio</th>\n",
       "      <th>Open</th>\n",
       "      <th>High</th>\n",
       "      <th>Low</th>\n",
       "      <th>Volume</th>\n",
       "      <th>Amount</th>\n",
       "      <th>Marcap</th>\n",
       "      <th>Stocks</th>\n",
       "      <th>MarketId</th>\n",
       "      <th>Rank</th>\n",
       "      <th>ChangesRatio</th>\n",
       "    </tr>\n",
       "    <tr>\n",
       "      <th>Date</th>\n",
       "      <th></th>\n",
       "      <th></th>\n",
       "      <th></th>\n",
       "      <th></th>\n",
       "      <th></th>\n",
       "      <th></th>\n",
       "      <th></th>\n",
       "      <th></th>\n",
       "      <th></th>\n",
       "      <th></th>\n",
       "      <th></th>\n",
       "      <th></th>\n",
       "      <th></th>\n",
       "      <th></th>\n",
       "      <th></th>\n",
       "      <th></th>\n",
       "      <th></th>\n",
       "      <th></th>\n",
       "    </tr>\n",
       "  </thead>\n",
       "  <tbody>\n",
       "    <tr>\n",
       "      <th>1995-05-02</th>\n",
       "      <td>15760</td>\n",
       "      <td>한국전력공사</td>\n",
       "      <td>KOSPI</td>\n",
       "      <td>NaN</td>\n",
       "      <td>27400.00</td>\n",
       "      <td>2</td>\n",
       "      <td>-400.00</td>\n",
       "      <td>-1.44</td>\n",
       "      <td>27600.00</td>\n",
       "      <td>27800.00</td>\n",
       "      <td>27400.00</td>\n",
       "      <td>118190.00</td>\n",
       "      <td>3255694000.00</td>\n",
       "      <td>16872679291000.00</td>\n",
       "      <td>615791215.00</td>\n",
       "      <td>STK</td>\n",
       "      <td>1</td>\n",
       "      <td>NaN</td>\n",
       "    </tr>\n",
       "    <tr>\n",
       "      <th>1995-05-02</th>\n",
       "      <td>5930</td>\n",
       "      <td>삼성전자</td>\n",
       "      <td>KOSPI</td>\n",
       "      <td>NaN</td>\n",
       "      <td>119500.00</td>\n",
       "      <td>2</td>\n",
       "      <td>-1000.00</td>\n",
       "      <td>-0.83</td>\n",
       "      <td>121000.00</td>\n",
       "      <td>121000.00</td>\n",
       "      <td>118500.00</td>\n",
       "      <td>139560.00</td>\n",
       "      <td>16676735000.00</td>\n",
       "      <td>6497053077500.00</td>\n",
       "      <td>54368645.00</td>\n",
       "      <td>STK</td>\n",
       "      <td>2</td>\n",
       "      <td>NaN</td>\n",
       "    </tr>\n",
       "    <tr>\n",
       "      <th>1995-05-02</th>\n",
       "      <td>5490</td>\n",
       "      <td>포항종합제철</td>\n",
       "      <td>KOSPI</td>\n",
       "      <td>NaN</td>\n",
       "      <td>65500.00</td>\n",
       "      <td>2</td>\n",
       "      <td>-300.00</td>\n",
       "      <td>-0.46</td>\n",
       "      <td>65800.00</td>\n",
       "      <td>66200.00</td>\n",
       "      <td>65400.00</td>\n",
       "      <td>65970.00</td>\n",
       "      <td>4334472000.00</td>\n",
       "      <td>6150568555000.00</td>\n",
       "      <td>93901810.00</td>\n",
       "      <td>STK</td>\n",
       "      <td>3</td>\n",
       "      <td>NaN</td>\n",
       "    </tr>\n",
       "    <tr>\n",
       "      <th>1995-05-02</th>\n",
       "      <td>200</td>\n",
       "      <td>대우중공업</td>\n",
       "      <td>KOSPI</td>\n",
       "      <td>NaN</td>\n",
       "      <td>9800.00</td>\n",
       "      <td>1</td>\n",
       "      <td>300.00</td>\n",
       "      <td>3.16</td>\n",
       "      <td>9500.00</td>\n",
       "      <td>9840.00</td>\n",
       "      <td>9500.00</td>\n",
       "      <td>288380.00</td>\n",
       "      <td>2805133500.00</td>\n",
       "      <td>3500638978200.00</td>\n",
       "      <td>357208059.00</td>\n",
       "      <td>STK</td>\n",
       "      <td>4</td>\n",
       "      <td>NaN</td>\n",
       "    </tr>\n",
       "    <tr>\n",
       "      <th>1995-05-02</th>\n",
       "      <td>2610</td>\n",
       "      <td>엘지전자</td>\n",
       "      <td>KOSPI</td>\n",
       "      <td>NaN</td>\n",
       "      <td>31700.00</td>\n",
       "      <td>2</td>\n",
       "      <td>-300.00</td>\n",
       "      <td>-0.94</td>\n",
       "      <td>32000.00</td>\n",
       "      <td>32000.00</td>\n",
       "      <td>31700.00</td>\n",
       "      <td>171460.00</td>\n",
       "      <td>5452050000.00</td>\n",
       "      <td>2521027012200.00</td>\n",
       "      <td>79527666.00</td>\n",
       "      <td>STK</td>\n",
       "      <td>5</td>\n",
       "      <td>NaN</td>\n",
       "    </tr>\n",
       "  </tbody>\n",
       "</table>\n",
       "</div>"
      ],
      "text/plain": [
       "             Code    Name Market Dept     Close  ChangeCode  Changes  \\\n",
       "Date                                                                   \n",
       "1995-05-02  15760  한국전력공사  KOSPI  NaN  27400.00           2  -400.00   \n",
       "1995-05-02   5930    삼성전자  KOSPI  NaN 119500.00           2 -1000.00   \n",
       "1995-05-02   5490  포항종합제철  KOSPI  NaN  65500.00           2  -300.00   \n",
       "1995-05-02    200   대우중공업  KOSPI  NaN   9800.00           1   300.00   \n",
       "1995-05-02   2610    엘지전자  KOSPI  NaN  31700.00           2  -300.00   \n",
       "\n",
       "            ChagesRatio      Open      High       Low    Volume  \\\n",
       "Date                                                              \n",
       "1995-05-02        -1.44  27600.00  27800.00  27400.00 118190.00   \n",
       "1995-05-02        -0.83 121000.00 121000.00 118500.00 139560.00   \n",
       "1995-05-02        -0.46  65800.00  66200.00  65400.00  65970.00   \n",
       "1995-05-02         3.16   9500.00   9840.00   9500.00 288380.00   \n",
       "1995-05-02        -0.94  32000.00  32000.00  31700.00 171460.00   \n",
       "\n",
       "                   Amount            Marcap       Stocks MarketId  Rank  \\\n",
       "Date                                                                      \n",
       "1995-05-02  3255694000.00 16872679291000.00 615791215.00      STK     1   \n",
       "1995-05-02 16676735000.00  6497053077500.00  54368645.00      STK     2   \n",
       "1995-05-02  4334472000.00  6150568555000.00  93901810.00      STK     3   \n",
       "1995-05-02  2805133500.00  3500638978200.00 357208059.00      STK     4   \n",
       "1995-05-02  5452050000.00  2521027012200.00  79527666.00      STK     5   \n",
       "\n",
       "            ChangesRatio  \n",
       "Date                      \n",
       "1995-05-02           NaN  \n",
       "1995-05-02           NaN  \n",
       "1995-05-02           NaN  \n",
       "1995-05-02           NaN  \n",
       "1995-05-02           NaN  "
      ]
     },
     "execution_count": 7,
     "metadata": {},
     "output_type": "execute_result"
    }
   ],
   "source": [
    "df.head()"
   ]
  },
  {
   "cell_type": "code",
   "execution_count": 8,
   "id": "executed-arrangement",
   "metadata": {},
   "outputs": [],
   "source": [
    "kospi = df[df[\"Market\"] == \"KOSPI\"]"
   ]
  },
  {
   "cell_type": "code",
   "execution_count": 9,
   "id": "twelve-occurrence",
   "metadata": {},
   "outputs": [],
   "source": [
    "kospi_daily = kospi.groupby(\"Date\").sum()[\"Marcap\"]"
   ]
  },
  {
   "cell_type": "code",
   "execution_count": 10,
   "id": "composed-introduction",
   "metadata": {},
   "outputs": [
    {
     "data": {
      "text/plain": [
       "<AxesSubplot:xlabel='Date'>"
      ]
     },
     "execution_count": 10,
     "metadata": {},
     "output_type": "execute_result"
    },
    {
     "data": {
      "image/png": "[encoded data removed]",
      "text/plain": [
       "<Figure size 1152x288 with 1 Axes>"
      ]
     },
     "metadata": {
      "needs_background": "light"
     },
     "output_type": "display_data"
    }
   ],
   "source": [
    "kospi_daily.plot()"
   ]
  },
  {
   "cell_type": "code",
   "execution_count": 11,
   "id": "tight-module",
   "metadata": {},
   "outputs": [],
   "source": [
    "kosdaq = df[df[\"Market\"] == \"KOSDAQ\"]"
   ]
  },
  {
   "cell_type": "code",
   "execution_count": 12,
   "id": "posted-absence",
   "metadata": {},
   "outputs": [],
   "source": [
    "kosdaq_daily = kosdaq.groupby(\"Date\").sum()[\"Marcap\"]"
   ]
  },
  {
   "cell_type": "code",
   "execution_count": 13,
   "id": "resident-progress",
   "metadata": {},
   "outputs": [
    {
     "data": {
      "text/plain": [
       "<AxesSubplot:xlabel='Date'>"
      ]
     },
     "execution_count": 13,
     "metadata": {},
     "output_type": "execute_result"
    },
    {
     "data": {
      "image/png": "[encoded data removed]",
      "text/plain": [
       "<Figure size 1152x288 with 1 Axes>"
      ]
     },
     "metadata": {
      "needs_background": "light"
     },
     "output_type": "display_data"
    }
   ],
   "source": [
    "kosdaq_daily.plot()"
   ]
  },
  {
   "cell_type": "code",
   "execution_count": 14,
   "id": "integrated-document",
   "metadata": {},
   "outputs": [],
   "source": [
    "konex = df[df[\"Market\"] == \"KONEX\"]"
   ]
  },
  {
   "cell_type": "code",
   "execution_count": 15,
   "id": "historic-consolidation",
   "metadata": {},
   "outputs": [],
   "source": [
    "konex_daily = konex.groupby(\"Date\").sum()[\"Marcap\"]"
   ]
  },
  {
   "cell_type": "code",
   "execution_count": 16,
   "id": "laden-nudist",
   "metadata": {},
   "outputs": [
    {
     "data": {
      "text/plain": [
       "<AxesSubplot:xlabel='Date'>"
      ]
     },
     "execution_count": 16,
     "metadata": {},
     "output_type": "execute_result"
    },
    {
     "data": {
      "image/png": "[encoded data removed]",
      "text/plain": [
       "<Figure size 1152x288 with 1 Axes>"
      ]
     },
     "metadata": {
      "needs_background": "light"
     },
     "output_type": "display_data"
    }
   ],
   "source": [
    "konex_daily.plot()"
   ]
  },
  {
   "cell_type": "code",
   "execution_count": 17,
   "id": "contained-benchmark",
   "metadata": {},
   "outputs": [
    {
     "data": {
      "text/plain": [
       "2118096243096785.0"
      ]
     },
     "execution_count": 17,
     "metadata": {},
     "output_type": "execute_result"
    }
   ],
   "source": [
    "kospi_daily.iloc[-1]"
   ]
  },
  {
   "cell_type": "code",
   "execution_count": 18,
   "id": "complicated-creativity",
   "metadata": {},
   "outputs": [
    {
     "data": {
      "text/plain": [
       "2495949567193450.0"
      ]
     },
     "execution_count": 18,
     "metadata": {},
     "output_type": "execute_result"
    }
   ],
   "source": [
    "marcap_daily.iloc[-1]"
   ]
  },
  {
   "cell_type": "code",
   "execution_count": 19,
   "id": "fossil-filter",
   "metadata": {},
   "outputs": [
    {
     "data": {
      "text/plain": [
       "0.8486133978574179"
      ]
     },
     "execution_count": 19,
     "metadata": {},
     "output_type": "execute_result"
    }
   ],
   "source": [
    "kospi_daily.iloc[-1] / marcap_daily.iloc[-1]"
   ]
  },
  {
   "cell_type": "code",
   "execution_count": 20,
   "id": "developing-determination",
   "metadata": {},
   "outputs": [],
   "source": [
    "gdp = pd.read_csv('marcap/gdp/gdp.csv')"
   ]
  },
  {
   "cell_type": "code",
   "execution_count": 21,
   "id": "expensive-course",
   "metadata": {},
   "outputs": [
    {
     "data": {
      "text/plain": [
       "Date\n",
       "1995-05-02   134713479923960.00\n",
       "1995-05-03   137255450392250.00\n",
       "1995-05-04   137395277384830.00\n",
       "1995-05-06   137122266028070.00\n",
       "1995-05-08   136361070157380.00\n",
       "Name: Marcap, dtype: float64"
      ]
     },
     "execution_count": 21,
     "metadata": {},
     "output_type": "execute_result"
    }
   ],
   "source": [
    "marcap_daily.head()"
   ]
  },
  {
   "cell_type": "code",
   "execution_count": 22,
   "id": "criminal-inspiration",
   "metadata": {},
   "outputs": [],
   "source": [
    "md = marcap_daily.to_frame()"
   ]
  },
  {
   "cell_type": "code",
   "execution_count": 23,
   "id": "wired-sociology",
   "metadata": {},
   "outputs": [
    {
     "data": {
      "text/html": [
       "<div>\n",
       "<style scoped>\n",
       "    .dataframe tbody tr th:only-of-type {\n",
       "        vertical-align: middle;\n",
       "    }\n",
       "\n",
       "    .dataframe tbody tr th {\n",
       "        vertical-align: top;\n",
       "    }\n",
       "\n",
       "    .dataframe thead th {\n",
       "        text-align: right;\n",
       "    }\n",
       "</style>\n",
       "<table border=\"1\" class=\"dataframe\">\n",
       "  <thead>\n",
       "    <tr style=\"text-align: right;\">\n",
       "      <th></th>\n",
       "      <th>Marcap</th>\n",
       "    </tr>\n",
       "    <tr>\n",
       "      <th>Date</th>\n",
       "      <th></th>\n",
       "    </tr>\n",
       "  </thead>\n",
       "  <tbody>\n",
       "    <tr>\n",
       "      <th>1995-05-02</th>\n",
       "      <td>134713479923960.00</td>\n",
       "    </tr>\n",
       "    <tr>\n",
       "      <th>1995-05-03</th>\n",
       "      <td>137255450392250.00</td>\n",
       "    </tr>\n",
       "    <tr>\n",
       "      <th>1995-05-04</th>\n",
       "      <td>137395277384830.00</td>\n",
       "    </tr>\n",
       "    <tr>\n",
       "      <th>1995-05-06</th>\n",
       "      <td>137122266028070.00</td>\n",
       "    </tr>\n",
       "    <tr>\n",
       "      <th>1995-05-08</th>\n",
       "      <td>136361070157380.00</td>\n",
       "    </tr>\n",
       "  </tbody>\n",
       "</table>\n",
       "</div>"
      ],
      "text/plain": [
       "                       Marcap\n",
       "Date                         \n",
       "1995-05-02 134713479923960.00\n",
       "1995-05-03 137255450392250.00\n",
       "1995-05-04 137395277384830.00\n",
       "1995-05-06 137122266028070.00\n",
       "1995-05-08 136361070157380.00"
      ]
     },
     "execution_count": 23,
     "metadata": {},
     "output_type": "execute_result"
    }
   ],
   "source": [
    "md.head()"
   ]
  },
  {
   "cell_type": "code",
   "execution_count": 24,
   "id": "premium-leader",
   "metadata": {},
   "outputs": [],
   "source": [
    "md.reset_index(inplace=True)"
   ]
  },
  {
   "cell_type": "code",
   "execution_count": 25,
   "id": "exposed-mixer",
   "metadata": {},
   "outputs": [
    {
     "data": {
      "text/html": [
       "<div>\n",
       "<style scoped>\n",
       "    .dataframe tbody tr th:only-of-type {\n",
       "        vertical-align: middle;\n",
       "    }\n",
       "\n",
       "    .dataframe tbody tr th {\n",
       "        vertical-align: top;\n",
       "    }\n",
       "\n",
       "    .dataframe thead th {\n",
       "        text-align: right;\n",
       "    }\n",
       "</style>\n",
       "<table border=\"1\" class=\"dataframe\">\n",
       "  <thead>\n",
       "    <tr style=\"text-align: right;\">\n",
       "      <th></th>\n",
       "      <th>Date</th>\n",
       "      <th>Marcap</th>\n",
       "    </tr>\n",
       "  </thead>\n",
       "  <tbody>\n",
       "    <tr>\n",
       "      <th>0</th>\n",
       "      <td>1995-05-02</td>\n",
       "      <td>134713479923960.00</td>\n",
       "    </tr>\n",
       "    <tr>\n",
       "      <th>1</th>\n",
       "      <td>1995-05-03</td>\n",
       "      <td>137255450392250.00</td>\n",
       "    </tr>\n",
       "    <tr>\n",
       "      <th>2</th>\n",
       "      <td>1995-05-04</td>\n",
       "      <td>137395277384830.00</td>\n",
       "    </tr>\n",
       "    <tr>\n",
       "      <th>3</th>\n",
       "      <td>1995-05-06</td>\n",
       "      <td>137122266028070.00</td>\n",
       "    </tr>\n",
       "    <tr>\n",
       "      <th>4</th>\n",
       "      <td>1995-05-08</td>\n",
       "      <td>136361070157380.00</td>\n",
       "    </tr>\n",
       "  </tbody>\n",
       "</table>\n",
       "</div>"
      ],
      "text/plain": [
       "        Date             Marcap\n",
       "0 1995-05-02 134713479923960.00\n",
       "1 1995-05-03 137255450392250.00\n",
       "2 1995-05-04 137395277384830.00\n",
       "3 1995-05-06 137122266028070.00\n",
       "4 1995-05-08 136361070157380.00"
      ]
     },
     "execution_count": 25,
     "metadata": {},
     "output_type": "execute_result"
    }
   ],
   "source": [
    "md.head()"
   ]
  },
  {
   "cell_type": "code",
   "execution_count": 26,
   "id": "identified-childhood",
   "metadata": {},
   "outputs": [
    {
     "data": {
      "text/plain": [
       "50    1898193\n",
       "Name: gdp, dtype: int32"
      ]
     },
     "execution_count": 26,
     "metadata": {},
     "output_type": "execute_result"
    }
   ],
   "source": [
    "md.columns\n",
    "'2013-02-01'[0:4]\n",
    "latest_gdp = gdp[gdp['year']==2020]['gdp']\n",
    "latest_gdp = latest_gdp.str.replace(',', '').astype(int)\n",
    "latest_gdp"
   ]
  },
  {
   "cell_type": "code",
   "execution_count": 27,
   "id": "damaged-leather",
   "metadata": {},
   "outputs": [],
   "source": [
    "def get_gdp(row):\n",
    "    if row['Date'].year == 2021:\n",
    "        return latest_gdp*1.05\n",
    "    else:\n",
    "        return gdp[gdp['year'] == int(row['Date'].year)]['gdp'].str.replace(',', '').astype(int)"
   ]
  },
  {
   "cell_type": "code",
   "execution_count": 28,
   "id": "valuable-paradise",
   "metadata": {},
   "outputs": [],
   "source": [
    "md['gdp'] = 0\n",
    "md['gdp'] = md.apply(get_gdp, axis=1)"
   ]
  },
  {
   "cell_type": "code",
   "execution_count": 29,
   "id": "connected-street",
   "metadata": {},
   "outputs": [
    {
     "data": {
      "text/html": [
       "<div>\n",
       "<style scoped>\n",
       "    .dataframe tbody tr th:only-of-type {\n",
       "        vertical-align: middle;\n",
       "    }\n",
       "\n",
       "    .dataframe tbody tr th {\n",
       "        vertical-align: top;\n",
       "    }\n",
       "\n",
       "    .dataframe thead th {\n",
       "        text-align: right;\n",
       "    }\n",
       "</style>\n",
       "<table border=\"1\" class=\"dataframe\">\n",
       "  <thead>\n",
       "    <tr style=\"text-align: right;\">\n",
       "      <th></th>\n",
       "      <th>Date</th>\n",
       "      <th>Marcap</th>\n",
       "      <th>gdp</th>\n",
       "    </tr>\n",
       "  </thead>\n",
       "  <tbody>\n",
       "    <tr>\n",
       "      <th>0</th>\n",
       "      <td>1995-05-02</td>\n",
       "      <td>134713479923960.00</td>\n",
       "      <td>436989.00</td>\n",
       "    </tr>\n",
       "    <tr>\n",
       "      <th>1</th>\n",
       "      <td>1995-05-03</td>\n",
       "      <td>137255450392250.00</td>\n",
       "      <td>436989.00</td>\n",
       "    </tr>\n",
       "    <tr>\n",
       "      <th>2</th>\n",
       "      <td>1995-05-04</td>\n",
       "      <td>137395277384830.00</td>\n",
       "      <td>436989.00</td>\n",
       "    </tr>\n",
       "    <tr>\n",
       "      <th>3</th>\n",
       "      <td>1995-05-06</td>\n",
       "      <td>137122266028070.00</td>\n",
       "      <td>436989.00</td>\n",
       "    </tr>\n",
       "    <tr>\n",
       "      <th>4</th>\n",
       "      <td>1995-05-08</td>\n",
       "      <td>136361070157380.00</td>\n",
       "      <td>436989.00</td>\n",
       "    </tr>\n",
       "    <tr>\n",
       "      <th>...</th>\n",
       "      <td>...</td>\n",
       "      <td>...</td>\n",
       "      <td>...</td>\n",
       "    </tr>\n",
       "    <tr>\n",
       "      <th>6537</th>\n",
       "      <td>2021-02-17</td>\n",
       "      <td>2555734981794907.00</td>\n",
       "      <td>NaN</td>\n",
       "    </tr>\n",
       "    <tr>\n",
       "      <th>6538</th>\n",
       "      <td>2021-02-18</td>\n",
       "      <td>2519230751794617.00</td>\n",
       "      <td>NaN</td>\n",
       "    </tr>\n",
       "    <tr>\n",
       "      <th>6539</th>\n",
       "      <td>2021-02-19</td>\n",
       "      <td>2533909848462952.00</td>\n",
       "      <td>NaN</td>\n",
       "    </tr>\n",
       "    <tr>\n",
       "      <th>6540</th>\n",
       "      <td>2021-02-22</td>\n",
       "      <td>2510439649675253.00</td>\n",
       "      <td>NaN</td>\n",
       "    </tr>\n",
       "    <tr>\n",
       "      <th>6541</th>\n",
       "      <td>2021-02-23</td>\n",
       "      <td>2495949567193450.00</td>\n",
       "      <td>NaN</td>\n",
       "    </tr>\n",
       "  </tbody>\n",
       "</table>\n",
       "<p>6542 rows × 3 columns</p>\n",
       "</div>"
      ],
      "text/plain": [
       "           Date              Marcap       gdp\n",
       "0    1995-05-02  134713479923960.00 436989.00\n",
       "1    1995-05-03  137255450392250.00 436989.00\n",
       "2    1995-05-04  137395277384830.00 436989.00\n",
       "3    1995-05-06  137122266028070.00 436989.00\n",
       "4    1995-05-08  136361070157380.00 436989.00\n",
       "...         ...                 ...       ...\n",
       "6537 2021-02-17 2555734981794907.00       NaN\n",
       "6538 2021-02-18 2519230751794617.00       NaN\n",
       "6539 2021-02-19 2533909848462952.00       NaN\n",
       "6540 2021-02-22 2510439649675253.00       NaN\n",
       "6541 2021-02-23 2495949567193450.00       NaN\n",
       "\n",
       "[6542 rows x 3 columns]"
      ]
     },
     "execution_count": 29,
     "metadata": {},
     "output_type": "execute_result"
    }
   ],
   "source": [
    "md"
   ]
  },
  {
   "cell_type": "code",
   "execution_count": 30,
   "id": "bigger-scholar",
   "metadata": {},
   "outputs": [
    {
     "data": {
      "text/plain": [
       "50   1993102.65\n",
       "Name: gdp, dtype: float64"
      ]
     },
     "execution_count": 30,
     "metadata": {},
     "output_type": "execute_result"
    }
   ],
   "source": [
    "latest_gdp*1.05"
   ]
  },
  {
   "cell_type": "code",
   "execution_count": 31,
   "id": "other-vault",
   "metadata": {},
   "outputs": [
    {
     "data": {
      "text/plain": [
       "True"
      ]
     },
     "execution_count": 31,
     "metadata": {},
     "output_type": "execute_result"
    }
   ],
   "source": [
    "md.iloc[6541]['Date'].year == 2021"
   ]
  },
  {
   "cell_type": "code",
   "execution_count": null,
   "id": "level-watershed",
   "metadata": {},
   "outputs": [],
   "source": []
  }
 ],
 "metadata": {
  "kernelspec": {
   "display_name": "Python 3",
   "language": "python",
   "name": "python3"
  },
  "language_info": {
   "codemirror_mode": {
    "name": "ipython",
    "version": 3
   },
   "file_extension": ".py",
   "mimetype": "text/x-python",
   "name": "python",
   "nbconvert_exporter": "python",
   "pygments_lexer": "ipython3",
   "version": "3.9.1"
  }
 },
 "nbformat": 4,
 "nbformat_minor": 5
}
