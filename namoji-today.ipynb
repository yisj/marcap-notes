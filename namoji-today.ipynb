{
 "cells": [
  {
   "cell_type": "code",
   "execution_count": 1,
   "id": "directed-australian",
   "metadata": {},
   "outputs": [
    {
     "data": {
      "text/plain": [
       "'2020-03-16'"
      ]
     },
     "execution_count": 1,
     "metadata": {},
     "output_type": "execute_result"
    }
   ],
   "source": [
    "# 우량주 분석\n",
    "import datetime\n",
    "today=  datetime.datetime.now()\n",
    "\n",
    "first = '1995-05-02'\n",
    "\n",
    "y1_ago = today - datetime.timedelta(days=365)\n",
    "y2_ago = today - datetime.timedelta(days=2*365)\n",
    "y3_ago  = today  - datetime.timedelta(days=3*365)\n",
    "y4_ago  = today  - datetime.timedelta(days=4*365)\n",
    "y5_ago = today - datetime.timedelta(days=5*365)\n",
    "y6_ago = today - datetime.timedelta(days=6*365)\n",
    "y8_ago = today - datetime.timedelta(days=8*365)\n",
    "y10_ago = today - datetime.timedelta(days=10*365)\n",
    "\n",
    "today = today.strftime('%Y-%m-%d')\n",
    "\n",
    "y1_ago = y1_ago.strftime('%Y-%m-%d')\n",
    "y2_ago = y2_ago.strftime('%Y-%m-%d')\n",
    "y3_ago = y3_ago.strftime('%Y-%m-%d')\n",
    "y4_ago = y4_ago.strftime('%Y-%m-%d')\n",
    "y5_ago = y5_ago.strftime('%Y-%m-%d')\n",
    "y6_ago = y6_ago.strftime('%Y-%m-%d')\n",
    "y8_ago = y8_ago.strftime('%Y-%m-%d')\n",
    "y10_ago = y10_ago.strftime('%Y-%m-%d')\n",
    "y1_ago"
   ]
  },
  {
   "cell_type": "code",
   "execution_count": 2,
   "id": "informed-jesus",
   "metadata": {},
   "outputs": [],
   "source": [
    "# 기본 모듈 로드\n",
    "import pandas as pd\n",
    "from marcap import marcap_data\n",
    "import matplotlib.pyplot as plt"
   ]
  },
  {
   "cell_type": "code",
   "execution_count": 3,
   "id": "constitutional-cleaners",
   "metadata": {},
   "outputs": [],
   "source": [
    "# 그래프 설정\n",
    "import matplotlib.pyplot as plt\n",
    "import matplotlib.dates as mdates\n",
    "\n",
    "years = mdates.YearLocator()   # every year\n",
    "months = mdates.MonthLocator()  # every month\n",
    "years_fmt = mdates.DateFormatter('%Y')\n",
    "\n",
    "plt.rcParams[\"figure.figsize\"] = (16,4)\n",
    "plt.rcParams['lines.linewidth'] = 0.5\n",
    "plt.rcParams[\"axes.grid\"] = True\n",
    "plt.rcParams[\"axes.formatter.useoffset\"] = False\n",
    "plt.rcParams[\"xtick.minor.visible\"] = True \n",
    "\n",
    "pd.options.display.float_format = '{:.2f}'.format"
   ]
  },
  {
   "cell_type": "code",
   "execution_count": 4,
   "id": "acceptable-hierarchy",
   "metadata": {},
   "outputs": [
    {
     "name": "stderr",
     "output_type": "stream",
     "text": [
      "c:\\users\\j\\appdata\\local\\programs\\python\\python39\\lib\\site-packages\\IPython\\core\\interactiveshell.py:3338: DtypeWarning: Columns (0) have mixed types.Specify dtype option on import or set low_memory=False.\n",
      "  if (await self.run_code(code, result,  async_=asy)):\n",
      "c:\\users\\j\\appdata\\local\\programs\\python\\python39\\lib\\site-packages\\IPython\\core\\interactiveshell.py:3338: DtypeWarning: Columns (3) have mixed types.Specify dtype option on import or set low_memory=False.\n",
      "  if (await self.run_code(code, result,  async_=asy)):\n"
     ]
    }
   ],
   "source": [
    "df = marcap_data(first, today)"
   ]
  },
  {
   "cell_type": "code",
   "execution_count": 5,
   "id": "understanding-immigration",
   "metadata": {},
   "outputs": [],
   "source": [
    "df['Dept'].unique()\n",
    "df.reset_index(inplace=True)\n"
   ]
  },
  {
   "cell_type": "code",
   "execution_count": 6,
   "id": "competitive-courage",
   "metadata": {},
   "outputs": [],
   "source": [
    "df1 = df[df['Date']>y1_ago]\n",
    "df2 = df[df['Date']>y2_ago]\n",
    "df3 = df[df['Date']>y3_ago]\n",
    "df4 = df[df['Date']>y4_ago]\n",
    "\n",
    "df5 = df[df['Date']>y5_ago]\n",
    "df6 = df[df['Date']>y6_ago]\n",
    "\n",
    "df8 = df[df['Date']>y8_ago]\n",
    "df10 = df[df['Date']>y10_ago]\n",
    "\n",
    "df1_10 = df[df['Date']>y10_ago]\n",
    "df1_10 = df1_10[df1_10['Date']<y1_ago]\n",
    "df1_5 = df[df['Date']>y5_ago]\n",
    "df1_5 = df1_5[df1_5['Date']<y1_ago]"
   ]
  },
  {
   "cell_type": "code",
   "execution_count": null,
   "id": "allied-blend",
   "metadata": {},
   "outputs": [],
   "source": []
  },
  {
   "cell_type": "code",
   "execution_count": 7,
   "id": "several-gregory",
   "metadata": {},
   "outputs": [],
   "source": [
    "d = df4"
   ]
  },
  {
   "cell_type": "code",
   "execution_count": 8,
   "id": "seven-recognition",
   "metadata": {},
   "outputs": [],
   "source": [
    "wuryang = d"
   ]
  },
  {
   "cell_type": "code",
   "execution_count": 9,
   "id": "experienced-parker",
   "metadata": {},
   "outputs": [],
   "source": [
    "codes = wuryang['Code'].unique()"
   ]
  },
  {
   "cell_type": "code",
   "execution_count": 10,
   "id": "prescribed-sunset",
   "metadata": {},
   "outputs": [
    {
     "data": {
      "text/plain": [
       "2736"
      ]
     },
     "execution_count": 10,
     "metadata": {},
     "output_type": "execute_result"
    }
   ],
   "source": [
    "len(codes)"
   ]
  },
  {
   "cell_type": "code",
   "execution_count": null,
   "id": "willing-scheduling",
   "metadata": {},
   "outputs": [
    {
     "name": "stderr",
     "output_type": "stream",
     "text": [
      "<ipython-input-11-3ff44c464998>:10: SettingWithCopyWarning: \n",
      "A value is trying to be set on a copy of a slice from a DataFrame.\n",
      "Try using .loc[row_indexer,col_indexer] = value instead\n",
      "\n",
      "See the caveats in the documentation: https://pandas.pydata.org/pandas-docs/stable/user_guide/indexing.html#returning-a-view-versus-a-copy\n",
      "  c['Adj Close'] = c['Stocks'] * c['Close'] / latest_stocks\n"
     ]
    }
   ],
   "source": [
    "data = list()\n",
    "import scipy.stats\n",
    "# for code in codes:\n",
    "\n",
    "\n",
    "for code in codes:\n",
    "    c = d[d['Code'] == code]\n",
    "    if c['Date'].iloc[-1] == pd.to_datetime(today):\n",
    "        latest_stocks = c['Stocks'].iloc[-1]\n",
    "        c['Adj Close'] = c['Stocks'] * c['Close'] / latest_stocks\n",
    "\n",
    "        c_min = c['Adj Close'].min()\n",
    "        c_max = c['Adj Close'].max()\n",
    "        c_mean = c['Adj Close'].mean()\n",
    "        c_std = c['Adj Close'].std()\n",
    "\n",
    "        c_current = c['Adj Close'].iloc[-1]\n",
    "\n",
    "        c_norm = scipy.stats.norm(c_mean, c_std)\n",
    "\n",
    "        data.append([code, c['Name'].iloc[-1], c_min, c_max, c_mean, c_std, c_current, c_mean/c_current, c_norm.cdf(c_current)])\n"
   ]
  },
  {
   "cell_type": "code",
   "execution_count": null,
   "id": "correct-cooling",
   "metadata": {},
   "outputs": [],
   "source": [
    "columns = ['Code', 'Name', 'Min', 'Max', 'Mean', 'Std', 'Current', 'M/C' 'Cdf']\n",
    "wdf = pd.DataFrame(data)\n",
    "wdf['C/M'] = 1 / wdf[7]\n",
    "wdf.sort_values([8], ascending=[True]).head(60)\n",
    "wdf.to_csv('all-%s.csv' % today)"
   ]
  },
  {
   "cell_type": "code",
   "execution_count": null,
   "id": "involved-estimate",
   "metadata": {},
   "outputs": [],
   "source": [
    "df[df['Code'] == '003380'].iloc[-1]['Close']"
   ]
  },
  {
   "cell_type": "code",
   "execution_count": null,
   "id": "useful-formation",
   "metadata": {},
   "outputs": [],
   "source": [
    "df[df['Code'] == '054800'].iloc[-1]['Close']"
   ]
  },
  {
   "cell_type": "code",
   "execution_count": null,
   "id": "forty-supervisor",
   "metadata": {},
   "outputs": [],
   "source": [
    "df[df['Code'] == '054950'].iloc[-1]"
   ]
  },
  {
   "cell_type": "code",
   "execution_count": null,
   "id": "surprised-aggregate",
   "metadata": {},
   "outputs": [],
   "source": [
    "wdf[wdf[1]==\"파루\"]"
   ]
  },
  {
   "cell_type": "code",
   "execution_count": null,
   "id": "macro-diagnosis",
   "metadata": {},
   "outputs": [],
   "source": []
  }
 ],
 "metadata": {
  "kernelspec": {
   "display_name": "Python 3",
   "language": "python",
   "name": "python3"
  },
  "language_info": {
   "codemirror_mode": {
    "name": "ipython",
    "version": 3
   },
   "file_extension": ".py",
   "mimetype": "text/x-python",
   "name": "python",
   "nbconvert_exporter": "python",
   "pygments_lexer": "ipython3",
   "version": "3.9.1"
  }
 },
 "nbformat": 4,
 "nbformat_minor": 5
}
