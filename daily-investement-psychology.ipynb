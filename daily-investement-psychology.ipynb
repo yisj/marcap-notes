{
 "cells": [
  {
   "cell_type": "code",
   "execution_count": 1,
   "id": "6a2fca61-e7c0-4057-bd42-190cf7e75533",
   "metadata": {},
   "outputs": [],
   "source": [
    "# Daily Investment Psychology ...\n",
    "# 일별 투자 심리도 계산하기\n",
    "# 최근 10거래일 중  -> 최근 10개의 데이터 중 +인 개수의 비율"
   ]
  },
  {
   "cell_type": "code",
   "execution_count": 5,
   "id": "3b78038f-596d-429a-8db8-6cfe73ff8802",
   "metadata": {},
   "outputs": [],
   "source": [
    "import datetime\n",
    "\n",
    "# 기준일\n",
    "basic_date = '2021-07-30' #가장 최근 날짜\n",
    "basic_date = datetime.datetime.strptime(basic_date, '%Y-%m-%d')\n",
    "a_month_ago = basic_date - datetime.timedelta(days=30) # 한달 전 날짜\n",
    "\n",
    "basic_date = basic_date.strftime('%Y-%m-%d')\n",
    "a_month_ago = a_month_ago.strftime('%Y-%m-%d')"
   ]
  },
  {
   "cell_type": "code",
   "execution_count": 6,
   "id": "0ae74b7e-6b41-4411-882a-d2e3a486ddce",
   "metadata": {},
   "outputs": [],
   "source": [
    "# 기본 모듈 로드\n",
    "import pandas as pd\n",
    "from marcap import marcap_data\n",
    "import matplotlib.pyplot as plt"
   ]
  },
  {
   "cell_type": "code",
   "execution_count": 7,
   "id": "7faf707f-4194-4748-b74c-a0b6805346b2",
   "metadata": {},
   "outputs": [],
   "source": [
    "df = marcap_data(a_month_ago, basic_date)"
   ]
  },
  {
   "cell_type": "code",
   "execution_count": 9,
   "id": "6b47aee0-46a0-4969-b227-d41892044440",
   "metadata": {},
   "outputs": [],
   "source": [
    "d = df"
   ]
  },
  {
   "cell_type": "code",
   "execution_count": 10,
   "id": "0a83325f-ea59-4fa0-815d-c25b88f77d89",
   "metadata": {},
   "outputs": [],
   "source": [
    "kospi = d[d['Market'] == 'KOSPI']"
   ]
  },
  {
   "cell_type": "code",
   "execution_count": 11,
   "id": "4fbd5b4a-198d-41f1-8686-09f53c6527ba",
   "metadata": {},
   "outputs": [
    {
     "data": {
      "text/plain": [
       "917"
      ]
     },
     "execution_count": 11,
     "metadata": {},
     "output_type": "execute_result"
    }
   ],
   "source": [
    "codes = kospi['Code'].unique()\n",
    "len(codes)"
   ]
  },
  {
   "cell_type": "code",
   "execution_count": 25,
   "id": "86e96c84-d1ac-4bbe-b934-da2ded68c721",
   "metadata": {},
   "outputs": [
    {
     "data": {
      "text/plain": [
       "[['005930', '삼성전자', 0.30434782608695654]]"
      ]
     },
     "execution_count": 25,
     "metadata": {},
     "output_type": "execute_result"
    }
   ],
   "source": [
    "# data = list()\n",
    "# for code in codes:\n",
    "#     c = d[d['Code'] == code]\n",
    "\n",
    "# Test!\n",
    "# c = d[d['Code'] == '005930']\n",
    "# ip = len(c[c[\"Changes\"] > 0]) / len(c[\"Changes\"])\n",
    "# data.append(['005930', c['Name'].iloc[-1], ip])\n",
    "# data"
   ]
  },
  {
   "cell_type": "code",
   "execution_count": 27,
   "id": "78729dea-b9c9-4385-b484-8663d8238f59",
   "metadata": {},
   "outputs": [],
   "source": [
    "data = list()\n",
    "for code in codes:\n",
    "    c = d[d['Code'] == code]\n",
    "    ip = len(c[c[\"Changes\"] > 0]) / len(c[\"Changes\"])\n",
    "    data.append([code, c['Name'].iloc[-1], ip])"
   ]
  },
  {
   "cell_type": "code",
   "execution_count": 28,
   "id": "b47d2cc3-9449-4a53-b930-46dc3373d47e",
   "metadata": {},
   "outputs": [],
   "source": [
    "columns = ['Code', 'Name', 'IP']"
   ]
  },
  {
   "cell_type": "code",
   "execution_count": 30,
   "id": "913ef155-9cf6-432b-9d57-0de0aeed3242",
   "metadata": {},
   "outputs": [],
   "source": [
    "ip_df = pd.DataFrame(data, columns=columns)"
   ]
  },
  {
   "cell_type": "code",
   "execution_count": 32,
   "id": "8d0811a4-d4e6-4f6a-975f-d28ec422c50c",
   "metadata": {},
   "outputs": [],
   "source": [
    "ip_df.sort_values(['IP'], ascending=[True]).to_csv('Investment-Psychology.csv')"
   ]
  },
  {
   "cell_type": "code",
   "execution_count": 35,
   "id": "91c1209d-a76d-46d3-8e9c-f23112b7b85f",
   "metadata": {},
   "outputs": [
    {
     "data": {
      "text/html": [
       "<div>\n",
       "<style scoped>\n",
       "    .dataframe tbody tr th:only-of-type {\n",
       "        vertical-align: middle;\n",
       "    }\n",
       "\n",
       "    .dataframe tbody tr th {\n",
       "        vertical-align: top;\n",
       "    }\n",
       "\n",
       "    .dataframe thead th {\n",
       "        text-align: right;\n",
       "    }\n",
       "</style>\n",
       "<table border=\"1\" class=\"dataframe\">\n",
       "  <thead>\n",
       "    <tr style=\"text-align: right;\">\n",
       "      <th></th>\n",
       "      <th>Code</th>\n",
       "      <th>Name</th>\n",
       "      <th>IP</th>\n",
       "    </tr>\n",
       "  </thead>\n",
       "  <tbody>\n",
       "    <tr>\n",
       "      <th>334</th>\n",
       "      <td>138250</td>\n",
       "      <td>엔에스쇼핑</td>\n",
       "      <td>0.086957</td>\n",
       "    </tr>\n",
       "    <tr>\n",
       "      <th>362</th>\n",
       "      <td>016580</td>\n",
       "      <td>환인제약</td>\n",
       "      <td>0.130435</td>\n",
       "    </tr>\n",
       "    <tr>\n",
       "      <th>489</th>\n",
       "      <td>005389</td>\n",
       "      <td>현대차3우B</td>\n",
       "      <td>0.130435</td>\n",
       "    </tr>\n",
       "    <tr>\n",
       "      <th>598</th>\n",
       "      <td>003547</td>\n",
       "      <td>대신증권2우B</td>\n",
       "      <td>0.130435</td>\n",
       "    </tr>\n",
       "    <tr>\n",
       "      <th>657</th>\n",
       "      <td>03473K</td>\n",
       "      <td>SK우</td>\n",
       "      <td>0.130435</td>\n",
       "    </tr>\n",
       "    <tr>\n",
       "      <th>737</th>\n",
       "      <td>357250</td>\n",
       "      <td>미래에셋맵스리츠</td>\n",
       "      <td>0.130435</td>\n",
       "    </tr>\n",
       "    <tr>\n",
       "      <th>566</th>\n",
       "      <td>123690</td>\n",
       "      <td>한국화장품</td>\n",
       "      <td>0.173913</td>\n",
       "    </tr>\n",
       "    <tr>\n",
       "      <th>118</th>\n",
       "      <td>005385</td>\n",
       "      <td>현대차우</td>\n",
       "      <td>0.173913</td>\n",
       "    </tr>\n",
       "    <tr>\n",
       "      <th>721</th>\n",
       "      <td>152550</td>\n",
       "      <td>한국ANKOR유전</td>\n",
       "      <td>0.173913</td>\n",
       "    </tr>\n",
       "    <tr>\n",
       "      <th>80</th>\n",
       "      <td>005387</td>\n",
       "      <td>현대차2우B</td>\n",
       "      <td>0.173913</td>\n",
       "    </tr>\n",
       "    <tr>\n",
       "      <th>599</th>\n",
       "      <td>000230</td>\n",
       "      <td>일동홀딩스</td>\n",
       "      <td>0.173913</td>\n",
       "    </tr>\n",
       "    <tr>\n",
       "      <th>538</th>\n",
       "      <td>004970</td>\n",
       "      <td>신라교역</td>\n",
       "      <td>0.217391</td>\n",
       "    </tr>\n",
       "    <tr>\n",
       "      <th>862</th>\n",
       "      <td>002025</td>\n",
       "      <td>코오롱우</td>\n",
       "      <td>0.217391</td>\n",
       "    </tr>\n",
       "    <tr>\n",
       "      <th>791</th>\n",
       "      <td>005257</td>\n",
       "      <td>녹십자홀딩스2우</td>\n",
       "      <td>0.217391</td>\n",
       "    </tr>\n",
       "    <tr>\n",
       "      <th>517</th>\n",
       "      <td>071970</td>\n",
       "      <td>STX중공업</td>\n",
       "      <td>0.217391</td>\n",
       "    </tr>\n",
       "    <tr>\n",
       "      <th>396</th>\n",
       "      <td>072710</td>\n",
       "      <td>농심홀딩스</td>\n",
       "      <td>0.217391</td>\n",
       "    </tr>\n",
       "    <tr>\n",
       "      <th>527</th>\n",
       "      <td>003120</td>\n",
       "      <td>일성신약</td>\n",
       "      <td>0.217391</td>\n",
       "    </tr>\n",
       "    <tr>\n",
       "      <th>856</th>\n",
       "      <td>001795</td>\n",
       "      <td>대한제당우</td>\n",
       "      <td>0.217391</td>\n",
       "    </tr>\n",
       "    <tr>\n",
       "      <th>855</th>\n",
       "      <td>001685</td>\n",
       "      <td>대상우</td>\n",
       "      <td>0.217391</td>\n",
       "    </tr>\n",
       "    <tr>\n",
       "      <th>847</th>\n",
       "      <td>36328K</td>\n",
       "      <td>티와이홀딩스우</td>\n",
       "      <td>0.217391</td>\n",
       "    </tr>\n",
       "  </tbody>\n",
       "</table>\n",
       "</div>"
      ],
      "text/plain": [
       "       Code       Name        IP\n",
       "334  138250      엔에스쇼핑  0.086957\n",
       "362  016580       환인제약  0.130435\n",
       "489  005389     현대차3우B  0.130435\n",
       "598  003547    대신증권2우B  0.130435\n",
       "657  03473K        SK우  0.130435\n",
       "737  357250   미래에셋맵스리츠  0.130435\n",
       "566  123690      한국화장품  0.173913\n",
       "118  005385       현대차우  0.173913\n",
       "721  152550  한국ANKOR유전  0.173913\n",
       "80   005387     현대차2우B  0.173913\n",
       "599  000230      일동홀딩스  0.173913\n",
       "538  004970       신라교역  0.217391\n",
       "862  002025       코오롱우  0.217391\n",
       "791  005257   녹십자홀딩스2우  0.217391\n",
       "517  071970     STX중공업  0.217391\n",
       "396  072710      농심홀딩스  0.217391\n",
       "527  003120       일성신약  0.217391\n",
       "856  001795      대한제당우  0.217391\n",
       "855  001685        대상우  0.217391\n",
       "847  36328K    티와이홀딩스우  0.217391"
      ]
     },
     "execution_count": 35,
     "metadata": {},
     "output_type": "execute_result"
    }
   ],
   "source": [
    "ip_df.sort_values(['IP'], ascending=[True]).head(20)"
   ]
  },
  {
   "cell_type": "code",
   "execution_count": null,
   "id": "5fcf16a9-3eab-47dc-844d-0318eee6668e",
   "metadata": {},
   "outputs": [],
   "source": []
  }
 ],
 "metadata": {
  "kernelspec": {
   "display_name": "Python 3 (ipykernel)",
   "language": "python",
   "name": "python3"
  },
  "language_info": {
   "codemirror_mode": {
    "name": "ipython",
    "version": 3
   },
   "file_extension": ".py",
   "mimetype": "text/x-python",
   "name": "python",
   "nbconvert_exporter": "python",
   "pygments_lexer": "ipython3",
   "version": "3.9.6"
  }
 },
 "nbformat": 4,
 "nbformat_minor": 5
}
