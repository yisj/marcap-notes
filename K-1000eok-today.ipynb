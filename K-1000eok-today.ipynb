{
 "cells": [
  {
   "cell_type": "code",
   "execution_count": 1,
   "id": "contemporary-prize",
   "metadata": {},
   "outputs": [
    {
     "data": {
      "text/plain": [
       "'2020-03-15'"
      ]
     },
     "execution_count": 1,
     "metadata": {},
     "output_type": "execute_result"
    }
   ],
   "source": [
    "# 우량주 분석\n",
    "import datetime\n",
    "today=  datetime.datetime.now()\n",
    "\n",
    "first = '1995-05-02'\n",
    "m6_ago = today - datetime.timedelta(days=183)\n",
    "y1_ago = today - datetime.timedelta(days=365)\n",
    "y2_ago = today - datetime.timedelta(days=2*365)\n",
    "y3_ago  = today  - datetime.timedelta(days=3*365)\n",
    "y4_ago  = today  - datetime.timedelta(days=4*365)\n",
    "y5_ago = today - datetime.timedelta(days=5*365)\n",
    "y6_ago = today - datetime.timedelta(days=6*365)\n",
    "\n",
    "y8_ago = today - datetime.timedelta(days=8*365)\n",
    "y10_ago = today - datetime.timedelta(days=10*365)\n",
    "\n",
    "today = today.strftime('%Y-%m-%d')\n",
    "\n",
    "m6_ago = m6_ago.strftime('%Y-%m-%d')\n",
    "y1_ago = y1_ago.strftime('%Y-%m-%d')\n",
    "y2_ago = y2_ago.strftime('%Y-%m-%d')\n",
    "y3_ago = y3_ago.strftime('%Y-%m-%d')\n",
    "y4_ago = y4_ago.strftime('%Y-%m-%d')\n",
    "y5_ago = y5_ago.strftime('%Y-%m-%d')\n",
    "y6_ago = y6_ago.strftime('%Y-%m-%d')\n",
    "\n",
    "y8_ago = y8_ago.strftime('%Y-%m-%d')\n",
    "y10_ago = y10_ago.strftime('%Y-%m-%d')\n",
    "y1_ago"
   ]
  },
  {
   "cell_type": "code",
   "execution_count": 2,
   "id": "suitable-hunger",
   "metadata": {},
   "outputs": [],
   "source": [
    "# 기본 모듈 로드\n",
    "import pandas as pd\n",
    "from marcap import marcap_data\n",
    "import matplotlib.pyplot as plt"
   ]
  },
  {
   "cell_type": "code",
   "execution_count": 3,
   "id": "upper-active",
   "metadata": {},
   "outputs": [],
   "source": [
    "# 그래프 설정\n",
    "import matplotlib.pyplot as plt\n",
    "import matplotlib.dates as mdates\n",
    "\n",
    "years = mdates.YearLocator()   # every year\n",
    "months = mdates.MonthLocator()  # every month\n",
    "years_fmt = mdates.DateFormatter('%Y')\n",
    "\n",
    "plt.rcParams[\"figure.figsize\"] = (16,4)\n",
    "plt.rcParams['lines.linewidth'] = 0.5\n",
    "plt.rcParams[\"axes.grid\"] = True\n",
    "plt.rcParams[\"axes.formatter.useoffset\"] = False\n",
    "plt.rcParams[\"xtick.minor.visible\"] = True \n",
    "\n",
    "pd.options.display.float_format = '{:.2f}'.format"
   ]
  },
  {
   "cell_type": "code",
   "execution_count": 4,
   "id": "removed-proceeding",
   "metadata": {},
   "outputs": [
    {
     "name": "stderr",
     "output_type": "stream",
     "text": [
      "c:\\users\\j\\appdata\\local\\programs\\python\\python39\\lib\\site-packages\\IPython\\core\\interactiveshell.py:3338: DtypeWarning: Columns (0) have mixed types.Specify dtype option on import or set low_memory=False.\n",
      "  if (await self.run_code(code, result,  async_=asy)):\n",
      "c:\\users\\j\\appdata\\local\\programs\\python\\python39\\lib\\site-packages\\IPython\\core\\interactiveshell.py:3338: DtypeWarning: Columns (3) have mixed types.Specify dtype option on import or set low_memory=False.\n",
      "  if (await self.run_code(code, result,  async_=asy)):\n"
     ]
    }
   ],
   "source": [
    "df = marcap_data(first, today)"
   ]
  },
  {
   "cell_type": "code",
   "execution_count": 5,
   "id": "elder-black",
   "metadata": {},
   "outputs": [],
   "source": [
    "df['Dept'].unique()\n",
    "df.reset_index(inplace=True)\n"
   ]
  },
  {
   "cell_type": "code",
   "execution_count": 6,
   "id": "sought-involvement",
   "metadata": {},
   "outputs": [],
   "source": [
    "df1 = df[df['Date']>y1_ago]\n",
    "df2 = df[df['Date']>y2_ago]\n",
    "df3 = df[df['Date']>y3_ago]\n",
    "df4 = df[df['Date']>y4_ago]\n",
    "\n",
    "df5 = df[df['Date']>y5_ago]\n",
    "df6 = df[df['Date']>y6_ago]\n",
    "\n",
    "df8 = df[df['Date']>y8_ago]\n",
    "df10 = df[df['Date']>y10_ago]\n",
    "\n",
    "df1_10 = df[df['Date']>y10_ago]\n",
    "df1_10 = df1_10[df1_10['Date']<y1_ago]\n",
    "df1_5 = df[df['Date']>y5_ago]\n",
    "df1_5 = df1_5[df1_5['Date']<y1_ago]"
   ]
  },
  {
   "cell_type": "code",
   "execution_count": 7,
   "id": "adjusted-progress",
   "metadata": {},
   "outputs": [],
   "source": [
    "dm6 = df[df['Date']>m6_ago]"
   ]
  },
  {
   "cell_type": "code",
   "execution_count": 8,
   "id": "public-biotechnology",
   "metadata": {},
   "outputs": [],
   "source": [
    "d = df4"
   ]
  },
  {
   "cell_type": "code",
   "execution_count": 9,
   "id": "fifty-ebony",
   "metadata": {},
   "outputs": [],
   "source": [
    "w = d[d['Market'] == 'KOSPI']\n",
    "wuryang = w[w['Marcap'] < 100000000]"
   ]
  },
  {
   "cell_type": "code",
   "execution_count": 10,
   "id": "contemporary-interstate",
   "metadata": {},
   "outputs": [],
   "source": [
    "codes = wuryang['Code'].unique()"
   ]
  },
  {
   "cell_type": "code",
   "execution_count": 11,
   "id": "practical-sugar",
   "metadata": {},
   "outputs": [
    {
     "data": {
      "text/plain": [
       "0"
      ]
     },
     "execution_count": 11,
     "metadata": {},
     "output_type": "execute_result"
    }
   ],
   "source": [
    "len(codes)"
   ]
  },
  {
   "cell_type": "code",
   "execution_count": 12,
   "id": "occupied-residence",
   "metadata": {},
   "outputs": [],
   "source": [
    "data = list()\n",
    "import scipy.stats\n",
    "# for code in codes:\n",
    "\n",
    "\n",
    "for code in codes:\n",
    "    c = d[d['Code'] == code]\n",
    "    if c['Date'].iloc[-1] == pd.to_datetime(today):\n",
    "        latest_stocks = c['Stocks'].iloc[-1]\n",
    "        c['Adj Close'] = c['Stocks'] * c['Close'] / latest_stocks\n",
    "\n",
    "        c_min = c['Adj Close'].min()\n",
    "        c_max = c['Adj Close'].max()\n",
    "        c_mean = c['Adj Close'].mean()\n",
    "        c_std = c['Adj Close'].std()\n",
    "\n",
    "        c_current = c['Adj Close'].iloc[-1]\n",
    "\n",
    "        c_norm = scipy.stats.norm(c_mean, c_std)\n",
    "\n",
    "        data.append([code, c['Name'].iloc[-1], c_min, c_max, c_mean, c_std, c_current, c_mean/c_current, c_norm.cdf(c_current)])\n"
   ]
  },
  {
   "cell_type": "code",
   "execution_count": 13,
   "id": "regional-amplifier",
   "metadata": {},
   "outputs": [
    {
     "ename": "KeyError",
     "evalue": "7",
     "output_type": "error",
     "traceback": [
      "\u001b[1;31m---------------------------------------------------------------------------\u001b[0m",
      "\u001b[1;31mKeyError\u001b[0m                                  Traceback (most recent call last)",
      "\u001b[1;32mc:\\users\\j\\appdata\\local\\programs\\python\\python39\\lib\\site-packages\\pandas\\core\\indexes\\base.py\u001b[0m in \u001b[0;36mget_loc\u001b[1;34m(self, key, method, tolerance)\u001b[0m\n\u001b[0;32m   3079\u001b[0m             \u001b[1;32mtry\u001b[0m\u001b[1;33m:\u001b[0m\u001b[1;33m\u001b[0m\u001b[1;33m\u001b[0m\u001b[0m\n\u001b[1;32m-> 3080\u001b[1;33m                 \u001b[1;32mreturn\u001b[0m \u001b[0mself\u001b[0m\u001b[1;33m.\u001b[0m\u001b[0m_engine\u001b[0m\u001b[1;33m.\u001b[0m\u001b[0mget_loc\u001b[0m\u001b[1;33m(\u001b[0m\u001b[0mcasted_key\u001b[0m\u001b[1;33m)\u001b[0m\u001b[1;33m\u001b[0m\u001b[1;33m\u001b[0m\u001b[0m\n\u001b[0m\u001b[0;32m   3081\u001b[0m             \u001b[1;32mexcept\u001b[0m \u001b[0mKeyError\u001b[0m \u001b[1;32mas\u001b[0m \u001b[0merr\u001b[0m\u001b[1;33m:\u001b[0m\u001b[1;33m\u001b[0m\u001b[1;33m\u001b[0m\u001b[0m\n",
      "\u001b[1;32mpandas\\_libs\\index.pyx\u001b[0m in \u001b[0;36mpandas._libs.index.IndexEngine.get_loc\u001b[1;34m()\u001b[0m\n",
      "\u001b[1;32mpandas\\_libs\\index.pyx\u001b[0m in \u001b[0;36mpandas._libs.index.IndexEngine.get_loc\u001b[1;34m()\u001b[0m\n",
      "\u001b[1;32mpandas\\_libs\\hashtable_class_helper.pxi\u001b[0m in \u001b[0;36mpandas._libs.hashtable.PyObjectHashTable.get_item\u001b[1;34m()\u001b[0m\n",
      "\u001b[1;32mpandas\\_libs\\hashtable_class_helper.pxi\u001b[0m in \u001b[0;36mpandas._libs.hashtable.PyObjectHashTable.get_item\u001b[1;34m()\u001b[0m\n",
      "\u001b[1;31mKeyError\u001b[0m: 7",
      "\nThe above exception was the direct cause of the following exception:\n",
      "\u001b[1;31mKeyError\u001b[0m                                  Traceback (most recent call last)",
      "\u001b[1;32m<ipython-input-13-e7c4879a9689>\u001b[0m in \u001b[0;36m<module>\u001b[1;34m\u001b[0m\n\u001b[0;32m      1\u001b[0m \u001b[0mcolumns\u001b[0m \u001b[1;33m=\u001b[0m \u001b[1;33m[\u001b[0m\u001b[1;34m'Code'\u001b[0m\u001b[1;33m,\u001b[0m \u001b[1;34m'Name'\u001b[0m\u001b[1;33m,\u001b[0m \u001b[1;34m'Min'\u001b[0m\u001b[1;33m,\u001b[0m \u001b[1;34m'Max'\u001b[0m\u001b[1;33m,\u001b[0m \u001b[1;34m'Mean'\u001b[0m\u001b[1;33m,\u001b[0m \u001b[1;34m'Std'\u001b[0m\u001b[1;33m,\u001b[0m \u001b[1;34m'Current'\u001b[0m\u001b[1;33m,\u001b[0m \u001b[1;34m'M/C'\u001b[0m \u001b[1;34m'Cdf'\u001b[0m\u001b[1;33m]\u001b[0m\u001b[1;33m\u001b[0m\u001b[1;33m\u001b[0m\u001b[0m\n\u001b[0;32m      2\u001b[0m \u001b[0mwdf\u001b[0m \u001b[1;33m=\u001b[0m \u001b[0mpd\u001b[0m\u001b[1;33m.\u001b[0m\u001b[0mDataFrame\u001b[0m\u001b[1;33m(\u001b[0m\u001b[0mdata\u001b[0m\u001b[1;33m)\u001b[0m\u001b[1;33m\u001b[0m\u001b[1;33m\u001b[0m\u001b[0m\n\u001b[1;32m----> 3\u001b[1;33m \u001b[0mwdf\u001b[0m\u001b[1;33m[\u001b[0m\u001b[1;34m'C/M'\u001b[0m\u001b[1;33m]\u001b[0m \u001b[1;33m=\u001b[0m \u001b[1;36m1\u001b[0m \u001b[1;33m/\u001b[0m \u001b[0mwdf\u001b[0m\u001b[1;33m[\u001b[0m\u001b[1;36m7\u001b[0m\u001b[1;33m]\u001b[0m\u001b[1;33m\u001b[0m\u001b[1;33m\u001b[0m\u001b[0m\n\u001b[0m\u001b[0;32m      4\u001b[0m \u001b[0mwdf\u001b[0m\u001b[1;33m.\u001b[0m\u001b[0msort_values\u001b[0m\u001b[1;33m(\u001b[0m\u001b[1;33m[\u001b[0m\u001b[1;36m8\u001b[0m\u001b[1;33m]\u001b[0m\u001b[1;33m,\u001b[0m \u001b[0mascending\u001b[0m\u001b[1;33m=\u001b[0m\u001b[1;33m[\u001b[0m\u001b[1;32mTrue\u001b[0m\u001b[1;33m]\u001b[0m\u001b[1;33m)\u001b[0m\u001b[1;33m.\u001b[0m\u001b[0mhead\u001b[0m\u001b[1;33m(\u001b[0m\u001b[1;36m60\u001b[0m\u001b[1;33m)\u001b[0m\u001b[1;33m\u001b[0m\u001b[1;33m\u001b[0m\u001b[0m\n",
      "\u001b[1;32mc:\\users\\j\\appdata\\local\\programs\\python\\python39\\lib\\site-packages\\pandas\\core\\frame.py\u001b[0m in \u001b[0;36m__getitem__\u001b[1;34m(self, key)\u001b[0m\n\u001b[0;32m   3022\u001b[0m             \u001b[1;32mif\u001b[0m \u001b[0mself\u001b[0m\u001b[1;33m.\u001b[0m\u001b[0mcolumns\u001b[0m\u001b[1;33m.\u001b[0m\u001b[0mnlevels\u001b[0m \u001b[1;33m>\u001b[0m \u001b[1;36m1\u001b[0m\u001b[1;33m:\u001b[0m\u001b[1;33m\u001b[0m\u001b[1;33m\u001b[0m\u001b[0m\n\u001b[0;32m   3023\u001b[0m                 \u001b[1;32mreturn\u001b[0m \u001b[0mself\u001b[0m\u001b[1;33m.\u001b[0m\u001b[0m_getitem_multilevel\u001b[0m\u001b[1;33m(\u001b[0m\u001b[0mkey\u001b[0m\u001b[1;33m)\u001b[0m\u001b[1;33m\u001b[0m\u001b[1;33m\u001b[0m\u001b[0m\n\u001b[1;32m-> 3024\u001b[1;33m             \u001b[0mindexer\u001b[0m \u001b[1;33m=\u001b[0m \u001b[0mself\u001b[0m\u001b[1;33m.\u001b[0m\u001b[0mcolumns\u001b[0m\u001b[1;33m.\u001b[0m\u001b[0mget_loc\u001b[0m\u001b[1;33m(\u001b[0m\u001b[0mkey\u001b[0m\u001b[1;33m)\u001b[0m\u001b[1;33m\u001b[0m\u001b[1;33m\u001b[0m\u001b[0m\n\u001b[0m\u001b[0;32m   3025\u001b[0m             \u001b[1;32mif\u001b[0m \u001b[0mis_integer\u001b[0m\u001b[1;33m(\u001b[0m\u001b[0mindexer\u001b[0m\u001b[1;33m)\u001b[0m\u001b[1;33m:\u001b[0m\u001b[1;33m\u001b[0m\u001b[1;33m\u001b[0m\u001b[0m\n\u001b[0;32m   3026\u001b[0m                 \u001b[0mindexer\u001b[0m \u001b[1;33m=\u001b[0m \u001b[1;33m[\u001b[0m\u001b[0mindexer\u001b[0m\u001b[1;33m]\u001b[0m\u001b[1;33m\u001b[0m\u001b[1;33m\u001b[0m\u001b[0m\n",
      "\u001b[1;32mc:\\users\\j\\appdata\\local\\programs\\python\\python39\\lib\\site-packages\\pandas\\core\\indexes\\base.py\u001b[0m in \u001b[0;36mget_loc\u001b[1;34m(self, key, method, tolerance)\u001b[0m\n\u001b[0;32m   3080\u001b[0m                 \u001b[1;32mreturn\u001b[0m \u001b[0mself\u001b[0m\u001b[1;33m.\u001b[0m\u001b[0m_engine\u001b[0m\u001b[1;33m.\u001b[0m\u001b[0mget_loc\u001b[0m\u001b[1;33m(\u001b[0m\u001b[0mcasted_key\u001b[0m\u001b[1;33m)\u001b[0m\u001b[1;33m\u001b[0m\u001b[1;33m\u001b[0m\u001b[0m\n\u001b[0;32m   3081\u001b[0m             \u001b[1;32mexcept\u001b[0m \u001b[0mKeyError\u001b[0m \u001b[1;32mas\u001b[0m \u001b[0merr\u001b[0m\u001b[1;33m:\u001b[0m\u001b[1;33m\u001b[0m\u001b[1;33m\u001b[0m\u001b[0m\n\u001b[1;32m-> 3082\u001b[1;33m                 \u001b[1;32mraise\u001b[0m \u001b[0mKeyError\u001b[0m\u001b[1;33m(\u001b[0m\u001b[0mkey\u001b[0m\u001b[1;33m)\u001b[0m \u001b[1;32mfrom\u001b[0m \u001b[0merr\u001b[0m\u001b[1;33m\u001b[0m\u001b[1;33m\u001b[0m\u001b[0m\n\u001b[0m\u001b[0;32m   3083\u001b[0m \u001b[1;33m\u001b[0m\u001b[0m\n\u001b[0;32m   3084\u001b[0m         \u001b[1;32mif\u001b[0m \u001b[0mtolerance\u001b[0m \u001b[1;32mis\u001b[0m \u001b[1;32mnot\u001b[0m \u001b[1;32mNone\u001b[0m\u001b[1;33m:\u001b[0m\u001b[1;33m\u001b[0m\u001b[1;33m\u001b[0m\u001b[0m\n",
      "\u001b[1;31mKeyError\u001b[0m: 7"
     ]
    }
   ],
   "source": [
    "columns = ['Code', 'Name', 'Min', 'Max', 'Mean', 'Std', 'Current', 'M/C' 'Cdf']\n",
    "wdf = pd.DataFrame(data)\n",
    "wdf['C/M'] = 1 / wdf[7]\n",
    "wdf.sort_values([8], ascending=[True]).head(60)"
   ]
  },
  {
   "cell_type": "code",
   "execution_count": null,
   "id": "previous-civilization",
   "metadata": {},
   "outputs": [],
   "source": [
    "df[df['Code'] == '003380'].iloc[-1]['Close']"
   ]
  },
  {
   "cell_type": "code",
   "execution_count": null,
   "id": "common-scanning",
   "metadata": {},
   "outputs": [],
   "source": [
    "df[df['Code'] == '054800'].iloc[-1]['Close']"
   ]
  },
  {
   "cell_type": "code",
   "execution_count": null,
   "id": "complicated-least",
   "metadata": {},
   "outputs": [],
   "source": [
    "df[df['Code'] == '054950'].iloc[-1]"
   ]
  },
  {
   "cell_type": "code",
   "execution_count": null,
   "id": "industrial-position",
   "metadata": {},
   "outputs": [],
   "source": []
  }
 ],
 "metadata": {
  "kernelspec": {
   "display_name": "Python 3",
   "language": "python",
   "name": "python3"
  },
  "language_info": {
   "codemirror_mode": {
    "name": "ipython",
    "version": 3
   },
   "file_extension": ".py",
   "mimetype": "text/x-python",
   "name": "python",
   "nbconvert_exporter": "python",
   "pygments_lexer": "ipython3",
   "version": "3.9.1"
  }
 },
 "nbformat": 4,
 "nbformat_minor": 5
}
