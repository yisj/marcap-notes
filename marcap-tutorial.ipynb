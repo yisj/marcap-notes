{
 "cells": [
  {
   "cell_type": "markdown",
   "metadata": {
    "id": "nm-lmCy_p50f"
   },
   "source": [
    "# 데이터셋 - 시가총액 데이터셋 튜토리얼\n",
    "\n",
    "* 한국거래소(KRX)에서 일자별 시가총액 순위 데이터\n",
    "* 1995-05-02 ~ 2020-12-31 (26년간), 1천만건 이상\n",
    "\n",
    "#### 2018 - 2021 [FinanceData.KR]()"
   ]
  },
  {
   "cell_type": "markdown",
   "metadata": {
    "id": "HUJyyZiAU5qo"
   },
   "source": [
    "## 시가총액(marcap) 데이터셋의 구성\n",
    "\n",
    "시가총액(marcap) 데이터셋은 1995-05-02 ~ 2020-12-31 (25년간)일자별, 18개 컬럼, 1천만건 데이터 입니다. 압축하지 않은 상태에서  약 '1.6G' 분량 입니다.\n",
    "\n",
    "** github 저장소에 현재 날짜 데이터까지 매일 자동 업데이트 됩니다.**\n",
    "따라서 git 저장소를 clone 하시면 매일 전종목 가격 데이터를 업데이트 하실 수 있습니다. \n",
    "\n",
    "https://github.com/FinanceData/marcap\n",
    "\n",
    "* 컬럼: 18개\n",
    "* 건수: 10,810,340 건(row)\n",
    "* 크기: 1.6G\n",
    "\n",
    "\n",
    "#### 컬럼 구성(18개)\n",
    "Date (날짜)를 인덱스(DatetimeIndex)로 포함하고 있으며, 컬럼 구성은 다음과 같습니다.\n",
    "\n",
    "* Date : 날짜 (DatetimeIndex)\n",
    "* Rank: 시가총액 순위 (당일)\n",
    "* Code : 종목코드\n",
    "* Name : 종명이름 \n",
    "* Open : 시가\n",
    "* High : 고가\n",
    "* Low : 저가\n",
    "* Close : 종가\n",
    "* Volume : 거래량\n",
    "* Amount : 거래대금\n",
    "* Changes : 전일대비\n",
    "* ChangeCode: 등락 기호\n",
    "* ChagesRatio : 전일대비 등락률\n",
    "* Marcap : 시가총액(백만원)\n",
    "* Stocks : 상장주식수\n",
    "* MarketId : 시장기호\t\n",
    "* Market : 시장\n",
    "* Dept : 부서(한국거래소)\n"
   ]
  },
  {
   "cell_type": "markdown",
   "metadata": {
    "id": "SMo2CjS9PQ-P"
   },
   "source": [
    "## 시가총액 데이터셋(marcap) 가져오기\n",
    "다음과 같이 단 한 줄의 명령으로 데이터를 가져올 수 있습니다.\n",
    "\n",
    "git 명령으로 깃허브의 저장소를 복제(clone)합니다. 데이터와 데이터를 읽는데 도움이 되는 간단한 파이썬 유틸리티 함수가 포함되어 있습니다.\n",
    " "
   ]
  },
  {
   "cell_type": "code",
   "execution_count": 2,
   "metadata": {
    "colab": {
     "base_uri": "https://localhost:8080/"
    },
    "executionInfo": {
     "elapsed": 50177,
     "status": "ok",
     "timestamp": 1611244087603,
     "user": {
      "displayName": "Sean-June Lee",
      "photoUrl": "https://lh3.googleusercontent.com/a-/AOh14Gj6rvtcx9Gy8VOzzw2LH1hYtnxIuHBDw8qnYK9SAuY=s64",
      "userId": "12576390002043678893"
     },
     "user_tz": -540
    },
    "id": "eQkz1AT2PCa8",
    "outputId": "95ecc97a-a0ff-48ff-9e06-85e888e1d16c"
   },
   "outputs": [
    {
     "name": "stdout",
     "output_type": "stream",
     "text": [
      "Cloning into 'marcap'...\n",
      "remote: Enumerating objects: 34, done.\u001b[K\n",
      "remote: Counting objects: 100% (34/34), done.\u001b[K\n",
      "remote: Compressing objects: 100% (24/24), done.\u001b[K\n",
      "remote: Total 336 (delta 20), reused 20 (delta 10), pack-reused 302\u001b[K\n",
      "Receiving objects: 100% (336/336), 1.96 GiB | 43.63 MiB/s, done.\n",
      "Resolving deltas: 100% (116/116), done.\n",
      "Checking out files: 100% (34/34), done.\n"
     ]
    }
   ],
   "source": [
    "!git clone \"https://github.com/FinanceData/marcap.git\" marcap"
   ]
  },
  {
   "cell_type": "markdown",
   "metadata": {
    "id": "UAW7lX6ihzyZ"
   },
   "source": [
    "#### 참고 (윈도우+아나콘다를 사용하는 경우):<br>\n",
    "git 이 설치되어 있지 않다면,  다음과 같이 `아나콘다 프롬프트`에서 간단하게 git을 설치할 수 있습니다.\n",
    "\n",
    "```bash\n",
    "C:\\Users\\plusjune>conda install git\n",
    "```\n",
    "\n"
   ]
  },
  {
   "cell_type": "markdown",
   "metadata": {
    "id": "p9VUvig4h_M5"
   },
   "source": [
    "## 데이터 파일 구성 살펴보기\n",
    "\n",
    "데이터는 ./marcap/data 디렉토리에 있으며 년도별 CSV 파일로 구성되어 있습니다. 개별 파일은 .gz으로 압축되어 있습니다."
   ]
  },
  {
   "cell_type": "code",
   "execution_count": 3,
   "metadata": {
    "colab": {
     "base_uri": "https://localhost:8080/"
    },
    "executionInfo": {
     "elapsed": 722,
     "status": "ok",
     "timestamp": 1611244092306,
     "user": {
      "displayName": "Sean-June Lee",
      "photoUrl": "https://lh3.googleusercontent.com/a-/AOh14Gj6rvtcx9Gy8VOzzw2LH1hYtnxIuHBDw8qnYK9SAuY=s64",
      "userId": "12576390002043678893"
     },
     "user_tz": -540
    },
    "id": "2Pe28CWBh_M6",
    "outputId": "667e4d61-98c0-4916-a662-ad8ca89c993e"
   },
   "outputs": [
    {
     "name": "stdout",
     "output_type": "stream",
     "text": [
      "total 505M\n",
      "-rw-r--r-- 1 root root 6.8M Jan 21 15:48 marcap-1995.csv.gz\n",
      "-rw-r--r-- 1 root root  11M Jan 21 15:48 marcap-1996.csv.gz\n",
      "-rw-r--r-- 1 root root  12M Jan 21 15:48 marcap-1997.csv.gz\n",
      "-rw-r--r-- 1 root root  12M Jan 21 15:48 marcap-1998.csv.gz\n",
      "-rw-r--r-- 1 root root  12M Jan 21 15:48 marcap-1999.csv.gz\n",
      "-rw-r--r-- 1 root root  15M Jan 21 15:48 marcap-2000.csv.gz\n",
      "-rw-r--r-- 1 root root  16M Jan 21 15:48 marcap-2001.csv.gz\n",
      "-rw-r--r-- 1 root root  18M Jan 21 15:48 marcap-2002.csv.gz\n",
      "-rw-r--r-- 1 root root  18M Jan 21 15:48 marcap-2003.csv.gz\n",
      "-rw-r--r-- 1 root root  18M Jan 21 15:48 marcap-2004.csv.gz\n",
      "-rw-r--r-- 1 root root  19M Jan 21 15:48 marcap-2005.csv.gz\n",
      "-rw-r--r-- 1 root root  20M Jan 21 15:48 marcap-2006.csv.gz\n",
      "-rw-r--r-- 1 root root  21M Jan 21 15:48 marcap-2007.csv.gz\n",
      "-rw-r--r-- 1 root root  22M Jan 21 15:48 marcap-2008.csv.gz\n",
      "-rw-r--r-- 1 root root  22M Jan 21 15:48 marcap-2009.csv.gz\n",
      "-rw-r--r-- 1 root root  22M Jan 21 15:48 marcap-2010.csv.gz\n",
      "-rw-r--r-- 1 root root  23M Jan 21 15:48 marcap-2011.csv.gz\n",
      "-rw-r--r-- 1 root root  23M Jan 21 15:48 marcap-2012.csv.gz\n",
      "-rw-r--r-- 1 root root  22M Jan 21 15:48 marcap-2013.csv.gz\n",
      "-rw-r--r-- 1 root root  22M Jan 21 15:48 marcap-2014.csv.gz\n",
      "-rw-r--r-- 1 root root  24M Jan 21 15:48 marcap-2015.csv.gz\n",
      "-rw-r--r-- 1 root root  25M Jan 21 15:48 marcap-2016.csv.gz\n",
      "-rw-r--r-- 1 root root  26M Jan 21 15:48 marcap-2017.csv.gz\n",
      "-rw-r--r-- 1 root root  27M Jan 21 15:48 marcap-2018.csv.gz\n",
      "-rw-r--r-- 1 root root  28M Jan 21 15:48 marcap-2019.csv.gz\n",
      "-rw-r--r-- 1 root root  29M Jan 21 15:48 marcap-2020.csv.gz\n",
      "-rw-r--r-- 1 root root 1.7M Jan 21 15:48 marcap-2021.csv.gz\n"
     ]
    }
   ],
   "source": [
    "!ls -lh marcap/data"
   ]
  },
  {
   "cell_type": "markdown",
   "metadata": {
    "id": "z4KJlYRrhlV5"
   },
   "source": [
    "##  1년치 데이터 읽어오기\n",
    "\n",
    "pandas에서 CSV 파일을 직접 지정하여 1년치 데이터를 한번에 읽어 올 수 있습니다.\n",
    "\n",
    "`Code`(종목코드)는 숫자로만 구성되어 있고 0으로 시작할 수 있으므로 명시적으로 str 타입으로 지정해 주는 것이 좋습니다. 또한, `Date`(날짜)는 날짜시간 타입으로 파싱하도록 지정합니다. "
   ]
  },
  {
   "cell_type": "code",
   "execution_count": 8,
   "metadata": {
    "colab": {
     "base_uri": "https://localhost:8080/",
     "height": 358
    },
    "executionInfo": {
     "elapsed": 3240,
     "status": "ok",
     "timestamp": 1611244137136,
     "user": {
      "displayName": "Sean-June Lee",
      "photoUrl": "https://lh3.googleusercontent.com/a-/AOh14Gj6rvtcx9Gy8VOzzw2LH1hYtnxIuHBDw8qnYK9SAuY=s64",
      "userId": "12576390002043678893"
     },
     "user_tz": -540
    },
    "id": "oS2rjvYoiLYR",
    "outputId": "95602838-5f07-4976-fa3f-a860376c084a"
   },
   "outputs": [
    {
     "data": {
      "text/html": [
       "<div>\n",
       "<style scoped>\n",
       "    .dataframe tbody tr th:only-of-type {\n",
       "        vertical-align: middle;\n",
       "    }\n",
       "\n",
       "    .dataframe tbody tr th {\n",
       "        vertical-align: top;\n",
       "    }\n",
       "\n",
       "    .dataframe thead th {\n",
       "        text-align: right;\n",
       "    }\n",
       "</style>\n",
       "<table border=\"1\" class=\"dataframe\">\n",
       "  <thead>\n",
       "    <tr style=\"text-align: right;\">\n",
       "      <th></th>\n",
       "      <th>Code</th>\n",
       "      <th>Name</th>\n",
       "      <th>Market</th>\n",
       "      <th>Dept</th>\n",
       "      <th>Close</th>\n",
       "      <th>ChangeCode</th>\n",
       "      <th>Changes</th>\n",
       "      <th>ChagesRatio</th>\n",
       "      <th>Open</th>\n",
       "      <th>High</th>\n",
       "      <th>Low</th>\n",
       "      <th>Volume</th>\n",
       "      <th>Amount</th>\n",
       "      <th>Marcap</th>\n",
       "      <th>Stocks</th>\n",
       "      <th>MarketId</th>\n",
       "      <th>Rank</th>\n",
       "      <th>Date</th>\n",
       "    </tr>\n",
       "  </thead>\n",
       "  <tbody>\n",
       "    <tr>\n",
       "      <th>0</th>\n",
       "      <td>005930</td>\n",
       "      <td>삼성전자</td>\n",
       "      <td>KOSPI</td>\n",
       "      <td>NaN</td>\n",
       "      <td>55200.0</td>\n",
       "      <td>2</td>\n",
       "      <td>-600.0</td>\n",
       "      <td>-1.08</td>\n",
       "      <td>55500.0</td>\n",
       "      <td>56000.0</td>\n",
       "      <td>55000.0</td>\n",
       "      <td>12993228.0</td>\n",
       "      <td>7.196632e+11</td>\n",
       "      <td>3.295320e+14</td>\n",
       "      <td>5969782550</td>\n",
       "      <td>STK</td>\n",
       "      <td>1</td>\n",
       "      <td>2020-01-02</td>\n",
       "    </tr>\n",
       "    <tr>\n",
       "      <th>1</th>\n",
       "      <td>000660</td>\n",
       "      <td>SK하이닉스</td>\n",
       "      <td>KOSPI</td>\n",
       "      <td>NaN</td>\n",
       "      <td>94700.0</td>\n",
       "      <td>1</td>\n",
       "      <td>600.0</td>\n",
       "      <td>0.64</td>\n",
       "      <td>96000.0</td>\n",
       "      <td>96200.0</td>\n",
       "      <td>94100.0</td>\n",
       "      <td>2342070.0</td>\n",
       "      <td>2.228414e+11</td>\n",
       "      <td>6.894182e+13</td>\n",
       "      <td>728002365</td>\n",
       "      <td>STK</td>\n",
       "      <td>2</td>\n",
       "      <td>2020-01-02</td>\n",
       "    </tr>\n",
       "    <tr>\n",
       "      <th>2</th>\n",
       "      <td>005935</td>\n",
       "      <td>삼성전자우</td>\n",
       "      <td>KOSPI</td>\n",
       "      <td>NaN</td>\n",
       "      <td>45600.0</td>\n",
       "      <td>1</td>\n",
       "      <td>200.0</td>\n",
       "      <td>0.44</td>\n",
       "      <td>45750.0</td>\n",
       "      <td>45950.0</td>\n",
       "      <td>45150.0</td>\n",
       "      <td>1512362.0</td>\n",
       "      <td>6.894333e+10</td>\n",
       "      <td>3.752363e+13</td>\n",
       "      <td>822886700</td>\n",
       "      <td>STK</td>\n",
       "      <td>3</td>\n",
       "      <td>2020-01-02</td>\n",
       "    </tr>\n",
       "    <tr>\n",
       "      <th>3</th>\n",
       "      <td>035420</td>\n",
       "      <td>NAVER</td>\n",
       "      <td>KOSPI</td>\n",
       "      <td>NaN</td>\n",
       "      <td>182500.0</td>\n",
       "      <td>2</td>\n",
       "      <td>-4000.0</td>\n",
       "      <td>-2.14</td>\n",
       "      <td>187500.0</td>\n",
       "      <td>188000.0</td>\n",
       "      <td>182000.0</td>\n",
       "      <td>300640.0</td>\n",
       "      <td>5.530956e+10</td>\n",
       "      <td>3.007844e+13</td>\n",
       "      <td>164813395</td>\n",
       "      <td>STK</td>\n",
       "      <td>4</td>\n",
       "      <td>2020-01-02</td>\n",
       "    </tr>\n",
       "    <tr>\n",
       "      <th>4</th>\n",
       "      <td>207940</td>\n",
       "      <td>삼성바이오로직스</td>\n",
       "      <td>KOSPI</td>\n",
       "      <td>NaN</td>\n",
       "      <td>428500.0</td>\n",
       "      <td>2</td>\n",
       "      <td>-4500.0</td>\n",
       "      <td>-1.04</td>\n",
       "      <td>433000.0</td>\n",
       "      <td>439500.0</td>\n",
       "      <td>425500.0</td>\n",
       "      <td>108281.0</td>\n",
       "      <td>4.647975e+10</td>\n",
       "      <td>2.835170e+13</td>\n",
       "      <td>66165000</td>\n",
       "      <td>STK</td>\n",
       "      <td>5</td>\n",
       "      <td>2020-01-02</td>\n",
       "    </tr>\n",
       "    <tr>\n",
       "      <th>5</th>\n",
       "      <td>005380</td>\n",
       "      <td>현대차</td>\n",
       "      <td>KOSPI</td>\n",
       "      <td>NaN</td>\n",
       "      <td>118000.0</td>\n",
       "      <td>2</td>\n",
       "      <td>-2500.0</td>\n",
       "      <td>-2.07</td>\n",
       "      <td>121000.0</td>\n",
       "      <td>121000.0</td>\n",
       "      <td>118000.0</td>\n",
       "      <td>556532.0</td>\n",
       "      <td>6.620498e+10</td>\n",
       "      <td>2.521285e+13</td>\n",
       "      <td>213668187</td>\n",
       "      <td>STK</td>\n",
       "      <td>6</td>\n",
       "      <td>2020-01-02</td>\n",
       "    </tr>\n",
       "    <tr>\n",
       "      <th>6</th>\n",
       "      <td>012330</td>\n",
       "      <td>현대모비스</td>\n",
       "      <td>KOSPI</td>\n",
       "      <td>NaN</td>\n",
       "      <td>247500.0</td>\n",
       "      <td>2</td>\n",
       "      <td>-8500.0</td>\n",
       "      <td>-3.32</td>\n",
       "      <td>254500.0</td>\n",
       "      <td>256000.0</td>\n",
       "      <td>247500.0</td>\n",
       "      <td>214585.0</td>\n",
       "      <td>5.362298e+10</td>\n",
       "      <td>2.358841e+13</td>\n",
       "      <td>95306694</td>\n",
       "      <td>STK</td>\n",
       "      <td>7</td>\n",
       "      <td>2020-01-02</td>\n",
       "    </tr>\n",
       "    <tr>\n",
       "      <th>7</th>\n",
       "      <td>068270</td>\n",
       "      <td>셀트리온</td>\n",
       "      <td>KOSPI</td>\n",
       "      <td>NaN</td>\n",
       "      <td>180000.0</td>\n",
       "      <td>2</td>\n",
       "      <td>-1000.0</td>\n",
       "      <td>-0.55</td>\n",
       "      <td>181000.0</td>\n",
       "      <td>183000.0</td>\n",
       "      <td>176000.0</td>\n",
       "      <td>621826.0</td>\n",
       "      <td>1.113250e+11</td>\n",
       "      <td>2.310081e+13</td>\n",
       "      <td>128337853</td>\n",
       "      <td>STK</td>\n",
       "      <td>8</td>\n",
       "      <td>2020-01-02</td>\n",
       "    </tr>\n",
       "    <tr>\n",
       "      <th>8</th>\n",
       "      <td>051910</td>\n",
       "      <td>LG화학</td>\n",
       "      <td>KOSPI</td>\n",
       "      <td>NaN</td>\n",
       "      <td>314000.0</td>\n",
       "      <td>2</td>\n",
       "      <td>-3500.0</td>\n",
       "      <td>-1.10</td>\n",
       "      <td>321000.0</td>\n",
       "      <td>321000.0</td>\n",
       "      <td>313500.0</td>\n",
       "      <td>139496.0</td>\n",
       "      <td>4.418112e+10</td>\n",
       "      <td>2.216600e+13</td>\n",
       "      <td>70592343</td>\n",
       "      <td>STK</td>\n",
       "      <td>9</td>\n",
       "      <td>2020-01-02</td>\n",
       "    </tr>\n",
       "    <tr>\n",
       "      <th>9</th>\n",
       "      <td>005490</td>\n",
       "      <td>POSCO</td>\n",
       "      <td>KOSPI</td>\n",
       "      <td>NaN</td>\n",
       "      <td>236000.0</td>\n",
       "      <td>2</td>\n",
       "      <td>-500.0</td>\n",
       "      <td>-0.21</td>\n",
       "      <td>236000.0</td>\n",
       "      <td>240000.0</td>\n",
       "      <td>234500.0</td>\n",
       "      <td>213578.0</td>\n",
       "      <td>5.061737e+10</td>\n",
       "      <td>2.057609e+13</td>\n",
       "      <td>87186835</td>\n",
       "      <td>STK</td>\n",
       "      <td>10</td>\n",
       "      <td>2020-01-02</td>\n",
       "    </tr>\n",
       "  </tbody>\n",
       "</table>\n",
       "</div>"
      ],
      "text/plain": [
       "     Code      Name Market Dept  ...      Stocks  MarketId  Rank       Date\n",
       "0  005930      삼성전자  KOSPI  NaN  ...  5969782550       STK     1 2020-01-02\n",
       "1  000660    SK하이닉스  KOSPI  NaN  ...   728002365       STK     2 2020-01-02\n",
       "2  005935     삼성전자우  KOSPI  NaN  ...   822886700       STK     3 2020-01-02\n",
       "3  035420     NAVER  KOSPI  NaN  ...   164813395       STK     4 2020-01-02\n",
       "4  207940  삼성바이오로직스  KOSPI  NaN  ...    66165000       STK     5 2020-01-02\n",
       "5  005380       현대차  KOSPI  NaN  ...   213668187       STK     6 2020-01-02\n",
       "6  012330     현대모비스  KOSPI  NaN  ...    95306694       STK     7 2020-01-02\n",
       "7  068270      셀트리온  KOSPI  NaN  ...   128337853       STK     8 2020-01-02\n",
       "8  051910      LG화학  KOSPI  NaN  ...    70592343       STK     9 2020-01-02\n",
       "9  005490     POSCO  KOSPI  NaN  ...    87186835       STK    10 2020-01-02\n",
       "\n",
       "[10 rows x 18 columns]"
      ]
     },
     "execution_count": 8,
     "metadata": {
      "tags": []
     },
     "output_type": "execute_result"
    }
   ],
   "source": [
    "# 2020년 데이터 CSV 읽기\n",
    "import pandas as pd\n",
    "\n",
    "df = pd.read_csv('marcap/data/marcap-2020.csv.gz', dtype={'Code':str}, parse_dates=['Date'])\n",
    "df.head(10)"
   ]
  },
  {
   "cell_type": "markdown",
   "metadata": {
    "id": "gC_C4G1hiNrR"
   },
   "source": [
    "2020년 1년치 데이터의 전체 건수는 다음과 같습니다"
   ]
  },
  {
   "cell_type": "code",
   "execution_count": 9,
   "metadata": {
    "colab": {
     "base_uri": "https://localhost:8080/"
    },
    "executionInfo": {
     "elapsed": 2569,
     "status": "ok",
     "timestamp": 1611244137136,
     "user": {
      "displayName": "Sean-June Lee",
      "photoUrl": "https://lh3.googleusercontent.com/a-/AOh14Gj6rvtcx9Gy8VOzzw2LH1hYtnxIuHBDw8qnYK9SAuY=s64",
      "userId": "12576390002043678893"
     },
     "user_tz": -540
    },
    "id": "bXoKMt0qiPFR",
    "outputId": "1170ea6d-abc4-4556-e32d-bf4c6d982f0b"
   },
   "outputs": [
    {
     "data": {
      "text/plain": [
       "585456"
      ]
     },
     "execution_count": 9,
     "metadata": {
      "tags": []
     },
     "output_type": "execute_result"
    }
   ],
   "source": [
    "len(df)"
   ]
  },
  {
   "cell_type": "markdown",
   "metadata": {
    "id": "k2qVeYOsiZgO"
   },
   "source": [
    "## 유틸리티 함수\n",
    "\n",
    "marcap 시가총액 데이터셋에는 데이터를 날짜별로 혹은 기간과 특정 종목을 지정하여 손쉽게 읽기 위한 유틸함수가 있습니다. <br>\n",
    "\n",
    "### marcap_data(start, end=None, code=None)\n",
    "지정한 기간 데이터 읽어옵니다. 종목코드(code)를 지정하면 해당 종목에 대한 데이터를 지정한 기간만큼 읽어 옵니다. 거래량(volume)이 0인 행(row)는 제거하고 반환합니다."
   ]
  },
  {
   "cell_type": "markdown",
   "metadata": {
    "id": "gaFt2Ikz3CVw"
   },
   "source": [
    "다음과 같이 import 하여 사용합니다.\n",
    "\n"
   ]
  },
  {
   "cell_type": "code",
   "execution_count": 10,
   "metadata": {
    "executionInfo": {
     "elapsed": 1985,
     "status": "ok",
     "timestamp": 1611244137137,
     "user": {
      "displayName": "Sean-June Lee",
      "photoUrl": "https://lh3.googleusercontent.com/a-/AOh14Gj6rvtcx9Gy8VOzzw2LH1hYtnxIuHBDw8qnYK9SAuY=s64",
      "userId": "12576390002043678893"
     },
     "user_tz": -540
    },
    "id": "Rv_Fc6bM3DyO"
   },
   "outputs": [],
   "source": [
    "from marcap import marcap_data"
   ]
  },
  {
   "cell_type": "markdown",
   "metadata": {
    "id": "J-0dA1rc27TD"
   },
   "source": [
    "### 특정 날짜를 지정하여 읽기"
   ]
  },
  {
   "cell_type": "code",
   "execution_count": 11,
   "metadata": {
    "colab": {
     "base_uri": "https://localhost:8080/"
    },
    "executionInfo": {
     "elapsed": 4009,
     "status": "ok",
     "timestamp": 1611244139721,
     "user": {
      "displayName": "Sean-June Lee",
      "photoUrl": "https://lh3.googleusercontent.com/a-/AOh14Gj6rvtcx9Gy8VOzzw2LH1hYtnxIuHBDw8qnYK9SAuY=s64",
      "userId": "12576390002043678893"
     },
     "user_tz": -540
    },
    "id": "P6gCP-7LiZgQ",
    "outputId": "f01d5490-f4ff-4952-bc92-f7854e66b677"
   },
   "outputs": [
    {
     "data": {
      "text/plain": [
       "2371"
      ]
     },
     "execution_count": 11,
     "metadata": {
      "tags": []
     },
     "output_type": "execute_result"
    }
   ],
   "source": [
    "df = marcap_data('2020-10-06')\n",
    "len(df)"
   ]
  },
  {
   "cell_type": "code",
   "execution_count": 12,
   "metadata": {
    "colab": {
     "base_uri": "https://localhost:8080/",
     "height": 234
    },
    "executionInfo": {
     "elapsed": 3516,
     "status": "ok",
     "timestamp": 1611244139723,
     "user": {
      "displayName": "Sean-June Lee",
      "photoUrl": "https://lh3.googleusercontent.com/a-/AOh14Gj6rvtcx9Gy8VOzzw2LH1hYtnxIuHBDw8qnYK9SAuY=s64",
      "userId": "12576390002043678893"
     },
     "user_tz": -540
    },
    "id": "1gDU6lSDiZgZ",
    "outputId": "44b64941-5077-413e-d89b-49b51abbbe1f"
   },
   "outputs": [
    {
     "data": {
      "text/html": [
       "<div>\n",
       "<style scoped>\n",
       "    .dataframe tbody tr th:only-of-type {\n",
       "        vertical-align: middle;\n",
       "    }\n",
       "\n",
       "    .dataframe tbody tr th {\n",
       "        vertical-align: top;\n",
       "    }\n",
       "\n",
       "    .dataframe thead th {\n",
       "        text-align: right;\n",
       "    }\n",
       "</style>\n",
       "<table border=\"1\" class=\"dataframe\">\n",
       "  <thead>\n",
       "    <tr style=\"text-align: right;\">\n",
       "      <th></th>\n",
       "      <th>Code</th>\n",
       "      <th>Name</th>\n",
       "      <th>Market</th>\n",
       "      <th>Dept</th>\n",
       "      <th>Close</th>\n",
       "      <th>ChangeCode</th>\n",
       "      <th>Changes</th>\n",
       "      <th>ChagesRatio</th>\n",
       "      <th>Open</th>\n",
       "      <th>High</th>\n",
       "      <th>Low</th>\n",
       "      <th>Volume</th>\n",
       "      <th>Amount</th>\n",
       "      <th>Marcap</th>\n",
       "      <th>Stocks</th>\n",
       "      <th>MarketId</th>\n",
       "      <th>Rank</th>\n",
       "    </tr>\n",
       "    <tr>\n",
       "      <th>Date</th>\n",
       "      <th></th>\n",
       "      <th></th>\n",
       "      <th></th>\n",
       "      <th></th>\n",
       "      <th></th>\n",
       "      <th></th>\n",
       "      <th></th>\n",
       "      <th></th>\n",
       "      <th></th>\n",
       "      <th></th>\n",
       "      <th></th>\n",
       "      <th></th>\n",
       "      <th></th>\n",
       "      <th></th>\n",
       "      <th></th>\n",
       "      <th></th>\n",
       "      <th></th>\n",
       "    </tr>\n",
       "  </thead>\n",
       "  <tbody>\n",
       "    <tr>\n",
       "      <th>2020-10-06</th>\n",
       "      <td>005930</td>\n",
       "      <td>삼성전자</td>\n",
       "      <td>KOSPI</td>\n",
       "      <td>NaN</td>\n",
       "      <td>59000</td>\n",
       "      <td>1</td>\n",
       "      <td>300</td>\n",
       "      <td>0.51</td>\n",
       "      <td>59400</td>\n",
       "      <td>59900</td>\n",
       "      <td>58700</td>\n",
       "      <td>14463826</td>\n",
       "      <td>856996117132</td>\n",
       "      <td>352217170450000</td>\n",
       "      <td>5969782550</td>\n",
       "      <td>STK</td>\n",
       "      <td>1</td>\n",
       "    </tr>\n",
       "    <tr>\n",
       "      <th>2020-10-06</th>\n",
       "      <td>000660</td>\n",
       "      <td>SK하이닉스</td>\n",
       "      <td>KOSPI</td>\n",
       "      <td>NaN</td>\n",
       "      <td>83000</td>\n",
       "      <td>2</td>\n",
       "      <td>-200</td>\n",
       "      <td>-0.24</td>\n",
       "      <td>84000</td>\n",
       "      <td>84200</td>\n",
       "      <td>82600</td>\n",
       "      <td>2750145</td>\n",
       "      <td>228785586609</td>\n",
       "      <td>60424196295000</td>\n",
       "      <td>728002365</td>\n",
       "      <td>STK</td>\n",
       "      <td>2</td>\n",
       "    </tr>\n",
       "    <tr>\n",
       "      <th>2020-10-06</th>\n",
       "      <td>035420</td>\n",
       "      <td>NAVER</td>\n",
       "      <td>KOSPI</td>\n",
       "      <td>NaN</td>\n",
       "      <td>305000</td>\n",
       "      <td>1</td>\n",
       "      <td>6500</td>\n",
       "      <td>2.18</td>\n",
       "      <td>299500</td>\n",
       "      <td>307500</td>\n",
       "      <td>296500</td>\n",
       "      <td>868540</td>\n",
       "      <td>262495639000</td>\n",
       "      <td>50100335475000</td>\n",
       "      <td>164263395</td>\n",
       "      <td>STK</td>\n",
       "      <td>3</td>\n",
       "    </tr>\n",
       "    <tr>\n",
       "      <th>2020-10-06</th>\n",
       "      <td>051910</td>\n",
       "      <td>LG화학</td>\n",
       "      <td>KOSPI</td>\n",
       "      <td>NaN</td>\n",
       "      <td>674000</td>\n",
       "      <td>1</td>\n",
       "      <td>15000</td>\n",
       "      <td>2.28</td>\n",
       "      <td>659000</td>\n",
       "      <td>680000</td>\n",
       "      <td>654000</td>\n",
       "      <td>451956</td>\n",
       "      <td>302244678000</td>\n",
       "      <td>47579239182000</td>\n",
       "      <td>70592343</td>\n",
       "      <td>STK</td>\n",
       "      <td>4</td>\n",
       "    </tr>\n",
       "    <tr>\n",
       "      <th>2020-10-06</th>\n",
       "      <td>207940</td>\n",
       "      <td>삼성바이오로직스</td>\n",
       "      <td>KOSPI</td>\n",
       "      <td>NaN</td>\n",
       "      <td>712000</td>\n",
       "      <td>1</td>\n",
       "      <td>27000</td>\n",
       "      <td>3.94</td>\n",
       "      <td>688000</td>\n",
       "      <td>714000</td>\n",
       "      <td>687000</td>\n",
       "      <td>101544</td>\n",
       "      <td>71496056000</td>\n",
       "      <td>47109480000000</td>\n",
       "      <td>66165000</td>\n",
       "      <td>STK</td>\n",
       "      <td>5</td>\n",
       "    </tr>\n",
       "  </tbody>\n",
       "</table>\n",
       "</div>"
      ],
      "text/plain": [
       "              Code      Name Market  ...      Stocks  MarketId Rank\n",
       "Date                                 ...                           \n",
       "2020-10-06  005930      삼성전자  KOSPI  ...  5969782550       STK    1\n",
       "2020-10-06  000660    SK하이닉스  KOSPI  ...   728002365       STK    2\n",
       "2020-10-06  035420     NAVER  KOSPI  ...   164263395       STK    3\n",
       "2020-10-06  051910      LG화학  KOSPI  ...    70592343       STK    4\n",
       "2020-10-06  207940  삼성바이오로직스  KOSPI  ...    66165000       STK    5\n",
       "\n",
       "[5 rows x 17 columns]"
      ]
     },
     "execution_count": 12,
     "metadata": {
      "tags": []
     },
     "output_type": "execute_result"
    }
   ],
   "source": [
    "df.head()"
   ]
  },
  {
   "cell_type": "markdown",
   "metadata": {
    "id": "TCtt4pUriZgf"
   },
   "source": [
    "### 기간을 지정하여 읽기 (2020년 1년간 전종목)"
   ]
  },
  {
   "cell_type": "code",
   "execution_count": 13,
   "metadata": {
    "colab": {
     "base_uri": "https://localhost:8080/"
    },
    "executionInfo": {
     "elapsed": 5703,
     "status": "ok",
     "timestamp": 1611244142637,
     "user": {
      "displayName": "Sean-June Lee",
      "photoUrl": "https://lh3.googleusercontent.com/a-/AOh14Gj6rvtcx9Gy8VOzzw2LH1hYtnxIuHBDw8qnYK9SAuY=s64",
      "userId": "12576390002043678893"
     },
     "user_tz": -540
    },
    "id": "2po6qc_O3I4U",
    "outputId": "131b92b7-935b-4195-f07d-a293e7bab7ad"
   },
   "outputs": [
    {
     "data": {
      "text/plain": [
       "585456"
      ]
     },
     "execution_count": 13,
     "metadata": {
      "tags": []
     },
     "output_type": "execute_result"
    }
   ],
   "source": [
    "df = marcap_data('2020-01-01', '2020-12-31')\n",
    "len(df)"
   ]
  },
  {
   "cell_type": "code",
   "execution_count": 14,
   "metadata": {
    "colab": {
     "base_uri": "https://localhost:8080/",
     "height": 234
    },
    "executionInfo": {
     "elapsed": 5142,
     "status": "ok",
     "timestamp": 1611244142639,
     "user": {
      "displayName": "Sean-June Lee",
      "photoUrl": "https://lh3.googleusercontent.com/a-/AOh14Gj6rvtcx9Gy8VOzzw2LH1hYtnxIuHBDw8qnYK9SAuY=s64",
      "userId": "12576390002043678893"
     },
     "user_tz": -540
    },
    "id": "fmhq2wUY3Oke",
    "outputId": "6bf06fc5-4177-479d-8897-bd3756b56957"
   },
   "outputs": [
    {
     "data": {
      "text/html": [
       "<div>\n",
       "<style scoped>\n",
       "    .dataframe tbody tr th:only-of-type {\n",
       "        vertical-align: middle;\n",
       "    }\n",
       "\n",
       "    .dataframe tbody tr th {\n",
       "        vertical-align: top;\n",
       "    }\n",
       "\n",
       "    .dataframe thead th {\n",
       "        text-align: right;\n",
       "    }\n",
       "</style>\n",
       "<table border=\"1\" class=\"dataframe\">\n",
       "  <thead>\n",
       "    <tr style=\"text-align: right;\">\n",
       "      <th></th>\n",
       "      <th>Code</th>\n",
       "      <th>Name</th>\n",
       "      <th>Market</th>\n",
       "      <th>Dept</th>\n",
       "      <th>Close</th>\n",
       "      <th>ChangeCode</th>\n",
       "      <th>Changes</th>\n",
       "      <th>ChagesRatio</th>\n",
       "      <th>Open</th>\n",
       "      <th>High</th>\n",
       "      <th>Low</th>\n",
       "      <th>Volume</th>\n",
       "      <th>Amount</th>\n",
       "      <th>Marcap</th>\n",
       "      <th>Stocks</th>\n",
       "      <th>MarketId</th>\n",
       "      <th>Rank</th>\n",
       "    </tr>\n",
       "    <tr>\n",
       "      <th>Date</th>\n",
       "      <th></th>\n",
       "      <th></th>\n",
       "      <th></th>\n",
       "      <th></th>\n",
       "      <th></th>\n",
       "      <th></th>\n",
       "      <th></th>\n",
       "      <th></th>\n",
       "      <th></th>\n",
       "      <th></th>\n",
       "      <th></th>\n",
       "      <th></th>\n",
       "      <th></th>\n",
       "      <th></th>\n",
       "      <th></th>\n",
       "      <th></th>\n",
       "      <th></th>\n",
       "    </tr>\n",
       "  </thead>\n",
       "  <tbody>\n",
       "    <tr>\n",
       "      <th>2020-01-02</th>\n",
       "      <td>005930</td>\n",
       "      <td>삼성전자</td>\n",
       "      <td>KOSPI</td>\n",
       "      <td>NaN</td>\n",
       "      <td>55200</td>\n",
       "      <td>2</td>\n",
       "      <td>-600</td>\n",
       "      <td>-1.08</td>\n",
       "      <td>55500</td>\n",
       "      <td>56000</td>\n",
       "      <td>55000</td>\n",
       "      <td>12993228</td>\n",
       "      <td>719663194492</td>\n",
       "      <td>329531996760000</td>\n",
       "      <td>5969782550</td>\n",
       "      <td>STK</td>\n",
       "      <td>1</td>\n",
       "    </tr>\n",
       "    <tr>\n",
       "      <th>2020-01-02</th>\n",
       "      <td>000660</td>\n",
       "      <td>SK하이닉스</td>\n",
       "      <td>KOSPI</td>\n",
       "      <td>NaN</td>\n",
       "      <td>94700</td>\n",
       "      <td>1</td>\n",
       "      <td>600</td>\n",
       "      <td>0.64</td>\n",
       "      <td>96000</td>\n",
       "      <td>96200</td>\n",
       "      <td>94100</td>\n",
       "      <td>2342070</td>\n",
       "      <td>222841408700</td>\n",
       "      <td>68941823965500</td>\n",
       "      <td>728002365</td>\n",
       "      <td>STK</td>\n",
       "      <td>2</td>\n",
       "    </tr>\n",
       "    <tr>\n",
       "      <th>2020-01-02</th>\n",
       "      <td>005935</td>\n",
       "      <td>삼성전자우</td>\n",
       "      <td>KOSPI</td>\n",
       "      <td>NaN</td>\n",
       "      <td>45600</td>\n",
       "      <td>1</td>\n",
       "      <td>200</td>\n",
       "      <td>0.44</td>\n",
       "      <td>45750</td>\n",
       "      <td>45950</td>\n",
       "      <td>45150</td>\n",
       "      <td>1512362</td>\n",
       "      <td>68943333400</td>\n",
       "      <td>37523633520000</td>\n",
       "      <td>822886700</td>\n",
       "      <td>STK</td>\n",
       "      <td>3</td>\n",
       "    </tr>\n",
       "    <tr>\n",
       "      <th>2020-01-02</th>\n",
       "      <td>035420</td>\n",
       "      <td>NAVER</td>\n",
       "      <td>KOSPI</td>\n",
       "      <td>NaN</td>\n",
       "      <td>182500</td>\n",
       "      <td>2</td>\n",
       "      <td>-4000</td>\n",
       "      <td>-2.14</td>\n",
       "      <td>187500</td>\n",
       "      <td>188000</td>\n",
       "      <td>182000</td>\n",
       "      <td>300640</td>\n",
       "      <td>55309555500</td>\n",
       "      <td>30078444587500</td>\n",
       "      <td>164813395</td>\n",
       "      <td>STK</td>\n",
       "      <td>4</td>\n",
       "    </tr>\n",
       "    <tr>\n",
       "      <th>2020-01-02</th>\n",
       "      <td>207940</td>\n",
       "      <td>삼성바이오로직스</td>\n",
       "      <td>KOSPI</td>\n",
       "      <td>NaN</td>\n",
       "      <td>428500</td>\n",
       "      <td>2</td>\n",
       "      <td>-4500</td>\n",
       "      <td>-1.04</td>\n",
       "      <td>433000</td>\n",
       "      <td>439500</td>\n",
       "      <td>425500</td>\n",
       "      <td>108281</td>\n",
       "      <td>46479752500</td>\n",
       "      <td>28351702500000</td>\n",
       "      <td>66165000</td>\n",
       "      <td>STK</td>\n",
       "      <td>5</td>\n",
       "    </tr>\n",
       "  </tbody>\n",
       "</table>\n",
       "</div>"
      ],
      "text/plain": [
       "              Code      Name Market  ...      Stocks  MarketId Rank\n",
       "Date                                 ...                           \n",
       "2020-01-02  005930      삼성전자  KOSPI  ...  5969782550       STK    1\n",
       "2020-01-02  000660    SK하이닉스  KOSPI  ...   728002365       STK    2\n",
       "2020-01-02  005935     삼성전자우  KOSPI  ...   822886700       STK    3\n",
       "2020-01-02  035420     NAVER  KOSPI  ...   164813395       STK    4\n",
       "2020-01-02  207940  삼성바이오로직스  KOSPI  ...    66165000       STK    5\n",
       "\n",
       "[5 rows x 17 columns]"
      ]
     },
     "execution_count": 14,
     "metadata": {
      "tags": []
     },
     "output_type": "execute_result"
    }
   ],
   "source": [
    "df.head()"
   ]
  },
  {
   "cell_type": "code",
   "execution_count": 15,
   "metadata": {
    "colab": {
     "base_uri": "https://localhost:8080/",
     "height": 234
    },
    "executionInfo": {
     "elapsed": 806,
     "status": "ok",
     "timestamp": 1611244146359,
     "user": {
      "displayName": "Sean-June Lee",
      "photoUrl": "https://lh3.googleusercontent.com/a-/AOh14Gj6rvtcx9Gy8VOzzw2LH1hYtnxIuHBDw8qnYK9SAuY=s64",
      "userId": "12576390002043678893"
     },
     "user_tz": -540
    },
    "id": "EcsvtSUPpaFF",
    "outputId": "e6e96227-5d85-4631-fccf-6c65cd6a97b4"
   },
   "outputs": [
    {
     "data": {
      "text/html": [
       "<div>\n",
       "<style scoped>\n",
       "    .dataframe tbody tr th:only-of-type {\n",
       "        vertical-align: middle;\n",
       "    }\n",
       "\n",
       "    .dataframe tbody tr th {\n",
       "        vertical-align: top;\n",
       "    }\n",
       "\n",
       "    .dataframe thead th {\n",
       "        text-align: right;\n",
       "    }\n",
       "</style>\n",
       "<table border=\"1\" class=\"dataframe\">\n",
       "  <thead>\n",
       "    <tr style=\"text-align: right;\">\n",
       "      <th></th>\n",
       "      <th>Code</th>\n",
       "      <th>Name</th>\n",
       "      <th>Market</th>\n",
       "      <th>Dept</th>\n",
       "      <th>Close</th>\n",
       "      <th>ChangeCode</th>\n",
       "      <th>Changes</th>\n",
       "      <th>ChagesRatio</th>\n",
       "      <th>Open</th>\n",
       "      <th>High</th>\n",
       "      <th>Low</th>\n",
       "      <th>Volume</th>\n",
       "      <th>Amount</th>\n",
       "      <th>Marcap</th>\n",
       "      <th>Stocks</th>\n",
       "      <th>MarketId</th>\n",
       "      <th>Rank</th>\n",
       "    </tr>\n",
       "    <tr>\n",
       "      <th>Date</th>\n",
       "      <th></th>\n",
       "      <th></th>\n",
       "      <th></th>\n",
       "      <th></th>\n",
       "      <th></th>\n",
       "      <th></th>\n",
       "      <th></th>\n",
       "      <th></th>\n",
       "      <th></th>\n",
       "      <th></th>\n",
       "      <th></th>\n",
       "      <th></th>\n",
       "      <th></th>\n",
       "      <th></th>\n",
       "      <th></th>\n",
       "      <th></th>\n",
       "      <th></th>\n",
       "    </tr>\n",
       "  </thead>\n",
       "  <tbody>\n",
       "    <tr>\n",
       "      <th>2020-12-30</th>\n",
       "      <td>240340</td>\n",
       "      <td>인터코스</td>\n",
       "      <td>KONEX</td>\n",
       "      <td>일반기업부</td>\n",
       "      <td>750</td>\n",
       "      <td>3</td>\n",
       "      <td>0</td>\n",
       "      <td>0.00</td>\n",
       "      <td>750</td>\n",
       "      <td>750</td>\n",
       "      <td>750</td>\n",
       "      <td>1</td>\n",
       "      <td>750</td>\n",
       "      <td>2509742250</td>\n",
       "      <td>3346323</td>\n",
       "      <td>KNX</td>\n",
       "      <td>2525</td>\n",
       "    </tr>\n",
       "    <tr>\n",
       "      <th>2020-12-30</th>\n",
       "      <td>242350</td>\n",
       "      <td>피엔아이컴퍼니</td>\n",
       "      <td>KONEX</td>\n",
       "      <td>일반기업부</td>\n",
       "      <td>414</td>\n",
       "      <td>2</td>\n",
       "      <td>-35</td>\n",
       "      <td>-7.80</td>\n",
       "      <td>445</td>\n",
       "      <td>445</td>\n",
       "      <td>397</td>\n",
       "      <td>12793</td>\n",
       "      <td>5202747</td>\n",
       "      <td>1971269280</td>\n",
       "      <td>4761520</td>\n",
       "      <td>KNX</td>\n",
       "      <td>2527</td>\n",
       "    </tr>\n",
       "    <tr>\n",
       "      <th>2020-12-30</th>\n",
       "      <td>224020</td>\n",
       "      <td>에스케이씨에스</td>\n",
       "      <td>KONEX</td>\n",
       "      <td>일반기업부</td>\n",
       "      <td>680</td>\n",
       "      <td>1</td>\n",
       "      <td>80</td>\n",
       "      <td>13.33</td>\n",
       "      <td>680</td>\n",
       "      <td>680</td>\n",
       "      <td>680</td>\n",
       "      <td>430</td>\n",
       "      <td>292400</td>\n",
       "      <td>1836000000</td>\n",
       "      <td>2700000</td>\n",
       "      <td>KNX</td>\n",
       "      <td>2529</td>\n",
       "    </tr>\n",
       "    <tr>\n",
       "      <th>2020-12-30</th>\n",
       "      <td>179720</td>\n",
       "      <td>옐로페이</td>\n",
       "      <td>KONEX</td>\n",
       "      <td>일반기업부</td>\n",
       "      <td>2430</td>\n",
       "      <td>4</td>\n",
       "      <td>315</td>\n",
       "      <td>14.89</td>\n",
       "      <td>2400</td>\n",
       "      <td>2430</td>\n",
       "      <td>2400</td>\n",
       "      <td>300</td>\n",
       "      <td>728850</td>\n",
       "      <td>1796985000</td>\n",
       "      <td>739500</td>\n",
       "      <td>KNX</td>\n",
       "      <td>2530</td>\n",
       "    </tr>\n",
       "    <tr>\n",
       "      <th>2020-12-30</th>\n",
       "      <td>225860</td>\n",
       "      <td>엠앤씨생명과학</td>\n",
       "      <td>KONEX</td>\n",
       "      <td>일반기업부</td>\n",
       "      <td>144</td>\n",
       "      <td>1</td>\n",
       "      <td>2</td>\n",
       "      <td>1.41</td>\n",
       "      <td>128</td>\n",
       "      <td>154</td>\n",
       "      <td>128</td>\n",
       "      <td>3329</td>\n",
       "      <td>475447</td>\n",
       "      <td>1635565248</td>\n",
       "      <td>11358092</td>\n",
       "      <td>KNX</td>\n",
       "      <td>2531</td>\n",
       "    </tr>\n",
       "  </tbody>\n",
       "</table>\n",
       "</div>"
      ],
      "text/plain": [
       "              Code     Name Market   Dept  ...      Marcap    Stocks  MarketId  Rank\n",
       "Date                                       ...                                      \n",
       "2020-12-30  240340     인터코스  KONEX  일반기업부  ...  2509742250   3346323       KNX  2525\n",
       "2020-12-30  242350  피엔아이컴퍼니  KONEX  일반기업부  ...  1971269280   4761520       KNX  2527\n",
       "2020-12-30  224020  에스케이씨에스  KONEX  일반기업부  ...  1836000000   2700000       KNX  2529\n",
       "2020-12-30  179720     옐로페이  KONEX  일반기업부  ...  1796985000    739500       KNX  2530\n",
       "2020-12-30  225860  엠앤씨생명과학  KONEX  일반기업부  ...  1635565248  11358092       KNX  2531\n",
       "\n",
       "[5 rows x 17 columns]"
      ]
     },
     "execution_count": 15,
     "metadata": {
      "tags": []
     },
     "output_type": "execute_result"
    }
   ],
   "source": [
    "df.tail()"
   ]
  },
  {
   "cell_type": "markdown",
   "metadata": {
    "id": "tBwIipW3iZgr"
   },
   "source": [
    "### 기간을 지정하여, 특정 종목 읽기 (2020년 1년간 특정 종목)\n"
   ]
  },
  {
   "cell_type": "code",
   "execution_count": 16,
   "metadata": {
    "colab": {
     "base_uri": "https://localhost:8080/"
    },
    "executionInfo": {
     "elapsed": 3345,
     "status": "ok",
     "timestamp": 1611244150457,
     "user": {
      "displayName": "Sean-June Lee",
      "photoUrl": "https://lh3.googleusercontent.com/a-/AOh14Gj6rvtcx9Gy8VOzzw2LH1hYtnxIuHBDw8qnYK9SAuY=s64",
      "userId": "12576390002043678893"
     },
     "user_tz": -540
    },
    "id": "ugkBkqr-3NZO",
    "outputId": "27f135aa-ce06-4d20-b5c1-1238df0c502c"
   },
   "outputs": [
    {
     "data": {
      "text/plain": [
       "248"
      ]
     },
     "execution_count": 16,
     "metadata": {
      "tags": []
     },
     "output_type": "execute_result"
    }
   ],
   "source": [
    "df = marcap_data('2020-01-01', '2020-12-31', code='005930')\n",
    "len(df)"
   ]
  },
  {
   "cell_type": "code",
   "execution_count": 17,
   "metadata": {
    "colab": {
     "base_uri": "https://localhost:8080/",
     "height": 389
    },
    "executionInfo": {
     "elapsed": 695,
     "status": "ok",
     "timestamp": 1611244151835,
     "user": {
      "displayName": "Sean-June Lee",
      "photoUrl": "https://lh3.googleusercontent.com/a-/AOh14Gj6rvtcx9Gy8VOzzw2LH1hYtnxIuHBDw8qnYK9SAuY=s64",
      "userId": "12576390002043678893"
     },
     "user_tz": -540
    },
    "id": "wuVx71L2iZgx",
    "outputId": "2135aa9b-4262-4821-c9a7-c8ac11abd603"
   },
   "outputs": [
    {
     "data": {
      "text/html": [
       "<div>\n",
       "<style scoped>\n",
       "    .dataframe tbody tr th:only-of-type {\n",
       "        vertical-align: middle;\n",
       "    }\n",
       "\n",
       "    .dataframe tbody tr th {\n",
       "        vertical-align: top;\n",
       "    }\n",
       "\n",
       "    .dataframe thead th {\n",
       "        text-align: right;\n",
       "    }\n",
       "</style>\n",
       "<table border=\"1\" class=\"dataframe\">\n",
       "  <thead>\n",
       "    <tr style=\"text-align: right;\">\n",
       "      <th></th>\n",
       "      <th>Code</th>\n",
       "      <th>Name</th>\n",
       "      <th>Close</th>\n",
       "      <th>Volume</th>\n",
       "      <th>Marcap</th>\n",
       "      <th>Stocks</th>\n",
       "    </tr>\n",
       "    <tr>\n",
       "      <th>Date</th>\n",
       "      <th></th>\n",
       "      <th></th>\n",
       "      <th></th>\n",
       "      <th></th>\n",
       "      <th></th>\n",
       "      <th></th>\n",
       "    </tr>\n",
       "  </thead>\n",
       "  <tbody>\n",
       "    <tr>\n",
       "      <th>2020-01-02</th>\n",
       "      <td>005930</td>\n",
       "      <td>삼성전자</td>\n",
       "      <td>55200</td>\n",
       "      <td>12993228</td>\n",
       "      <td>329531996760000</td>\n",
       "      <td>5969782550</td>\n",
       "    </tr>\n",
       "    <tr>\n",
       "      <th>2020-01-03</th>\n",
       "      <td>005930</td>\n",
       "      <td>삼성전자</td>\n",
       "      <td>55500</td>\n",
       "      <td>15422255</td>\n",
       "      <td>331322931525000</td>\n",
       "      <td>5969782550</td>\n",
       "    </tr>\n",
       "    <tr>\n",
       "      <th>2020-01-06</th>\n",
       "      <td>005930</td>\n",
       "      <td>삼성전자</td>\n",
       "      <td>55500</td>\n",
       "      <td>10278951</td>\n",
       "      <td>331322931525000</td>\n",
       "      <td>5969782550</td>\n",
       "    </tr>\n",
       "    <tr>\n",
       "      <th>2020-01-07</th>\n",
       "      <td>005930</td>\n",
       "      <td>삼성전자</td>\n",
       "      <td>55800</td>\n",
       "      <td>10009778</td>\n",
       "      <td>333113866290000</td>\n",
       "      <td>5969782550</td>\n",
       "    </tr>\n",
       "    <tr>\n",
       "      <th>2020-01-08</th>\n",
       "      <td>005930</td>\n",
       "      <td>삼성전자</td>\n",
       "      <td>56800</td>\n",
       "      <td>23501171</td>\n",
       "      <td>339083648840000</td>\n",
       "      <td>5969782550</td>\n",
       "    </tr>\n",
       "    <tr>\n",
       "      <th>2020-01-09</th>\n",
       "      <td>005930</td>\n",
       "      <td>삼성전자</td>\n",
       "      <td>58600</td>\n",
       "      <td>24102579</td>\n",
       "      <td>349829257430000</td>\n",
       "      <td>5969782550</td>\n",
       "    </tr>\n",
       "    <tr>\n",
       "      <th>2020-01-10</th>\n",
       "      <td>005930</td>\n",
       "      <td>삼성전자</td>\n",
       "      <td>59500</td>\n",
       "      <td>16000170</td>\n",
       "      <td>355202061725000</td>\n",
       "      <td>5969782550</td>\n",
       "    </tr>\n",
       "    <tr>\n",
       "      <th>2020-01-13</th>\n",
       "      <td>005930</td>\n",
       "      <td>삼성전자</td>\n",
       "      <td>60000</td>\n",
       "      <td>11359139</td>\n",
       "      <td>358186953000000</td>\n",
       "      <td>5969782550</td>\n",
       "    </tr>\n",
       "    <tr>\n",
       "      <th>2020-01-14</th>\n",
       "      <td>005930</td>\n",
       "      <td>삼성전자</td>\n",
       "      <td>60000</td>\n",
       "      <td>16906295</td>\n",
       "      <td>358186953000000</td>\n",
       "      <td>5969782550</td>\n",
       "    </tr>\n",
       "    <tr>\n",
       "      <th>2020-01-15</th>\n",
       "      <td>005930</td>\n",
       "      <td>삼성전자</td>\n",
       "      <td>59000</td>\n",
       "      <td>14300928</td>\n",
       "      <td>352217170450000</td>\n",
       "      <td>5969782550</td>\n",
       "    </tr>\n",
       "  </tbody>\n",
       "</table>\n",
       "</div>"
      ],
      "text/plain": [
       "              Code  Name  Close    Volume           Marcap      Stocks\n",
       "Date                                                                  \n",
       "2020-01-02  005930  삼성전자  55200  12993228  329531996760000  5969782550\n",
       "2020-01-03  005930  삼성전자  55500  15422255  331322931525000  5969782550\n",
       "2020-01-06  005930  삼성전자  55500  10278951  331322931525000  5969782550\n",
       "2020-01-07  005930  삼성전자  55800  10009778  333113866290000  5969782550\n",
       "2020-01-08  005930  삼성전자  56800  23501171  339083648840000  5969782550\n",
       "2020-01-09  005930  삼성전자  58600  24102579  349829257430000  5969782550\n",
       "2020-01-10  005930  삼성전자  59500  16000170  355202061725000  5969782550\n",
       "2020-01-13  005930  삼성전자  60000  11359139  358186953000000  5969782550\n",
       "2020-01-14  005930  삼성전자  60000  16906295  358186953000000  5969782550\n",
       "2020-01-15  005930  삼성전자  59000  14300928  352217170450000  5969782550"
      ]
     },
     "execution_count": 17,
     "metadata": {
      "tags": []
     },
     "output_type": "execute_result"
    }
   ],
   "source": [
    "df[['Code', 'Name', 'Close', 'Volume', 'Marcap', 'Stocks']].head(10)"
   ]
  },
  {
   "cell_type": "code",
   "execution_count": 18,
   "metadata": {
    "colab": {
     "base_uri": "https://localhost:8080/",
     "height": 110
    },
    "executionInfo": {
     "elapsed": 3101,
     "status": "ok",
     "timestamp": 1611244155678,
     "user": {
      "displayName": "Sean-June Lee",
      "photoUrl": "https://lh3.googleusercontent.com/a-/AOh14Gj6rvtcx9Gy8VOzzw2LH1hYtnxIuHBDw8qnYK9SAuY=s64",
      "userId": "12576390002043678893"
     },
     "user_tz": -540
    },
    "id": "oPmXikSTmenm",
    "outputId": "16418321-309d-4928-ed7d-360a520b390d"
   },
   "outputs": [
    {
     "data": {
      "text/html": [
       "<div>\n",
       "<style scoped>\n",
       "    .dataframe tbody tr th:only-of-type {\n",
       "        vertical-align: middle;\n",
       "    }\n",
       "\n",
       "    .dataframe tbody tr th {\n",
       "        vertical-align: top;\n",
       "    }\n",
       "\n",
       "    .dataframe thead th {\n",
       "        text-align: right;\n",
       "    }\n",
       "</style>\n",
       "<table border=\"1\" class=\"dataframe\">\n",
       "  <thead>\n",
       "    <tr style=\"text-align: right;\">\n",
       "      <th></th>\n",
       "      <th>Code</th>\n",
       "      <th>Name</th>\n",
       "      <th>Market</th>\n",
       "      <th>Dept</th>\n",
       "      <th>Close</th>\n",
       "      <th>ChangeCode</th>\n",
       "      <th>Changes</th>\n",
       "      <th>ChagesRatio</th>\n",
       "      <th>Open</th>\n",
       "      <th>High</th>\n",
       "      <th>Low</th>\n",
       "      <th>Volume</th>\n",
       "      <th>Amount</th>\n",
       "      <th>Marcap</th>\n",
       "      <th>Stocks</th>\n",
       "      <th>MarketId</th>\n",
       "      <th>Rank</th>\n",
       "    </tr>\n",
       "    <tr>\n",
       "      <th>Date</th>\n",
       "      <th></th>\n",
       "      <th></th>\n",
       "      <th></th>\n",
       "      <th></th>\n",
       "      <th></th>\n",
       "      <th></th>\n",
       "      <th></th>\n",
       "      <th></th>\n",
       "      <th></th>\n",
       "      <th></th>\n",
       "      <th></th>\n",
       "      <th></th>\n",
       "      <th></th>\n",
       "      <th></th>\n",
       "      <th></th>\n",
       "      <th></th>\n",
       "      <th></th>\n",
       "    </tr>\n",
       "  </thead>\n",
       "  <tbody>\n",
       "    <tr>\n",
       "      <th>2020-01-02</th>\n",
       "      <td>005930</td>\n",
       "      <td>삼성전자</td>\n",
       "      <td>KOSPI</td>\n",
       "      <td>NaN</td>\n",
       "      <td>55200</td>\n",
       "      <td>2</td>\n",
       "      <td>-600</td>\n",
       "      <td>-1.08</td>\n",
       "      <td>55500</td>\n",
       "      <td>56000</td>\n",
       "      <td>55000</td>\n",
       "      <td>12993228</td>\n",
       "      <td>719663194492</td>\n",
       "      <td>329531996760000</td>\n",
       "      <td>5969782550</td>\n",
       "      <td>STK</td>\n",
       "      <td>1</td>\n",
       "    </tr>\n",
       "  </tbody>\n",
       "</table>\n",
       "</div>"
      ],
      "text/plain": [
       "              Code  Name Market  ...      Stocks  MarketId Rank\n",
       "Date                             ...                           \n",
       "2020-01-02  005930  삼성전자  KOSPI  ...  5969782550       STK    1\n",
       "\n",
       "[1 rows x 17 columns]"
      ]
     },
     "execution_count": 18,
     "metadata": {
      "tags": []
     },
     "output_type": "execute_result"
    }
   ],
   "source": [
    "# 특정일, 특정 종목 읽기\n",
    "marcap_data('2020-01-02', code='005930')"
   ]
  },
  {
   "cell_type": "markdown",
   "metadata": {
    "id": "iKUWlm4IiZhB"
   },
   "source": [
    "## 데이터 전체 읽기\n",
    "시가총액(marcap) 데이터셋은 1995-05-02 ~ 2021-01-15일까지 25년 데이터를 모두  읽어들이려면 다음과 같이 읽습니다.\n"
   ]
  },
  {
   "cell_type": "code",
   "execution_count": 50,
   "metadata": {
    "colab": {
     "base_uri": "https://localhost:8080/",
     "height": 448
    },
    "executionInfo": {
     "elapsed": 60081,
     "status": "ok",
     "timestamp": 1611245805051,
     "user": {
      "displayName": "Sean-June Lee",
      "photoUrl": "https://lh3.googleusercontent.com/a-/AOh14Gj6rvtcx9Gy8VOzzw2LH1hYtnxIuHBDw8qnYK9SAuY=s64",
      "userId": "12576390002043678893"
     },
     "user_tz": -540
    },
    "id": "P9hrtHXgiZhC",
    "outputId": "eeb2a0e5-346e-4cdf-ca1f-2d75485c3be7"
   },
   "outputs": [
    {
     "data": {
      "text/html": [
       "<div>\n",
       "<style scoped>\n",
       "    .dataframe tbody tr th:only-of-type {\n",
       "        vertical-align: middle;\n",
       "    }\n",
       "\n",
       "    .dataframe tbody tr th {\n",
       "        vertical-align: top;\n",
       "    }\n",
       "\n",
       "    .dataframe thead th {\n",
       "        text-align: right;\n",
       "    }\n",
       "</style>\n",
       "<table border=\"1\" class=\"dataframe\">\n",
       "  <thead>\n",
       "    <tr style=\"text-align: right;\">\n",
       "      <th></th>\n",
       "      <th>Code</th>\n",
       "      <th>Name</th>\n",
       "      <th>Market</th>\n",
       "      <th>Dept</th>\n",
       "      <th>Close</th>\n",
       "      <th>ChangeCode</th>\n",
       "      <th>Changes</th>\n",
       "      <th>ChagesRatio</th>\n",
       "      <th>Open</th>\n",
       "      <th>High</th>\n",
       "      <th>Low</th>\n",
       "      <th>Volume</th>\n",
       "      <th>Amount</th>\n",
       "      <th>Marcap</th>\n",
       "      <th>Stocks</th>\n",
       "      <th>MarketId</th>\n",
       "      <th>Rank</th>\n",
       "    </tr>\n",
       "    <tr>\n",
       "      <th>Date</th>\n",
       "      <th></th>\n",
       "      <th></th>\n",
       "      <th></th>\n",
       "      <th></th>\n",
       "      <th></th>\n",
       "      <th></th>\n",
       "      <th></th>\n",
       "      <th></th>\n",
       "      <th></th>\n",
       "      <th></th>\n",
       "      <th></th>\n",
       "      <th></th>\n",
       "      <th></th>\n",
       "      <th></th>\n",
       "      <th></th>\n",
       "      <th></th>\n",
       "      <th></th>\n",
       "    </tr>\n",
       "  </thead>\n",
       "  <tbody>\n",
       "    <tr>\n",
       "      <th>1995-05-02</th>\n",
       "      <td>015760</td>\n",
       "      <td>한국전력공사</td>\n",
       "      <td>KOSPI</td>\n",
       "      <td>NaN</td>\n",
       "      <td>27400</td>\n",
       "      <td>2</td>\n",
       "      <td>-400</td>\n",
       "      <td>-1.4</td>\n",
       "      <td>27600</td>\n",
       "      <td>27800</td>\n",
       "      <td>27400</td>\n",
       "      <td>118190</td>\n",
       "      <td>3255694000</td>\n",
       "      <td>16872679291000</td>\n",
       "      <td>615791215</td>\n",
       "      <td>STK</td>\n",
       "      <td>1</td>\n",
       "    </tr>\n",
       "    <tr>\n",
       "      <th>1995-05-02</th>\n",
       "      <td>005930</td>\n",
       "      <td>삼성전자</td>\n",
       "      <td>KOSPI</td>\n",
       "      <td>NaN</td>\n",
       "      <td>119500</td>\n",
       "      <td>2</td>\n",
       "      <td>-1000</td>\n",
       "      <td>-0.8</td>\n",
       "      <td>121000</td>\n",
       "      <td>121000</td>\n",
       "      <td>118500</td>\n",
       "      <td>139560</td>\n",
       "      <td>16676735000</td>\n",
       "      <td>6497053077500</td>\n",
       "      <td>54368645</td>\n",
       "      <td>STK</td>\n",
       "      <td>2</td>\n",
       "    </tr>\n",
       "    <tr>\n",
       "      <th>1995-05-02</th>\n",
       "      <td>005490</td>\n",
       "      <td>포항종합제철</td>\n",
       "      <td>KOSPI</td>\n",
       "      <td>NaN</td>\n",
       "      <td>65500</td>\n",
       "      <td>2</td>\n",
       "      <td>-300</td>\n",
       "      <td>-0.5</td>\n",
       "      <td>65800</td>\n",
       "      <td>66200</td>\n",
       "      <td>65400</td>\n",
       "      <td>65970</td>\n",
       "      <td>4334472000</td>\n",
       "      <td>6150568555000</td>\n",
       "      <td>93901810</td>\n",
       "      <td>STK</td>\n",
       "      <td>3</td>\n",
       "    </tr>\n",
       "    <tr>\n",
       "      <th>1995-05-02</th>\n",
       "      <td>000200</td>\n",
       "      <td>대우중공업</td>\n",
       "      <td>KOSPI</td>\n",
       "      <td>NaN</td>\n",
       "      <td>9800</td>\n",
       "      <td>1</td>\n",
       "      <td>300</td>\n",
       "      <td>3.2</td>\n",
       "      <td>9500</td>\n",
       "      <td>9840</td>\n",
       "      <td>9500</td>\n",
       "      <td>288380</td>\n",
       "      <td>2805133500</td>\n",
       "      <td>3500638978200</td>\n",
       "      <td>357208059</td>\n",
       "      <td>STK</td>\n",
       "      <td>4</td>\n",
       "    </tr>\n",
       "    <tr>\n",
       "      <th>1995-05-02</th>\n",
       "      <td>002610</td>\n",
       "      <td>엘지전자</td>\n",
       "      <td>KOSPI</td>\n",
       "      <td>NaN</td>\n",
       "      <td>31700</td>\n",
       "      <td>2</td>\n",
       "      <td>-300</td>\n",
       "      <td>-0.9</td>\n",
       "      <td>32000</td>\n",
       "      <td>32000</td>\n",
       "      <td>31700</td>\n",
       "      <td>171460</td>\n",
       "      <td>5452050000</td>\n",
       "      <td>2521027012200</td>\n",
       "      <td>79527666</td>\n",
       "      <td>STK</td>\n",
       "      <td>5</td>\n",
       "    </tr>\n",
       "    <tr>\n",
       "      <th>...</th>\n",
       "      <td>...</td>\n",
       "      <td>...</td>\n",
       "      <td>...</td>\n",
       "      <td>...</td>\n",
       "      <td>...</td>\n",
       "      <td>...</td>\n",
       "      <td>...</td>\n",
       "      <td>...</td>\n",
       "      <td>...</td>\n",
       "      <td>...</td>\n",
       "      <td>...</td>\n",
       "      <td>...</td>\n",
       "      <td>...</td>\n",
       "      <td>...</td>\n",
       "      <td>...</td>\n",
       "      <td>...</td>\n",
       "      <td>...</td>\n",
       "    </tr>\n",
       "    <tr>\n",
       "      <th>2021-01-15</th>\n",
       "      <td>267810</td>\n",
       "      <td>앙츠</td>\n",
       "      <td>KONEX</td>\n",
       "      <td>일반기업부</td>\n",
       "      <td>1550</td>\n",
       "      <td>2</td>\n",
       "      <td>-250</td>\n",
       "      <td>-13.9</td>\n",
       "      <td>1550</td>\n",
       "      <td>1600</td>\n",
       "      <td>1550</td>\n",
       "      <td>1504</td>\n",
       "      <td>2331610</td>\n",
       "      <td>2397850000</td>\n",
       "      <td>1547000</td>\n",
       "      <td>KNX</td>\n",
       "      <td>2525</td>\n",
       "    </tr>\n",
       "    <tr>\n",
       "      <th>2021-01-15</th>\n",
       "      <td>225850</td>\n",
       "      <td>미애부</td>\n",
       "      <td>KONEX</td>\n",
       "      <td>일반기업부</td>\n",
       "      <td>670</td>\n",
       "      <td>3</td>\n",
       "      <td>0</td>\n",
       "      <td>0.0</td>\n",
       "      <td>670</td>\n",
       "      <td>670</td>\n",
       "      <td>670</td>\n",
       "      <td>50</td>\n",
       "      <td>33500</td>\n",
       "      <td>2232663110</td>\n",
       "      <td>3332333</td>\n",
       "      <td>KNX</td>\n",
       "      <td>2526</td>\n",
       "    </tr>\n",
       "    <tr>\n",
       "      <th>2021-01-15</th>\n",
       "      <td>224020</td>\n",
       "      <td>에스케이씨에스</td>\n",
       "      <td>KONEX</td>\n",
       "      <td>일반기업부</td>\n",
       "      <td>650</td>\n",
       "      <td>1</td>\n",
       "      <td>70</td>\n",
       "      <td>12.1</td>\n",
       "      <td>650</td>\n",
       "      <td>650</td>\n",
       "      <td>650</td>\n",
       "      <td>1</td>\n",
       "      <td>650</td>\n",
       "      <td>1998750000</td>\n",
       "      <td>3075000</td>\n",
       "      <td>KNX</td>\n",
       "      <td>2528</td>\n",
       "    </tr>\n",
       "    <tr>\n",
       "      <th>2021-01-15</th>\n",
       "      <td>179720</td>\n",
       "      <td>옐로페이</td>\n",
       "      <td>KONEX</td>\n",
       "      <td>일반기업부</td>\n",
       "      <td>2470</td>\n",
       "      <td>1</td>\n",
       "      <td>270</td>\n",
       "      <td>12.3</td>\n",
       "      <td>2470</td>\n",
       "      <td>2470</td>\n",
       "      <td>2470</td>\n",
       "      <td>10</td>\n",
       "      <td>24700</td>\n",
       "      <td>1826565000</td>\n",
       "      <td>739500</td>\n",
       "      <td>KNX</td>\n",
       "      <td>2529</td>\n",
       "    </tr>\n",
       "    <tr>\n",
       "      <th>2021-01-15</th>\n",
       "      <td>225860</td>\n",
       "      <td>엠앤씨생명과학</td>\n",
       "      <td>KONEX</td>\n",
       "      <td>일반기업부</td>\n",
       "      <td>90</td>\n",
       "      <td>2</td>\n",
       "      <td>-7</td>\n",
       "      <td>-7.2</td>\n",
       "      <td>108</td>\n",
       "      <td>111</td>\n",
       "      <td>83</td>\n",
       "      <td>336120</td>\n",
       "      <td>31697850</td>\n",
       "      <td>1022228280</td>\n",
       "      <td>11358092</td>\n",
       "      <td>KNX</td>\n",
       "      <td>2530</td>\n",
       "    </tr>\n",
       "  </tbody>\n",
       "</table>\n",
       "<p>11099879 rows × 17 columns</p>\n",
       "</div>"
      ],
      "text/plain": [
       "              Code     Name Market  ...     Stocks  MarketId  Rank\n",
       "Date                                ...                           \n",
       "1995-05-02  015760   한국전력공사  KOSPI  ...  615791215       STK     1\n",
       "1995-05-02  005930     삼성전자  KOSPI  ...   54368645       STK     2\n",
       "1995-05-02  005490   포항종합제철  KOSPI  ...   93901810       STK     3\n",
       "1995-05-02  000200    대우중공업  KOSPI  ...  357208059       STK     4\n",
       "1995-05-02  002610     엘지전자  KOSPI  ...   79527666       STK     5\n",
       "...            ...      ...    ...  ...        ...       ...   ...\n",
       "2021-01-15  267810       앙츠  KONEX  ...    1547000       KNX  2525\n",
       "2021-01-15  225850      미애부  KONEX  ...    3332333       KNX  2526\n",
       "2021-01-15  224020  에스케이씨에스  KONEX  ...    3075000       KNX  2528\n",
       "2021-01-15  179720     옐로페이  KONEX  ...     739500       KNX  2529\n",
       "2021-01-15  225860  엠앤씨생명과학  KONEX  ...   11358092       KNX  2530\n",
       "\n",
       "[11099879 rows x 17 columns]"
      ]
     },
     "execution_count": 50,
     "metadata": {
      "tags": []
     },
     "output_type": "execute_result"
    }
   ],
   "source": [
    "df_marcap = marcap_data('1995-05-02', '2021-01-15')\n",
    "df_marcap"
   ]
  },
  {
   "cell_type": "markdown",
   "metadata": {
    "id": "tb9giRKVO65D"
   },
   "source": [
    "인덱스(DatetimeIndex)포함 18개의 컬럼을 가지고 있으며, 1천만건이 넘는 데이터 건수를 포함하고 있습니다. "
   ]
  },
  {
   "cell_type": "code",
   "execution_count": 51,
   "metadata": {
    "colab": {
     "base_uri": "https://localhost:8080/"
    },
    "executionInfo": {
     "elapsed": 49675,
     "status": "ok",
     "timestamp": 1611245805053,
     "user": {
      "displayName": "Sean-June Lee",
      "photoUrl": "https://lh3.googleusercontent.com/a-/AOh14Gj6rvtcx9Gy8VOzzw2LH1hYtnxIuHBDw8qnYK9SAuY=s64",
      "userId": "12576390002043678893"
     },
     "user_tz": -540
    },
    "id": "Mq0ElBDQiZhD",
    "outputId": "e33c558b-6cfe-4145-e722-53a95c264f96"
   },
   "outputs": [
    {
     "data": {
      "text/plain": [
       "11099879"
      ]
     },
     "execution_count": 51,
     "metadata": {
      "tags": []
     },
     "output_type": "execute_result"
    }
   ],
   "source": [
    "len(df_marcap)"
   ]
  },
  {
   "cell_type": "markdown",
   "metadata": {
    "id": "4I0H9Mdt3-zm"
   },
   "source": [
    "데이터프레임에 대한 전반적인 정보는 다음과 같습니다"
   ]
  },
  {
   "cell_type": "code",
   "execution_count": 52,
   "metadata": {
    "colab": {
     "base_uri": "https://localhost:8080/"
    },
    "executionInfo": {
     "elapsed": 48302,
     "status": "ok",
     "timestamp": 1611245805053,
     "user": {
      "displayName": "Sean-June Lee",
      "photoUrl": "https://lh3.googleusercontent.com/a-/AOh14Gj6rvtcx9Gy8VOzzw2LH1hYtnxIuHBDw8qnYK9SAuY=s64",
      "userId": "12576390002043678893"
     },
     "user_tz": -540
    },
    "id": "7QurkS62iZhH",
    "outputId": "215930c0-2e50-4999-85ae-bf987459e930"
   },
   "outputs": [
    {
     "name": "stdout",
     "output_type": "stream",
     "text": [
      "<class 'pandas.core.frame.DataFrame'>\n",
      "DatetimeIndex: 11099879 entries, 1995-05-02 to 2021-01-15\n",
      "Data columns (total 17 columns):\n",
      " #   Column       Dtype  \n",
      "---  ------       -----  \n",
      " 0   Code         object \n",
      " 1   Name         object \n",
      " 2   Market       object \n",
      " 3   Dept         object \n",
      " 4   Close        int64  \n",
      " 5   ChangeCode   object \n",
      " 6   Changes      int64  \n",
      " 7   ChagesRatio  float64\n",
      " 8   Open         int64  \n",
      " 9   High         int64  \n",
      " 10  Low          int64  \n",
      " 11  Volume       int64  \n",
      " 12  Amount       int64  \n",
      " 13  Marcap       int64  \n",
      " 14  Stocks       int64  \n",
      " 15  MarketId     object \n",
      " 16  Rank         int64  \n",
      "dtypes: float64(1), int64(10), object(6)\n",
      "memory usage: 1.5+ GB\n"
     ]
    }
   ],
   "source": [
    "df_marcap.info()"
   ]
  },
  {
   "cell_type": "markdown",
   "metadata": {
    "id": "caeoXBroO65E"
   },
   "source": [
    "## 필터링\n",
    "\n",
    "특정 종목에 대한 데이터만 추출하려면 다음과 같이 할 수 있습니다.\n",
    "\n",
    "종목코드가 '005930'(삼성전자)인 데이터 만 추출하려면 다음과 같이 합니다. "
   ]
  },
  {
   "cell_type": "code",
   "execution_count": 53,
   "metadata": {
    "colab": {
     "base_uri": "https://localhost:8080/"
    },
    "executionInfo": {
     "elapsed": 45941,
     "status": "ok",
     "timestamp": 1611245805055,
     "user": {
      "displayName": "Sean-June Lee",
      "photoUrl": "https://lh3.googleusercontent.com/a-/AOh14Gj6rvtcx9Gy8VOzzw2LH1hYtnxIuHBDw8qnYK9SAuY=s64",
      "userId": "12576390002043678893"
     },
     "user_tz": -540
    },
    "id": "HWAaP9FdO65F",
    "outputId": "86c97cff-4d44-4fbf-f068-149e9ec695ff"
   },
   "outputs": [
    {
     "data": {
      "text/plain": [
       "6514"
      ]
     },
     "execution_count": 53,
     "metadata": {
      "tags": []
     },
     "output_type": "execute_result"
    }
   ],
   "source": [
    "df = df_marcap[df_marcap['Code']=='005930']\n",
    "len(df)"
   ]
  },
  {
   "cell_type": "markdown",
   "metadata": {
    "id": "lcueiZGzxB4k"
   },
   "source": [
    "다수의 종목을 다루고자 할 때 다양한 방법이 있겠으나 여기서는 딕셔너리를 사용해 봅니다.\n",
    "\n",
    "다음과 같이 대표적인 종목들로 관심 종목 목록을 딕셔너리로 구성합니다."
   ]
  },
  {
   "cell_type": "code",
   "execution_count": 54,
   "metadata": {
    "executionInfo": {
     "elapsed": 45443,
     "status": "ok",
     "timestamp": 1611245805056,
     "user": {
      "displayName": "Sean-June Lee",
      "photoUrl": "https://lh3.googleusercontent.com/a-/AOh14Gj6rvtcx9Gy8VOzzw2LH1hYtnxIuHBDw8qnYK9SAuY=s64",
      "userId": "12576390002043678893"
     },
     "user_tz": -540
    },
    "id": "PWDLYx1nxBzy"
   },
   "outputs": [],
   "source": [
    "fav_stocks = {\n",
    "  '005930': '삼성전자', \n",
    "  '005380': '현대차', \n",
    "  '015760': '한국전력', \n",
    "  '005490': 'POSCO', \n",
    "  '105560': 'KB금융',\n",
    "}"
   ]
  },
  {
   "cell_type": "markdown",
   "metadata": {
    "id": "h9GoVmZExlNX"
   },
   "source": [
    "종목코드와 종목명을 매핑하려면 딕셔너리를 그대로 사용할 수 있습니다.\n",
    "\n",
    "종목코드와 종목명을 매핑하는 딕셔너리이기 때문에 다양한 용도로 사용할 수 있습니다. 예를 들어, dict.key()를 사용하여 종목코드만 추출할 수 있죠."
   ]
  },
  {
   "cell_type": "code",
   "execution_count": 55,
   "metadata": {
    "colab": {
     "base_uri": "https://localhost:8080/"
    },
    "executionInfo": {
     "elapsed": 45032,
     "status": "ok",
     "timestamp": 1611245805056,
     "user": {
      "displayName": "Sean-June Lee",
      "photoUrl": "https://lh3.googleusercontent.com/a-/AOh14Gj6rvtcx9Gy8VOzzw2LH1hYtnxIuHBDw8qnYK9SAuY=s64",
      "userId": "12576390002043678893"
     },
     "user_tz": -540
    },
    "id": "bIQN7B8UxE7R",
    "outputId": "a16456b8-7aa7-4d21-a343-f81528ec5018"
   },
   "outputs": [
    {
     "data": {
      "text/plain": [
       "dict_keys(['005930', '005380', '015760', '005490', '105560'])"
      ]
     },
     "execution_count": 55,
     "metadata": {
      "tags": []
     },
     "output_type": "execute_result"
    }
   ],
   "source": [
    "fav_stocks.keys()"
   ]
  },
  {
   "cell_type": "markdown",
   "metadata": {
    "id": "yYksvuAOO65I"
   },
   "source": [
    "시가종액 데이터셋에서 다수의 종목을 추출하려면 [Series.isin()](https://pandas.pydata.org/pandas-docs/stable/reference/api/pandas.Series.isin.html)을 활용하면 좋습니다."
   ]
  },
  {
   "cell_type": "code",
   "execution_count": 56,
   "metadata": {
    "colab": {
     "base_uri": "https://localhost:8080/",
     "height": 234
    },
    "executionInfo": {
     "elapsed": 41777,
     "status": "ok",
     "timestamp": 1611245805940,
     "user": {
      "displayName": "Sean-June Lee",
      "photoUrl": "https://lh3.googleusercontent.com/a-/AOh14Gj6rvtcx9Gy8VOzzw2LH1hYtnxIuHBDw8qnYK9SAuY=s64",
      "userId": "12576390002043678893"
     },
     "user_tz": -540
    },
    "id": "XfSQ7hH4O65I",
    "outputId": "df4e233c-f426-4d27-89ce-794a957ca6f2"
   },
   "outputs": [
    {
     "data": {
      "text/html": [
       "<div>\n",
       "<style scoped>\n",
       "    .dataframe tbody tr th:only-of-type {\n",
       "        vertical-align: middle;\n",
       "    }\n",
       "\n",
       "    .dataframe tbody tr th {\n",
       "        vertical-align: top;\n",
       "    }\n",
       "\n",
       "    .dataframe thead th {\n",
       "        text-align: right;\n",
       "    }\n",
       "</style>\n",
       "<table border=\"1\" class=\"dataframe\">\n",
       "  <thead>\n",
       "    <tr style=\"text-align: right;\">\n",
       "      <th></th>\n",
       "      <th>Code</th>\n",
       "      <th>Name</th>\n",
       "      <th>Market</th>\n",
       "      <th>Dept</th>\n",
       "      <th>Close</th>\n",
       "      <th>ChangeCode</th>\n",
       "      <th>Changes</th>\n",
       "      <th>ChagesRatio</th>\n",
       "      <th>Open</th>\n",
       "      <th>High</th>\n",
       "      <th>Low</th>\n",
       "      <th>Volume</th>\n",
       "      <th>Amount</th>\n",
       "      <th>Marcap</th>\n",
       "      <th>Stocks</th>\n",
       "      <th>MarketId</th>\n",
       "      <th>Rank</th>\n",
       "    </tr>\n",
       "    <tr>\n",
       "      <th>Date</th>\n",
       "      <th></th>\n",
       "      <th></th>\n",
       "      <th></th>\n",
       "      <th></th>\n",
       "      <th></th>\n",
       "      <th></th>\n",
       "      <th></th>\n",
       "      <th></th>\n",
       "      <th></th>\n",
       "      <th></th>\n",
       "      <th></th>\n",
       "      <th></th>\n",
       "      <th></th>\n",
       "      <th></th>\n",
       "      <th></th>\n",
       "      <th></th>\n",
       "      <th></th>\n",
       "    </tr>\n",
       "  </thead>\n",
       "  <tbody>\n",
       "    <tr>\n",
       "      <th>2021-01-15</th>\n",
       "      <td>005930</td>\n",
       "      <td>삼성전자</td>\n",
       "      <td>KOSPI</td>\n",
       "      <td>NaN</td>\n",
       "      <td>88000</td>\n",
       "      <td>2</td>\n",
       "      <td>-1700</td>\n",
       "      <td>-1.9</td>\n",
       "      <td>89800</td>\n",
       "      <td>91800</td>\n",
       "      <td>88000</td>\n",
       "      <td>33431809</td>\n",
       "      <td>2975231937664</td>\n",
       "      <td>525340864400000</td>\n",
       "      <td>5969782550</td>\n",
       "      <td>STK</td>\n",
       "      <td>1</td>\n",
       "    </tr>\n",
       "    <tr>\n",
       "      <th>2021-01-15</th>\n",
       "      <td>005380</td>\n",
       "      <td>현대차</td>\n",
       "      <td>KOSPI</td>\n",
       "      <td>NaN</td>\n",
       "      <td>240000</td>\n",
       "      <td>2</td>\n",
       "      <td>-10500</td>\n",
       "      <td>-4.2</td>\n",
       "      <td>252000</td>\n",
       "      <td>255000</td>\n",
       "      <td>239000</td>\n",
       "      <td>3915078</td>\n",
       "      <td>958824239500</td>\n",
       "      <td>51280364880000</td>\n",
       "      <td>213668187</td>\n",
       "      <td>STK</td>\n",
       "      <td>6</td>\n",
       "    </tr>\n",
       "    <tr>\n",
       "      <th>2021-01-15</th>\n",
       "      <td>005490</td>\n",
       "      <td>POSCO</td>\n",
       "      <td>KOSPI</td>\n",
       "      <td>NaN</td>\n",
       "      <td>275000</td>\n",
       "      <td>2</td>\n",
       "      <td>-7000</td>\n",
       "      <td>-2.5</td>\n",
       "      <td>283500</td>\n",
       "      <td>286500</td>\n",
       "      <td>274000</td>\n",
       "      <td>372253</td>\n",
       "      <td>103648626000</td>\n",
       "      <td>23976379625000</td>\n",
       "      <td>87186835</td>\n",
       "      <td>STK</td>\n",
       "      <td>16</td>\n",
       "    </tr>\n",
       "    <tr>\n",
       "      <th>2021-01-15</th>\n",
       "      <td>105560</td>\n",
       "      <td>KB금융</td>\n",
       "      <td>KOSPI</td>\n",
       "      <td>NaN</td>\n",
       "      <td>45200</td>\n",
       "      <td>2</td>\n",
       "      <td>-1350</td>\n",
       "      <td>-2.9</td>\n",
       "      <td>46950</td>\n",
       "      <td>47100</td>\n",
       "      <td>45100</td>\n",
       "      <td>2547930</td>\n",
       "      <td>116244756550</td>\n",
       "      <td>18794517984000</td>\n",
       "      <td>415807920</td>\n",
       "      <td>STK</td>\n",
       "      <td>22</td>\n",
       "    </tr>\n",
       "    <tr>\n",
       "      <th>2021-01-15</th>\n",
       "      <td>015760</td>\n",
       "      <td>한국전력</td>\n",
       "      <td>KOSPI</td>\n",
       "      <td>NaN</td>\n",
       "      <td>25300</td>\n",
       "      <td>2</td>\n",
       "      <td>-650</td>\n",
       "      <td>-2.5</td>\n",
       "      <td>26000</td>\n",
       "      <td>26350</td>\n",
       "      <td>25250</td>\n",
       "      <td>5503886</td>\n",
       "      <td>141288704250</td>\n",
       "      <td>16241691148100</td>\n",
       "      <td>641964077</td>\n",
       "      <td>STK</td>\n",
       "      <td>26</td>\n",
       "    </tr>\n",
       "  </tbody>\n",
       "</table>\n",
       "</div>"
      ],
      "text/plain": [
       "              Code   Name Market  ...      Stocks  MarketId Rank\n",
       "Date                              ...                           \n",
       "2021-01-15  005930   삼성전자  KOSPI  ...  5969782550       STK    1\n",
       "2021-01-15  005380    현대차  KOSPI  ...   213668187       STK    6\n",
       "2021-01-15  005490  POSCO  KOSPI  ...    87186835       STK   16\n",
       "2021-01-15  105560   KB금융  KOSPI  ...   415807920       STK   22\n",
       "2021-01-15  015760   한국전력  KOSPI  ...   641964077       STK   26\n",
       "\n",
       "[5 rows x 17 columns]"
      ]
     },
     "execution_count": 56,
     "metadata": {
      "tags": []
     },
     "output_type": "execute_result"
    }
   ],
   "source": [
    "# 다수의 종목 필터링\n",
    "df_stocks = df_marcap[df_marcap['Code'].isin(fav_stocks.keys())]\n",
    "df_stocks.tail()"
   ]
  },
  {
   "cell_type": "markdown",
   "metadata": {
    "id": "AS3KHB35PJc3"
   },
   "source": [
    "## (구글 Colab) matplotlib 한글 설정\n",
    "\n",
    "구글 Colab (혹은 우분투 리눅스)의 경우 별도의 한글 폰트 설치가 필요합니다. matplotlib에서 모든 FFT(True Type Font)를 가져다 사용할 수 있습니다.\n",
    "\n",
    "여기서는 명령라인에서 폰트를 가져다 설치합니다.\n"
   ]
  },
  {
   "cell_type": "markdown",
   "metadata": {
    "id": "QCmX685Y7B-n"
   },
   "source": [
    "한글 폰트 설치\n",
    "\n",
    "아래 셀을 실행하고, 런타임 재시작 (메뉴의 \"런타임 / 런타임 다시 시작...\") 후\n",
    "다시 한번 아래 셀을 실행합니다.\n",
    "\n",
    "'한글 테스트' 가 표시되면 성공한 것입니다."
   ]
  },
  {
   "cell_type": "code",
   "execution_count": 57,
   "metadata": {
    "colab": {
     "base_uri": "https://localhost:8080/",
     "height": 330
    },
    "executionInfo": {
     "elapsed": 21616,
     "status": "ok",
     "timestamp": 1611245808446,
     "user": {
      "displayName": "Sean-June Lee",
      "photoUrl": "https://lh3.googleusercontent.com/a-/AOh14Gj6rvtcx9Gy8VOzzw2LH1hYtnxIuHBDw8qnYK9SAuY=s64",
      "userId": "12576390002043678893"
     },
     "user_tz": -540
    },
    "id": "N-sbjZW8PIYB",
    "outputId": "7a458b6c-bfbb-4e16-dbc0-bd83e21561ce"
   },
   "outputs": [
    {
     "data": {
      "text/plain": [
       "Text(0.5, 1.0, '한글 테스트')"
      ]
     },
     "execution_count": 57,
     "metadata": {
      "tags": []
     },
     "output_type": "execute_result"
    },
    {
     "data": {
      "image/png": "[encoded data removed]",
      "text/plain": [
       "<Figure size 1000x300 with 1 Axes>"
      ]
     },
     "metadata": {
      "tags": []
     },
     "output_type": "display_data"
    }
   ],
   "source": [
    "# 한글 폰트 설치와 폰트 캐시 재설정\n",
    "!apt-get install -y -qq fonts-nanum\n",
    "!rm -rf ~/.cache/matplotlib/*\n",
    "\n",
    "# matplotlib 설정\n",
    "import matplotlib.pyplot as plt\n",
    "\n",
    "plt.rcParams[\"font.family\"] = 'NanumBarunGothic'\n",
    "plt.rcParams[\"axes.grid\"] = True\n",
    "plt.rcParams[\"figure.figsize\"] = (10,3)\n",
    "plt.rcParams[\"axes.formatter.useoffset\"] = False\n",
    "plt.rcParams['axes.unicode_minus'] = False\n",
    "plt.rcParams[\"axes.formatter.limits\"] = -10000, 10000\n",
    "\n",
    "plt.title('한글 테스트')"
   ]
  },
  {
   "cell_type": "markdown",
   "metadata": {
    "id": "12nPyJ8s7Mg5"
   },
   "source": [
    "숫자가 커서 과학적 표기법(10의 승수로 표현)으로 표시되면 오히려 읽기 좋지 않은 경우가 있습니다.\n",
    "\n",
    "pandas에서 수치값을 출력할 때 과학적 표기법을 사용하지 않고, 소수점 이하 몇 자리 출력할 것인지를 정해줍니다."
   ]
  },
  {
   "cell_type": "code",
   "execution_count": 58,
   "metadata": {
    "executionInfo": {
     "elapsed": 19331,
     "status": "ok",
     "timestamp": 1611245808448,
     "user": {
      "displayName": "Sean-June Lee",
      "photoUrl": "https://lh3.googleusercontent.com/a-/AOh14Gj6rvtcx9Gy8VOzzw2LH1hYtnxIuHBDw8qnYK9SAuY=s64",
      "userId": "12576390002043678893"
     },
     "user_tz": -540
    },
    "id": "iMdOn7B0O636"
   },
   "outputs": [],
   "source": [
    "pd.options.display.float_format = '{:.1f}'.format"
   ]
  },
  {
   "cell_type": "markdown",
   "metadata": {
    "id": "_EFQeFXl75o4"
   },
   "source": [
    "matplotlib 전역 환경을 파라미터들을 설정해 줍니다. 차트 이미지의 크기, 폰트, 라인 속성 등을 지정할 수 있습니다."
   ]
  },
  {
   "cell_type": "code",
   "execution_count": 59,
   "metadata": {
    "executionInfo": {
     "elapsed": 18244,
     "status": "ok",
     "timestamp": 1611245808449,
     "user": {
      "displayName": "Sean-June Lee",
      "photoUrl": "https://lh3.googleusercontent.com/a-/AOh14Gj6rvtcx9Gy8VOzzw2LH1hYtnxIuHBDw8qnYK9SAuY=s64",
      "userId": "12576390002043678893"
     },
     "user_tz": -540
    },
    "id": "JYHg00nVU5qe"
   },
   "outputs": [],
   "source": [
    "import matplotlib.pyplot as plt\n",
    "\n",
    "plt.style.use('default')\n",
    "\n",
    "plt.rcParams[\"font.family\"] = 'nanummyeongjo'\n",
    "plt.rcParams[\"figure.figsize\"] = (14,4)\n",
    "plt.rcParams['lines.linewidth'] = 1\n",
    "plt.rcParams[\"axes.grid\"] = True\n",
    "\n",
    "plt.rcParams[\"axes.formatter.useoffset\"] = False\n",
    "plt.rcParams[\"axes.formatter.limits\"] = -10000, 10000"
   ]
  },
  {
   "cell_type": "markdown",
   "metadata": {
    "id": "BQ_UW24nO65T"
   },
   "source": [
    "## 시가총액 비중의 변화 살펴보기"
   ]
  },
  {
   "cell_type": "markdown",
   "metadata": {
    "id": "Fx5rG1mfO65U"
   },
   "source": [
    "시가총액은 말그대로 기업의 규모 자체 입니다. 시장 전체에서 차지하는 시가총액의 비중을 살펴본다면 기업이 우리나라 산업 전체에서 차지하는 비중을 살펴볼 수 있다는 뜻이 되죠. \n",
    "\n",
    "조금 더 넓은 기간에 걸쳐 기업의 시가총액 비중을 살펴보는 것으로 특정 기업의 성장과 쇠퇴를 살펴볼 수 있습니다."
   ]
  },
  {
   "cell_type": "code",
   "execution_count": 63,
   "metadata": {
    "colab": {
     "base_uri": "https://localhost:8080/",
     "height": 448
    },
    "executionInfo": {
     "elapsed": 4249,
     "status": "ok",
     "timestamp": 1611245852499,
     "user": {
      "displayName": "Sean-June Lee",
      "photoUrl": "https://lh3.googleusercontent.com/a-/AOh14Gj6rvtcx9Gy8VOzzw2LH1hYtnxIuHBDw8qnYK9SAuY=s64",
      "userId": "12576390002043678893"
     },
     "user_tz": -540
    },
    "id": "3px5NNrutrvn",
    "outputId": "a85355f2-334d-4deb-dfa6-529d648ad841"
   },
   "outputs": [
    {
     "data": {
      "text/html": [
       "<div>\n",
       "<style scoped>\n",
       "    .dataframe tbody tr th:only-of-type {\n",
       "        vertical-align: middle;\n",
       "    }\n",
       "\n",
       "    .dataframe tbody tr th {\n",
       "        vertical-align: top;\n",
       "    }\n",
       "\n",
       "    .dataframe thead th {\n",
       "        text-align: right;\n",
       "    }\n",
       "</style>\n",
       "<table border=\"1\" class=\"dataframe\">\n",
       "  <thead>\n",
       "    <tr style=\"text-align: right;\">\n",
       "      <th></th>\n",
       "      <th>Code</th>\n",
       "      <th>Name</th>\n",
       "      <th>Market</th>\n",
       "      <th>Dept</th>\n",
       "      <th>Close</th>\n",
       "      <th>ChangeCode</th>\n",
       "      <th>Changes</th>\n",
       "      <th>ChagesRatio</th>\n",
       "      <th>Open</th>\n",
       "      <th>High</th>\n",
       "      <th>Low</th>\n",
       "      <th>Volume</th>\n",
       "      <th>Amount</th>\n",
       "      <th>Marcap</th>\n",
       "      <th>Stocks</th>\n",
       "      <th>MarketId</th>\n",
       "      <th>Rank</th>\n",
       "    </tr>\n",
       "    <tr>\n",
       "      <th>Date</th>\n",
       "      <th></th>\n",
       "      <th></th>\n",
       "      <th></th>\n",
       "      <th></th>\n",
       "      <th></th>\n",
       "      <th></th>\n",
       "      <th></th>\n",
       "      <th></th>\n",
       "      <th></th>\n",
       "      <th></th>\n",
       "      <th></th>\n",
       "      <th></th>\n",
       "      <th></th>\n",
       "      <th></th>\n",
       "      <th></th>\n",
       "      <th></th>\n",
       "      <th></th>\n",
       "    </tr>\n",
       "  </thead>\n",
       "  <tbody>\n",
       "    <tr>\n",
       "      <th>1995-05-02</th>\n",
       "      <td>855</td>\n",
       "      <td>855</td>\n",
       "      <td>855</td>\n",
       "      <td>0</td>\n",
       "      <td>855</td>\n",
       "      <td>855</td>\n",
       "      <td>855</td>\n",
       "      <td>855</td>\n",
       "      <td>855</td>\n",
       "      <td>855</td>\n",
       "      <td>855</td>\n",
       "      <td>855</td>\n",
       "      <td>855</td>\n",
       "      <td>855</td>\n",
       "      <td>855</td>\n",
       "      <td>855</td>\n",
       "      <td>855</td>\n",
       "    </tr>\n",
       "    <tr>\n",
       "      <th>1995-05-03</th>\n",
       "      <td>857</td>\n",
       "      <td>857</td>\n",
       "      <td>857</td>\n",
       "      <td>0</td>\n",
       "      <td>857</td>\n",
       "      <td>857</td>\n",
       "      <td>857</td>\n",
       "      <td>857</td>\n",
       "      <td>857</td>\n",
       "      <td>857</td>\n",
       "      <td>857</td>\n",
       "      <td>857</td>\n",
       "      <td>857</td>\n",
       "      <td>857</td>\n",
       "      <td>857</td>\n",
       "      <td>857</td>\n",
       "      <td>857</td>\n",
       "    </tr>\n",
       "    <tr>\n",
       "      <th>1995-05-04</th>\n",
       "      <td>860</td>\n",
       "      <td>860</td>\n",
       "      <td>860</td>\n",
       "      <td>0</td>\n",
       "      <td>860</td>\n",
       "      <td>860</td>\n",
       "      <td>860</td>\n",
       "      <td>860</td>\n",
       "      <td>860</td>\n",
       "      <td>860</td>\n",
       "      <td>860</td>\n",
       "      <td>860</td>\n",
       "      <td>860</td>\n",
       "      <td>860</td>\n",
       "      <td>860</td>\n",
       "      <td>860</td>\n",
       "      <td>860</td>\n",
       "    </tr>\n",
       "    <tr>\n",
       "      <th>1995-05-06</th>\n",
       "      <td>842</td>\n",
       "      <td>842</td>\n",
       "      <td>842</td>\n",
       "      <td>0</td>\n",
       "      <td>842</td>\n",
       "      <td>842</td>\n",
       "      <td>842</td>\n",
       "      <td>842</td>\n",
       "      <td>842</td>\n",
       "      <td>842</td>\n",
       "      <td>842</td>\n",
       "      <td>842</td>\n",
       "      <td>842</td>\n",
       "      <td>842</td>\n",
       "      <td>842</td>\n",
       "      <td>842</td>\n",
       "      <td>842</td>\n",
       "    </tr>\n",
       "    <tr>\n",
       "      <th>1995-05-08</th>\n",
       "      <td>854</td>\n",
       "      <td>854</td>\n",
       "      <td>854</td>\n",
       "      <td>0</td>\n",
       "      <td>854</td>\n",
       "      <td>854</td>\n",
       "      <td>854</td>\n",
       "      <td>854</td>\n",
       "      <td>854</td>\n",
       "      <td>854</td>\n",
       "      <td>854</td>\n",
       "      <td>854</td>\n",
       "      <td>854</td>\n",
       "      <td>854</td>\n",
       "      <td>854</td>\n",
       "      <td>854</td>\n",
       "      <td>854</td>\n",
       "    </tr>\n",
       "    <tr>\n",
       "      <th>...</th>\n",
       "      <td>...</td>\n",
       "      <td>...</td>\n",
       "      <td>...</td>\n",
       "      <td>...</td>\n",
       "      <td>...</td>\n",
       "      <td>...</td>\n",
       "      <td>...</td>\n",
       "      <td>...</td>\n",
       "      <td>...</td>\n",
       "      <td>...</td>\n",
       "      <td>...</td>\n",
       "      <td>...</td>\n",
       "      <td>...</td>\n",
       "      <td>...</td>\n",
       "      <td>...</td>\n",
       "      <td>...</td>\n",
       "      <td>...</td>\n",
       "    </tr>\n",
       "    <tr>\n",
       "      <th>2021-01-11</th>\n",
       "      <td>2422</td>\n",
       "      <td>2422</td>\n",
       "      <td>2422</td>\n",
       "      <td>1517</td>\n",
       "      <td>2422</td>\n",
       "      <td>2422</td>\n",
       "      <td>2422</td>\n",
       "      <td>2422</td>\n",
       "      <td>2422</td>\n",
       "      <td>2422</td>\n",
       "      <td>2422</td>\n",
       "      <td>2422</td>\n",
       "      <td>2422</td>\n",
       "      <td>2422</td>\n",
       "      <td>2422</td>\n",
       "      <td>2422</td>\n",
       "      <td>2422</td>\n",
       "    </tr>\n",
       "    <tr>\n",
       "      <th>2021-01-12</th>\n",
       "      <td>2419</td>\n",
       "      <td>2419</td>\n",
       "      <td>2419</td>\n",
       "      <td>1514</td>\n",
       "      <td>2419</td>\n",
       "      <td>2419</td>\n",
       "      <td>2419</td>\n",
       "      <td>2419</td>\n",
       "      <td>2419</td>\n",
       "      <td>2419</td>\n",
       "      <td>2419</td>\n",
       "      <td>2419</td>\n",
       "      <td>2419</td>\n",
       "      <td>2419</td>\n",
       "      <td>2419</td>\n",
       "      <td>2419</td>\n",
       "      <td>2419</td>\n",
       "    </tr>\n",
       "    <tr>\n",
       "      <th>2021-01-13</th>\n",
       "      <td>2424</td>\n",
       "      <td>2424</td>\n",
       "      <td>2424</td>\n",
       "      <td>1519</td>\n",
       "      <td>2424</td>\n",
       "      <td>2424</td>\n",
       "      <td>2424</td>\n",
       "      <td>2424</td>\n",
       "      <td>2424</td>\n",
       "      <td>2424</td>\n",
       "      <td>2424</td>\n",
       "      <td>2424</td>\n",
       "      <td>2424</td>\n",
       "      <td>2424</td>\n",
       "      <td>2424</td>\n",
       "      <td>2424</td>\n",
       "      <td>2424</td>\n",
       "    </tr>\n",
       "    <tr>\n",
       "      <th>2021-01-14</th>\n",
       "      <td>2419</td>\n",
       "      <td>2419</td>\n",
       "      <td>2419</td>\n",
       "      <td>1514</td>\n",
       "      <td>2419</td>\n",
       "      <td>2419</td>\n",
       "      <td>2419</td>\n",
       "      <td>2419</td>\n",
       "      <td>2419</td>\n",
       "      <td>2419</td>\n",
       "      <td>2419</td>\n",
       "      <td>2419</td>\n",
       "      <td>2419</td>\n",
       "      <td>2419</td>\n",
       "      <td>2419</td>\n",
       "      <td>2419</td>\n",
       "      <td>2419</td>\n",
       "    </tr>\n",
       "    <tr>\n",
       "      <th>2021-01-15</th>\n",
       "      <td>2418</td>\n",
       "      <td>2418</td>\n",
       "      <td>2418</td>\n",
       "      <td>1512</td>\n",
       "      <td>2418</td>\n",
       "      <td>2418</td>\n",
       "      <td>2418</td>\n",
       "      <td>2418</td>\n",
       "      <td>2418</td>\n",
       "      <td>2418</td>\n",
       "      <td>2418</td>\n",
       "      <td>2418</td>\n",
       "      <td>2418</td>\n",
       "      <td>2418</td>\n",
       "      <td>2418</td>\n",
       "      <td>2418</td>\n",
       "      <td>2418</td>\n",
       "    </tr>\n",
       "  </tbody>\n",
       "</table>\n",
       "<p>6517 rows × 17 columns</p>\n",
       "</div>"
      ],
      "text/plain": [
       "            Code  Name  Market  Dept  ...  Marcap  Stocks  MarketId  Rank\n",
       "Date                                  ...                                \n",
       "1995-05-02   855   855     855     0  ...     855     855       855   855\n",
       "1995-05-03   857   857     857     0  ...     857     857       857   857\n",
       "1995-05-04   860   860     860     0  ...     860     860       860   860\n",
       "1995-05-06   842   842     842     0  ...     842     842       842   842\n",
       "1995-05-08   854   854     854     0  ...     854     854       854   854\n",
       "...          ...   ...     ...   ...  ...     ...     ...       ...   ...\n",
       "2021-01-11  2422  2422    2422  1517  ...    2422    2422      2422  2422\n",
       "2021-01-12  2419  2419    2419  1514  ...    2419    2419      2419  2419\n",
       "2021-01-13  2424  2424    2424  1519  ...    2424    2424      2424  2424\n",
       "2021-01-14  2419  2419    2419  1514  ...    2419    2419      2419  2419\n",
       "2021-01-15  2418  2418    2418  1512  ...    2418    2418      2418  2418\n",
       "\n",
       "[6517 rows x 17 columns]"
      ]
     },
     "execution_count": 63,
     "metadata": {
      "tags": []
     },
     "output_type": "execute_result"
    }
   ],
   "source": [
    "# 날짜별 상장종목수\n",
    "df_marcap.groupby('Date').count()"
   ]
  },
  {
   "cell_type": "code",
   "execution_count": 69,
   "metadata": {
    "colab": {
     "base_uri": "https://localhost:8080/"
    },
    "executionInfo": {
     "elapsed": 1775,
     "status": "ok",
     "timestamp": 1611246991975,
     "user": {
      "displayName": "Sean-June Lee",
      "photoUrl": "https://lh3.googleusercontent.com/a-/AOh14Gj6rvtcx9Gy8VOzzw2LH1hYtnxIuHBDw8qnYK9SAuY=s64",
      "userId": "12576390002043678893"
     },
     "user_tz": -540
    },
    "id": "_2HxMEs-uN5v",
    "outputId": "a65037eb-9bb6-449d-8db9-3dea8553037a"
   },
   "outputs": [
    {
     "data": {
      "text/plain": [
       "Date\n",
       "2021-01-04    2413426465392838\n",
       "2021-01-05    2447301965068736\n",
       "2021-01-06    2428163871386812\n",
       "2021-01-07    2475413900163517\n",
       "2021-01-08    2559475384034729\n",
       "2021-01-11    2556140698402270\n",
       "2021-01-12    2539389518593471\n",
       "2021-01-13    2555060321900568\n",
       "2021-01-14    2556402104529020\n",
       "2021-01-15    2508508338186183\n",
       "Name: Marcap, dtype: int64"
      ]
     },
     "execution_count": 69,
     "metadata": {
      "tags": []
     },
     "output_type": "execute_result"
    }
   ],
   "source": [
    "df_marcap.groupby('Date').sum()['Marcap'].tail(10)"
   ]
  },
  {
   "cell_type": "markdown",
   "metadata": {
    "id": "f9Tx-KoewBJF"
   },
   "source": [
    "2021-01-15 현재 상장주식시가총액은 2,508조 입니다"
   ]
  },
  {
   "cell_type": "code",
   "execution_count": 49,
   "metadata": {
    "colab": {
     "base_uri": "https://localhost:8080/",
     "height": 383
    },
    "executionInfo": {
     "elapsed": 1954,
     "status": "ok",
     "timestamp": 1611245611774,
     "user": {
      "displayName": "Sean-June Lee",
      "photoUrl": "https://lh3.googleusercontent.com/a-/AOh14Gj6rvtcx9Gy8VOzzw2LH1hYtnxIuHBDw8qnYK9SAuY=s64",
      "userId": "12576390002043678893"
     },
     "user_tz": -540
    },
    "id": "j4VwUDTqstnY",
    "outputId": "d5ba08c8-2c6f-476c-dbad-61336d67a514"
   },
   "outputs": [
    {
     "data": {
      "text/plain": [
       "<matplotlib.axes._subplots.AxesSubplot at 0x7f5f1fa06d30>"
      ]
     },
     "execution_count": 49,
     "metadata": {
      "tags": []
     },
     "output_type": "execute_result"
    },
    {
     "data": {
      "image/png": "[encoded data removed]",
      "text/plain": [
       "<Figure size 1400x400 with 1 Axes>"
      ]
     },
     "metadata": {
      "tags": []
     },
     "output_type": "display_data"
    }
   ],
   "source": [
    "df_marcap.groupby('Date').sum()['Marcap'].plot()"
   ]
  },
  {
   "cell_type": "code",
   "execution_count": 70,
   "metadata": {
    "colab": {
     "base_uri": "https://localhost:8080/",
     "height": 448
    },
    "executionInfo": {
     "elapsed": 1828,
     "status": "ok",
     "timestamp": 1611247236493,
     "user": {
      "displayName": "Sean-June Lee",
      "photoUrl": "https://lh3.googleusercontent.com/a-/AOh14Gj6rvtcx9Gy8VOzzw2LH1hYtnxIuHBDw8qnYK9SAuY=s64",
      "userId": "12576390002043678893"
     },
     "user_tz": -540
    },
    "id": "sc7OUmbJO65U",
    "outputId": "557b4492-61e5-4918-a2e8-924c8da39993"
   },
   "outputs": [
    {
     "data": {
      "text/html": [
       "<div>\n",
       "<style scoped>\n",
       "    .dataframe tbody tr th:only-of-type {\n",
       "        vertical-align: middle;\n",
       "    }\n",
       "\n",
       "    .dataframe tbody tr th {\n",
       "        vertical-align: top;\n",
       "    }\n",
       "\n",
       "    .dataframe thead th {\n",
       "        text-align: right;\n",
       "    }\n",
       "</style>\n",
       "<table border=\"1\" class=\"dataframe\">\n",
       "  <thead>\n",
       "    <tr style=\"text-align: right;\">\n",
       "      <th></th>\n",
       "      <th>Code</th>\n",
       "      <th>Name</th>\n",
       "      <th>Market</th>\n",
       "      <th>Dept</th>\n",
       "      <th>Close</th>\n",
       "      <th>ChangeCode</th>\n",
       "      <th>Changes</th>\n",
       "      <th>ChagesRatio</th>\n",
       "      <th>Open</th>\n",
       "      <th>High</th>\n",
       "      <th>Low</th>\n",
       "      <th>Volume</th>\n",
       "      <th>Amount</th>\n",
       "      <th>Marcap</th>\n",
       "      <th>Stocks</th>\n",
       "      <th>MarketId</th>\n",
       "      <th>Rank</th>\n",
       "    </tr>\n",
       "    <tr>\n",
       "      <th>Date</th>\n",
       "      <th></th>\n",
       "      <th></th>\n",
       "      <th></th>\n",
       "      <th></th>\n",
       "      <th></th>\n",
       "      <th></th>\n",
       "      <th></th>\n",
       "      <th></th>\n",
       "      <th></th>\n",
       "      <th></th>\n",
       "      <th></th>\n",
       "      <th></th>\n",
       "      <th></th>\n",
       "      <th></th>\n",
       "      <th></th>\n",
       "      <th></th>\n",
       "      <th></th>\n",
       "    </tr>\n",
       "  </thead>\n",
       "  <tbody>\n",
       "    <tr>\n",
       "      <th>1995-05-02</th>\n",
       "      <td>015760</td>\n",
       "      <td>한국전력공사</td>\n",
       "      <td>KOSPI</td>\n",
       "      <td>NaN</td>\n",
       "      <td>27400</td>\n",
       "      <td>2</td>\n",
       "      <td>-400</td>\n",
       "      <td>-1.4</td>\n",
       "      <td>27600</td>\n",
       "      <td>27800</td>\n",
       "      <td>27400</td>\n",
       "      <td>118190</td>\n",
       "      <td>3255694000</td>\n",
       "      <td>16872679291000</td>\n",
       "      <td>615791215</td>\n",
       "      <td>STK</td>\n",
       "      <td>1</td>\n",
       "    </tr>\n",
       "    <tr>\n",
       "      <th>1995-05-02</th>\n",
       "      <td>005930</td>\n",
       "      <td>삼성전자</td>\n",
       "      <td>KOSPI</td>\n",
       "      <td>NaN</td>\n",
       "      <td>119500</td>\n",
       "      <td>2</td>\n",
       "      <td>-1000</td>\n",
       "      <td>-0.8</td>\n",
       "      <td>121000</td>\n",
       "      <td>121000</td>\n",
       "      <td>118500</td>\n",
       "      <td>139560</td>\n",
       "      <td>16676735000</td>\n",
       "      <td>6497053077500</td>\n",
       "      <td>54368645</td>\n",
       "      <td>STK</td>\n",
       "      <td>2</td>\n",
       "    </tr>\n",
       "    <tr>\n",
       "      <th>1995-05-02</th>\n",
       "      <td>005490</td>\n",
       "      <td>포항종합제철</td>\n",
       "      <td>KOSPI</td>\n",
       "      <td>NaN</td>\n",
       "      <td>65500</td>\n",
       "      <td>2</td>\n",
       "      <td>-300</td>\n",
       "      <td>-0.5</td>\n",
       "      <td>65800</td>\n",
       "      <td>66200</td>\n",
       "      <td>65400</td>\n",
       "      <td>65970</td>\n",
       "      <td>4334472000</td>\n",
       "      <td>6150568555000</td>\n",
       "      <td>93901810</td>\n",
       "      <td>STK</td>\n",
       "      <td>3</td>\n",
       "    </tr>\n",
       "    <tr>\n",
       "      <th>1995-05-02</th>\n",
       "      <td>005380</td>\n",
       "      <td>현대자동차</td>\n",
       "      <td>KOSPI</td>\n",
       "      <td>NaN</td>\n",
       "      <td>46200</td>\n",
       "      <td>2</td>\n",
       "      <td>-300</td>\n",
       "      <td>-0.7</td>\n",
       "      <td>46500</td>\n",
       "      <td>46900</td>\n",
       "      <td>46000</td>\n",
       "      <td>79230</td>\n",
       "      <td>3667615000</td>\n",
       "      <td>1854048273000</td>\n",
       "      <td>40130915</td>\n",
       "      <td>STK</td>\n",
       "      <td>7</td>\n",
       "    </tr>\n",
       "    <tr>\n",
       "      <th>1995-05-03</th>\n",
       "      <td>015760</td>\n",
       "      <td>한국전력공사</td>\n",
       "      <td>KOSPI</td>\n",
       "      <td>NaN</td>\n",
       "      <td>29000</td>\n",
       "      <td>4</td>\n",
       "      <td>1600</td>\n",
       "      <td>5.8</td>\n",
       "      <td>27600</td>\n",
       "      <td>29000</td>\n",
       "      <td>27400</td>\n",
       "      <td>690270</td>\n",
       "      <td>19907009000</td>\n",
       "      <td>17857945235000</td>\n",
       "      <td>615791215</td>\n",
       "      <td>STK</td>\n",
       "      <td>1</td>\n",
       "    </tr>\n",
       "    <tr>\n",
       "      <th>...</th>\n",
       "      <td>...</td>\n",
       "      <td>...</td>\n",
       "      <td>...</td>\n",
       "      <td>...</td>\n",
       "      <td>...</td>\n",
       "      <td>...</td>\n",
       "      <td>...</td>\n",
       "      <td>...</td>\n",
       "      <td>...</td>\n",
       "      <td>...</td>\n",
       "      <td>...</td>\n",
       "      <td>...</td>\n",
       "      <td>...</td>\n",
       "      <td>...</td>\n",
       "      <td>...</td>\n",
       "      <td>...</td>\n",
       "      <td>...</td>\n",
       "    </tr>\n",
       "    <tr>\n",
       "      <th>2021-01-15</th>\n",
       "      <td>005930</td>\n",
       "      <td>삼성전자</td>\n",
       "      <td>KOSPI</td>\n",
       "      <td>NaN</td>\n",
       "      <td>88000</td>\n",
       "      <td>2</td>\n",
       "      <td>-1700</td>\n",
       "      <td>-1.9</td>\n",
       "      <td>89800</td>\n",
       "      <td>91800</td>\n",
       "      <td>88000</td>\n",
       "      <td>33431809</td>\n",
       "      <td>2975231937664</td>\n",
       "      <td>525340864400000</td>\n",
       "      <td>5969782550</td>\n",
       "      <td>STK</td>\n",
       "      <td>1</td>\n",
       "    </tr>\n",
       "    <tr>\n",
       "      <th>2021-01-15</th>\n",
       "      <td>005380</td>\n",
       "      <td>현대차</td>\n",
       "      <td>KOSPI</td>\n",
       "      <td>NaN</td>\n",
       "      <td>240000</td>\n",
       "      <td>2</td>\n",
       "      <td>-10500</td>\n",
       "      <td>-4.2</td>\n",
       "      <td>252000</td>\n",
       "      <td>255000</td>\n",
       "      <td>239000</td>\n",
       "      <td>3915078</td>\n",
       "      <td>958824239500</td>\n",
       "      <td>51280364880000</td>\n",
       "      <td>213668187</td>\n",
       "      <td>STK</td>\n",
       "      <td>6</td>\n",
       "    </tr>\n",
       "    <tr>\n",
       "      <th>2021-01-15</th>\n",
       "      <td>005490</td>\n",
       "      <td>POSCO</td>\n",
       "      <td>KOSPI</td>\n",
       "      <td>NaN</td>\n",
       "      <td>275000</td>\n",
       "      <td>2</td>\n",
       "      <td>-7000</td>\n",
       "      <td>-2.5</td>\n",
       "      <td>283500</td>\n",
       "      <td>286500</td>\n",
       "      <td>274000</td>\n",
       "      <td>372253</td>\n",
       "      <td>103648626000</td>\n",
       "      <td>23976379625000</td>\n",
       "      <td>87186835</td>\n",
       "      <td>STK</td>\n",
       "      <td>16</td>\n",
       "    </tr>\n",
       "    <tr>\n",
       "      <th>2021-01-15</th>\n",
       "      <td>105560</td>\n",
       "      <td>KB금융</td>\n",
       "      <td>KOSPI</td>\n",
       "      <td>NaN</td>\n",
       "      <td>45200</td>\n",
       "      <td>2</td>\n",
       "      <td>-1350</td>\n",
       "      <td>-2.9</td>\n",
       "      <td>46950</td>\n",
       "      <td>47100</td>\n",
       "      <td>45100</td>\n",
       "      <td>2547930</td>\n",
       "      <td>116244756550</td>\n",
       "      <td>18794517984000</td>\n",
       "      <td>415807920</td>\n",
       "      <td>STK</td>\n",
       "      <td>22</td>\n",
       "    </tr>\n",
       "    <tr>\n",
       "      <th>2021-01-15</th>\n",
       "      <td>015760</td>\n",
       "      <td>한국전력</td>\n",
       "      <td>KOSPI</td>\n",
       "      <td>NaN</td>\n",
       "      <td>25300</td>\n",
       "      <td>2</td>\n",
       "      <td>-650</td>\n",
       "      <td>-2.5</td>\n",
       "      <td>26000</td>\n",
       "      <td>26350</td>\n",
       "      <td>25250</td>\n",
       "      <td>5503886</td>\n",
       "      <td>141288704250</td>\n",
       "      <td>16241691148100</td>\n",
       "      <td>641964077</td>\n",
       "      <td>STK</td>\n",
       "      <td>26</td>\n",
       "    </tr>\n",
       "  </tbody>\n",
       "</table>\n",
       "<p>29099 rows × 17 columns</p>\n",
       "</div>"
      ],
      "text/plain": [
       "              Code    Name Market  ...      Stocks  MarketId Rank\n",
       "Date                               ...                           \n",
       "1995-05-02  015760  한국전력공사  KOSPI  ...   615791215       STK    1\n",
       "1995-05-02  005930    삼성전자  KOSPI  ...    54368645       STK    2\n",
       "1995-05-02  005490  포항종합제철  KOSPI  ...    93901810       STK    3\n",
       "1995-05-02  005380   현대자동차  KOSPI  ...    40130915       STK    7\n",
       "1995-05-03  015760  한국전력공사  KOSPI  ...   615791215       STK    1\n",
       "...            ...     ...    ...  ...         ...       ...  ...\n",
       "2021-01-15  005930    삼성전자  KOSPI  ...  5969782550       STK    1\n",
       "2021-01-15  005380     현대차  KOSPI  ...   213668187       STK    6\n",
       "2021-01-15  005490   POSCO  KOSPI  ...    87186835       STK   16\n",
       "2021-01-15  105560    KB금융  KOSPI  ...   415807920       STK   22\n",
       "2021-01-15  015760    한국전력  KOSPI  ...   641964077       STK   26\n",
       "\n",
       "[29099 rows x 17 columns]"
      ]
     },
     "execution_count": 70,
     "metadata": {
      "tags": []
     },
     "output_type": "execute_result"
    }
   ],
   "source": []
  },
  {
   "cell_type": "code",
   "execution_count": 83,
   "metadata": {
    "colab": {
     "base_uri": "https://localhost:8080/",
     "height": 389
    },
    "executionInfo": {
     "elapsed": 1202,
     "status": "ok",
     "timestamp": 1611247549450,
     "user": {
      "displayName": "Sean-June Lee",
      "photoUrl": "https://lh3.googleusercontent.com/a-/AOh14Gj6rvtcx9Gy8VOzzw2LH1hYtnxIuHBDw8qnYK9SAuY=s64",
      "userId": "12576390002043678893"
     },
     "user_tz": -540
    },
    "id": "ORew-1eV0adj",
    "outputId": "c6b3d474-aa54-4265-ce5b-61fe87c2d44b"
   },
   "outputs": [
    {
     "data": {
      "text/html": [
       "<div>\n",
       "<style scoped>\n",
       "    .dataframe tbody tr th:only-of-type {\n",
       "        vertical-align: middle;\n",
       "    }\n",
       "\n",
       "    .dataframe tbody tr th {\n",
       "        vertical-align: top;\n",
       "    }\n",
       "\n",
       "    .dataframe thead th {\n",
       "        text-align: right;\n",
       "    }\n",
       "</style>\n",
       "<table border=\"1\" class=\"dataframe\">\n",
       "  <thead>\n",
       "    <tr style=\"text-align: right;\">\n",
       "      <th>Code</th>\n",
       "      <th>현대차</th>\n",
       "      <th>POSCO</th>\n",
       "      <th>삼성전자</th>\n",
       "      <th>한국전력</th>\n",
       "      <th>KB금융</th>\n",
       "    </tr>\n",
       "    <tr>\n",
       "      <th>Date</th>\n",
       "      <th></th>\n",
       "      <th></th>\n",
       "      <th></th>\n",
       "      <th></th>\n",
       "      <th></th>\n",
       "    </tr>\n",
       "  </thead>\n",
       "  <tbody>\n",
       "    <tr>\n",
       "      <th>2021-01-04</th>\n",
       "      <td>44336148802500.0</td>\n",
       "      <td>23802005955000.0</td>\n",
       "      <td>495491951650000.0</td>\n",
       "      <td>17268833671300.0</td>\n",
       "      <td>17651046204000.0</td>\n",
       "    </tr>\n",
       "    <tr>\n",
       "      <th>2021-01-05</th>\n",
       "      <td>44763485176500.0</td>\n",
       "      <td>24848247975000.0</td>\n",
       "      <td>500864755945000.0</td>\n",
       "      <td>17268833671300.0</td>\n",
       "      <td>18108434916000.0</td>\n",
       "    </tr>\n",
       "    <tr>\n",
       "      <th>2021-01-06</th>\n",
       "      <td>43374641961000.0</td>\n",
       "      <td>24412313800000.0</td>\n",
       "      <td>490716125610000.0</td>\n",
       "      <td>17429324690550.0</td>\n",
       "      <td>18295548480000.0</td>\n",
       "    </tr>\n",
       "    <tr>\n",
       "      <th>2021-01-07</th>\n",
       "      <td>44015646522000.0</td>\n",
       "      <td>25371368985000.0</td>\n",
       "      <td>494894973395000.0</td>\n",
       "      <td>17365128282850.0</td>\n",
       "      <td>19127164320000.0</td>\n",
       "    </tr>\n",
       "    <tr>\n",
       "      <th>2021-01-08</th>\n",
       "      <td>52562374002000.0</td>\n",
       "      <td>25676522907500.0</td>\n",
       "      <td>530116690440000.0</td>\n",
       "      <td>17333030079000.0</td>\n",
       "      <td>19335068280000.0</td>\n",
       "    </tr>\n",
       "    <tr>\n",
       "      <th>2021-01-11</th>\n",
       "      <td>57156240022500.0</td>\n",
       "      <td>24761061140000.0</td>\n",
       "      <td>543250212050000.0</td>\n",
       "      <td>16915753428950.0</td>\n",
       "      <td>19085583528000.0</td>\n",
       "    </tr>\n",
       "    <tr>\n",
       "      <th>2021-01-12</th>\n",
       "      <td>55767396807000.0</td>\n",
       "      <td>24150753295000.0</td>\n",
       "      <td>540862299030000.0</td>\n",
       "      <td>16819458817400.0</td>\n",
       "      <td>19210325904000.0</td>\n",
       "    </tr>\n",
       "    <tr>\n",
       "      <th>2021-01-13</th>\n",
       "      <td>55340060433000.0</td>\n",
       "      <td>24717467722500.0</td>\n",
       "      <td>535489494735000.0</td>\n",
       "      <td>16530574982750.0</td>\n",
       "      <td>19667714616000.0</td>\n",
       "    </tr>\n",
       "    <tr>\n",
       "      <th>2021-01-14</th>\n",
       "      <td>53523880843500.0</td>\n",
       "      <td>24586687470000.0</td>\n",
       "      <td>535489494735000.0</td>\n",
       "      <td>16658967798150.0</td>\n",
       "      <td>19355858676000.0</td>\n",
       "    </tr>\n",
       "    <tr>\n",
       "      <th>2021-01-15</th>\n",
       "      <td>51280364880000.0</td>\n",
       "      <td>23976379625000.0</td>\n",
       "      <td>525340864400000.0</td>\n",
       "      <td>16241691148100.0</td>\n",
       "      <td>18794517984000.0</td>\n",
       "    </tr>\n",
       "  </tbody>\n",
       "</table>\n",
       "</div>"
      ],
      "text/plain": [
       "Code                    현대차            POSCO  ...             한국전력             KB금융\n",
       "Date                                          ...                                  \n",
       "2021-01-04 44336148802500.0 23802005955000.0  ... 17268833671300.0 17651046204000.0\n",
       "2021-01-05 44763485176500.0 24848247975000.0  ... 17268833671300.0 18108434916000.0\n",
       "2021-01-06 43374641961000.0 24412313800000.0  ... 17429324690550.0 18295548480000.0\n",
       "2021-01-07 44015646522000.0 25371368985000.0  ... 17365128282850.0 19127164320000.0\n",
       "2021-01-08 52562374002000.0 25676522907500.0  ... 17333030079000.0 19335068280000.0\n",
       "2021-01-11 57156240022500.0 24761061140000.0  ... 16915753428950.0 19085583528000.0\n",
       "2021-01-12 55767396807000.0 24150753295000.0  ... 16819458817400.0 19210325904000.0\n",
       "2021-01-13 55340060433000.0 24717467722500.0  ... 16530574982750.0 19667714616000.0\n",
       "2021-01-14 53523880843500.0 24586687470000.0  ... 16658967798150.0 19355858676000.0\n",
       "2021-01-15 51280364880000.0 23976379625000.0  ... 16241691148100.0 18794517984000.0\n",
       "\n",
       "[10 rows x 5 columns]"
      ]
     },
     "execution_count": 83,
     "metadata": {
      "tags": []
     },
     "output_type": "execute_result"
    }
   ],
   "source": [
    "df_stocks = df_marcap[df_marcap['Code'].isin(fav_stocks.keys())]\n",
    "m = df_stocks.pivot_table(index='Date', columns='Code', values='Marcap')\n",
    "m.rename(columns=fav_stocks, inplace=True)\n",
    "m.tail(10)"
   ]
  },
  {
   "cell_type": "code",
   "execution_count": 114,
   "metadata": {
    "colab": {
     "base_uri": "https://localhost:8080/",
     "height": 448
    },
    "executionInfo": {
     "elapsed": 1167,
     "status": "ok",
     "timestamp": 1611248691716,
     "user": {
      "displayName": "Sean-June Lee",
      "photoUrl": "https://lh3.googleusercontent.com/a-/AOh14Gj6rvtcx9Gy8VOzzw2LH1hYtnxIuHBDw8qnYK9SAuY=s64",
      "userId": "12576390002043678893"
     },
     "user_tz": -540
    },
    "id": "sEyFklIL52F4",
    "outputId": "a3fb2508-af22-46c0-8d9c-50ee3cd0200d"
   },
   "outputs": [
    {
     "data": {
      "text/html": [
       "<div>\n",
       "<style scoped>\n",
       "    .dataframe tbody tr th:only-of-type {\n",
       "        vertical-align: middle;\n",
       "    }\n",
       "\n",
       "    .dataframe tbody tr th {\n",
       "        vertical-align: top;\n",
       "    }\n",
       "\n",
       "    .dataframe thead th {\n",
       "        text-align: right;\n",
       "    }\n",
       "</style>\n",
       "<table border=\"1\" class=\"dataframe\">\n",
       "  <thead>\n",
       "    <tr style=\"text-align: right;\">\n",
       "      <th>Code</th>\n",
       "      <th>현대차</th>\n",
       "      <th>POSCO</th>\n",
       "      <th>삼성전자</th>\n",
       "      <th>한국전력</th>\n",
       "      <th>KB금융</th>\n",
       "      <th>상장주식시가총액</th>\n",
       "    </tr>\n",
       "    <tr>\n",
       "      <th>Date</th>\n",
       "      <th></th>\n",
       "      <th></th>\n",
       "      <th></th>\n",
       "      <th></th>\n",
       "      <th></th>\n",
       "      <th></th>\n",
       "    </tr>\n",
       "  </thead>\n",
       "  <tbody>\n",
       "    <tr>\n",
       "      <th>1995-05-02</th>\n",
       "      <td>0.0138</td>\n",
       "      <td>0.0457</td>\n",
       "      <td>0.0482</td>\n",
       "      <td>0.1252</td>\n",
       "      <td>nan</td>\n",
       "      <td>1.0000</td>\n",
       "    </tr>\n",
       "    <tr>\n",
       "      <th>1995-05-03</th>\n",
       "      <td>0.0141</td>\n",
       "      <td>0.0475</td>\n",
       "      <td>0.0489</td>\n",
       "      <td>0.1301</td>\n",
       "      <td>nan</td>\n",
       "      <td>1.0000</td>\n",
       "    </tr>\n",
       "    <tr>\n",
       "      <th>1995-05-04</th>\n",
       "      <td>0.0142</td>\n",
       "      <td>0.0476</td>\n",
       "      <td>0.0485</td>\n",
       "      <td>0.1345</td>\n",
       "      <td>nan</td>\n",
       "      <td>1.0000</td>\n",
       "    </tr>\n",
       "    <tr>\n",
       "      <th>1995-05-06</th>\n",
       "      <td>0.0144</td>\n",
       "      <td>0.0479</td>\n",
       "      <td>0.0484</td>\n",
       "      <td>0.1347</td>\n",
       "      <td>nan</td>\n",
       "      <td>1.0000</td>\n",
       "    </tr>\n",
       "    <tr>\n",
       "      <th>1995-05-08</th>\n",
       "      <td>0.0144</td>\n",
       "      <td>0.0475</td>\n",
       "      <td>0.0482</td>\n",
       "      <td>0.1323</td>\n",
       "      <td>nan</td>\n",
       "      <td>1.0000</td>\n",
       "    </tr>\n",
       "    <tr>\n",
       "      <th>...</th>\n",
       "      <td>...</td>\n",
       "      <td>...</td>\n",
       "      <td>...</td>\n",
       "      <td>...</td>\n",
       "      <td>...</td>\n",
       "      <td>...</td>\n",
       "    </tr>\n",
       "    <tr>\n",
       "      <th>2021-01-11</th>\n",
       "      <td>0.0224</td>\n",
       "      <td>0.0097</td>\n",
       "      <td>0.2125</td>\n",
       "      <td>0.0066</td>\n",
       "      <td>0.0075</td>\n",
       "      <td>1.0000</td>\n",
       "    </tr>\n",
       "    <tr>\n",
       "      <th>2021-01-12</th>\n",
       "      <td>0.0220</td>\n",
       "      <td>0.0095</td>\n",
       "      <td>0.2130</td>\n",
       "      <td>0.0066</td>\n",
       "      <td>0.0076</td>\n",
       "      <td>1.0000</td>\n",
       "    </tr>\n",
       "    <tr>\n",
       "      <th>2021-01-13</th>\n",
       "      <td>0.0217</td>\n",
       "      <td>0.0097</td>\n",
       "      <td>0.2096</td>\n",
       "      <td>0.0065</td>\n",
       "      <td>0.0077</td>\n",
       "      <td>1.0000</td>\n",
       "    </tr>\n",
       "    <tr>\n",
       "      <th>2021-01-14</th>\n",
       "      <td>0.0209</td>\n",
       "      <td>0.0096</td>\n",
       "      <td>0.2095</td>\n",
       "      <td>0.0065</td>\n",
       "      <td>0.0076</td>\n",
       "      <td>1.0000</td>\n",
       "    </tr>\n",
       "    <tr>\n",
       "      <th>2021-01-15</th>\n",
       "      <td>0.0204</td>\n",
       "      <td>0.0096</td>\n",
       "      <td>0.2094</td>\n",
       "      <td>0.0065</td>\n",
       "      <td>0.0075</td>\n",
       "      <td>1.0000</td>\n",
       "    </tr>\n",
       "  </tbody>\n",
       "</table>\n",
       "<p>6517 rows × 6 columns</p>\n",
       "</div>"
      ],
      "text/plain": [
       "Code          현대차  POSCO   삼성전자   한국전력   KB금융  상장주식시가총액\n",
       "Date                                                   \n",
       "1995-05-02 0.0138 0.0457 0.0482 0.1252    nan    1.0000\n",
       "1995-05-03 0.0141 0.0475 0.0489 0.1301    nan    1.0000\n",
       "1995-05-04 0.0142 0.0476 0.0485 0.1345    nan    1.0000\n",
       "1995-05-06 0.0144 0.0479 0.0484 0.1347    nan    1.0000\n",
       "1995-05-08 0.0144 0.0475 0.0482 0.1323    nan    1.0000\n",
       "...           ...    ...    ...    ...    ...       ...\n",
       "2021-01-11 0.0224 0.0097 0.2125 0.0066 0.0075    1.0000\n",
       "2021-01-12 0.0220 0.0095 0.2130 0.0066 0.0076    1.0000\n",
       "2021-01-13 0.0217 0.0097 0.2096 0.0065 0.0077    1.0000\n",
       "2021-01-14 0.0209 0.0096 0.2095 0.0065 0.0076    1.0000\n",
       "2021-01-15 0.0204 0.0096 0.2094 0.0065 0.0075    1.0000\n",
       "\n",
       "[6517 rows x 6 columns]"
      ]
     },
     "execution_count": 114,
     "metadata": {
      "tags": []
     },
     "output_type": "execute_result"
    }
   ],
   "source": [
    "m.divide(상장주식시가총액, axis=0)"
   ]
  },
  {
   "cell_type": "code",
   "execution_count": 103,
   "metadata": {
    "colab": {
     "base_uri": "https://localhost:8080/"
    },
    "executionInfo": {
     "elapsed": 1547,
     "status": "ok",
     "timestamp": 1611247824245,
     "user": {
      "displayName": "Sean-June Lee",
      "photoUrl": "https://lh3.googleusercontent.com/a-/AOh14Gj6rvtcx9Gy8VOzzw2LH1hYtnxIuHBDw8qnYK9SAuY=s64",
      "userId": "12576390002043678893"
     },
     "user_tz": -540
    },
    "id": "pCkkT65z05lq",
    "outputId": "4ba28a9e-bdba-4a6b-c275-beefb6391736"
   },
   "outputs": [
    {
     "data": {
      "text/plain": [
       "Date\n",
       "1995-05-02     134713479923960\n",
       "1995-05-03     137255450392250\n",
       "1995-05-04     137395277384830\n",
       "1995-05-06     137122266028070\n",
       "1995-05-08     136361070157380\n",
       "                    ...       \n",
       "2021-01-11    2556140698402270\n",
       "2021-01-12    2539389518593471\n",
       "2021-01-13    2555060321900568\n",
       "2021-01-14    2556402104529020\n",
       "2021-01-15    2508508338186183\n",
       "Name: Marcap, Length: 6517, dtype: int64"
      ]
     },
     "execution_count": 103,
     "metadata": {
      "tags": []
     },
     "output_type": "execute_result"
    }
   ],
   "source": [
    "상장주식시가총액 = df_marcap.groupby('Date').sum()['Marcap']\n",
    "상장주식시가총액"
   ]
  },
  {
   "cell_type": "code",
   "execution_count": 107,
   "metadata": {
    "executionInfo": {
     "elapsed": 659,
     "status": "ok",
     "timestamp": 1611247879565,
     "user": {
      "displayName": "Sean-June Lee",
      "photoUrl": "https://lh3.googleusercontent.com/a-/AOh14Gj6rvtcx9Gy8VOzzw2LH1hYtnxIuHBDw8qnYK9SAuY=s64",
      "userId": "12576390002043678893"
     },
     "user_tz": -540
    },
    "id": "TGuvYc_J2z2s"
   },
   "outputs": [],
   "source": [
    "pd.options.display.float_format = '{:.4f}'.format"
   ]
  },
  {
   "cell_type": "code",
   "execution_count": 109,
   "metadata": {
    "colab": {
     "base_uri": "https://localhost:8080/"
    },
    "executionInfo": {
     "elapsed": 963,
     "status": "ok",
     "timestamp": 1611247936995,
     "user": {
      "displayName": "Sean-June Lee",
      "photoUrl": "https://lh3.googleusercontent.com/a-/AOh14Gj6rvtcx9Gy8VOzzw2LH1hYtnxIuHBDw8qnYK9SAuY=s64",
      "userId": "12576390002043678893"
     },
     "user_tz": -540
    },
    "id": "-jsvy1EZ2OqJ",
    "outputId": "87a1f537-c848-49d3-9009-9af94b5d5e5f"
   },
   "outputs": [
    {
     "data": {
      "text/plain": [
       "Date\n",
       "1995-05-02   0.0482\n",
       "1995-05-03   0.0489\n",
       "1995-05-04   0.0485\n",
       "1995-05-06   0.0484\n",
       "1995-05-08   0.0482\n",
       "              ...  \n",
       "2021-01-11   0.2125\n",
       "2021-01-12   0.2130\n",
       "2021-01-13   0.2096\n",
       "2021-01-14   0.2095\n",
       "2021-01-15   0.2094\n",
       "Length: 6517, dtype: float64"
      ]
     },
     "execution_count": 109,
     "metadata": {
      "tags": []
     },
     "output_type": "execute_result"
    }
   ],
   "source": [
    "m['삼성전자'].div(상장주식시가총액)"
   ]
  },
  {
   "cell_type": "code",
   "execution_count": 80,
   "metadata": {
    "colab": {
     "base_uri": "https://localhost:8080/",
     "height": 690
    },
    "executionInfo": {
     "elapsed": 1791,
     "status": "ok",
     "timestamp": 1611247434215,
     "user": {
      "displayName": "Sean-June Lee",
      "photoUrl": "https://lh3.googleusercontent.com/a-/AOh14Gj6rvtcx9Gy8VOzzw2LH1hYtnxIuHBDw8qnYK9SAuY=s64",
      "userId": "12576390002043678893"
     },
     "user_tz": -540
    },
    "id": "nG8lSva205hf",
    "outputId": "f2e2c541-586c-433e-be96-8f22996b1a3a"
   },
   "outputs": [
    {
     "data": {
      "text/html": [
       "<div>\n",
       "<style scoped>\n",
       "    .dataframe tbody tr th:only-of-type {\n",
       "        vertical-align: middle;\n",
       "    }\n",
       "\n",
       "    .dataframe tbody tr th {\n",
       "        vertical-align: top;\n",
       "    }\n",
       "\n",
       "    .dataframe thead th {\n",
       "        text-align: right;\n",
       "    }\n",
       "</style>\n",
       "<table border=\"1\" class=\"dataframe\">\n",
       "  <thead>\n",
       "    <tr style=\"text-align: right;\">\n",
       "      <th></th>\n",
       "      <th>1995-05-02 00:00:00</th>\n",
       "      <th>1995-05-03 00:00:00</th>\n",
       "      <th>1995-05-04 00:00:00</th>\n",
       "      <th>1995-05-06 00:00:00</th>\n",
       "      <th>1995-05-08 00:00:00</th>\n",
       "      <th>1995-05-09 00:00:00</th>\n",
       "      <th>1995-05-10 00:00:00</th>\n",
       "      <th>1995-05-11 00:00:00</th>\n",
       "      <th>1995-05-12 00:00:00</th>\n",
       "      <th>1995-05-13 00:00:00</th>\n",
       "      <th>1995-05-15 00:00:00</th>\n",
       "      <th>1995-05-16 00:00:00</th>\n",
       "      <th>1995-05-17 00:00:00</th>\n",
       "      <th>1995-05-18 00:00:00</th>\n",
       "      <th>1995-05-19 00:00:00</th>\n",
       "      <th>1995-05-20 00:00:00</th>\n",
       "      <th>1995-05-22 00:00:00</th>\n",
       "      <th>1995-05-23 00:00:00</th>\n",
       "      <th>1995-05-24 00:00:00</th>\n",
       "      <th>1995-05-25 00:00:00</th>\n",
       "      <th>1995-05-26 00:00:00</th>\n",
       "      <th>1995-05-27 00:00:00</th>\n",
       "      <th>1995-05-29 00:00:00</th>\n",
       "      <th>1995-05-30 00:00:00</th>\n",
       "      <th>1995-05-31 00:00:00</th>\n",
       "      <th>1995-06-01 00:00:00</th>\n",
       "      <th>1995-06-02 00:00:00</th>\n",
       "      <th>1995-06-03 00:00:00</th>\n",
       "      <th>1995-06-05 00:00:00</th>\n",
       "      <th>1995-06-07 00:00:00</th>\n",
       "      <th>1995-06-08 00:00:00</th>\n",
       "      <th>1995-06-09 00:00:00</th>\n",
       "      <th>1995-06-10 00:00:00</th>\n",
       "      <th>1995-06-12 00:00:00</th>\n",
       "      <th>1995-06-13 00:00:00</th>\n",
       "      <th>1995-06-14 00:00:00</th>\n",
       "      <th>1995-06-15 00:00:00</th>\n",
       "      <th>1995-06-16 00:00:00</th>\n",
       "      <th>1995-06-17 00:00:00</th>\n",
       "      <th>1995-06-19 00:00:00</th>\n",
       "      <th>...</th>\n",
       "      <th>2020-11-25 00:00:00</th>\n",
       "      <th>2020-11-26 00:00:00</th>\n",
       "      <th>2020-11-27 00:00:00</th>\n",
       "      <th>2020-11-30 00:00:00</th>\n",
       "      <th>2020-12-01 00:00:00</th>\n",
       "      <th>2020-12-02 00:00:00</th>\n",
       "      <th>2020-12-03 00:00:00</th>\n",
       "      <th>2020-12-04 00:00:00</th>\n",
       "      <th>2020-12-07 00:00:00</th>\n",
       "      <th>2020-12-08 00:00:00</th>\n",
       "      <th>2020-12-09 00:00:00</th>\n",
       "      <th>2020-12-10 00:00:00</th>\n",
       "      <th>2020-12-11 00:00:00</th>\n",
       "      <th>2020-12-14 00:00:00</th>\n",
       "      <th>2020-12-15 00:00:00</th>\n",
       "      <th>2020-12-16 00:00:00</th>\n",
       "      <th>2020-12-17 00:00:00</th>\n",
       "      <th>2020-12-18 00:00:00</th>\n",
       "      <th>2020-12-21 00:00:00</th>\n",
       "      <th>2020-12-22 00:00:00</th>\n",
       "      <th>2020-12-23 00:00:00</th>\n",
       "      <th>2020-12-24 00:00:00</th>\n",
       "      <th>2020-12-28 00:00:00</th>\n",
       "      <th>2020-12-29 00:00:00</th>\n",
       "      <th>2020-12-30 00:00:00</th>\n",
       "      <th>2021-01-04 00:00:00</th>\n",
       "      <th>2021-01-05 00:00:00</th>\n",
       "      <th>2021-01-06 00:00:00</th>\n",
       "      <th>2021-01-07 00:00:00</th>\n",
       "      <th>2021-01-08 00:00:00</th>\n",
       "      <th>2021-01-11 00:00:00</th>\n",
       "      <th>2021-01-12 00:00:00</th>\n",
       "      <th>2021-01-13 00:00:00</th>\n",
       "      <th>2021-01-14 00:00:00</th>\n",
       "      <th>2021-01-15 00:00:00</th>\n",
       "      <th>KB금융</th>\n",
       "      <th>POSCO</th>\n",
       "      <th>삼성전자</th>\n",
       "      <th>한국전력</th>\n",
       "      <th>현대차</th>\n",
       "    </tr>\n",
       "    <tr>\n",
       "      <th>Date</th>\n",
       "      <th></th>\n",
       "      <th></th>\n",
       "      <th></th>\n",
       "      <th></th>\n",
       "      <th></th>\n",
       "      <th></th>\n",
       "      <th></th>\n",
       "      <th></th>\n",
       "      <th></th>\n",
       "      <th></th>\n",
       "      <th></th>\n",
       "      <th></th>\n",
       "      <th></th>\n",
       "      <th></th>\n",
       "      <th></th>\n",
       "      <th></th>\n",
       "      <th></th>\n",
       "      <th></th>\n",
       "      <th></th>\n",
       "      <th></th>\n",
       "      <th></th>\n",
       "      <th></th>\n",
       "      <th></th>\n",
       "      <th></th>\n",
       "      <th></th>\n",
       "      <th></th>\n",
       "      <th></th>\n",
       "      <th></th>\n",
       "      <th></th>\n",
       "      <th></th>\n",
       "      <th></th>\n",
       "      <th></th>\n",
       "      <th></th>\n",
       "      <th></th>\n",
       "      <th></th>\n",
       "      <th></th>\n",
       "      <th></th>\n",
       "      <th></th>\n",
       "      <th></th>\n",
       "      <th></th>\n",
       "      <th></th>\n",
       "      <th></th>\n",
       "      <th></th>\n",
       "      <th></th>\n",
       "      <th></th>\n",
       "      <th></th>\n",
       "      <th></th>\n",
       "      <th></th>\n",
       "      <th></th>\n",
       "      <th></th>\n",
       "      <th></th>\n",
       "      <th></th>\n",
       "      <th></th>\n",
       "      <th></th>\n",
       "      <th></th>\n",
       "      <th></th>\n",
       "      <th></th>\n",
       "      <th></th>\n",
       "      <th></th>\n",
       "      <th></th>\n",
       "      <th></th>\n",
       "      <th></th>\n",
       "      <th></th>\n",
       "      <th></th>\n",
       "      <th></th>\n",
       "      <th></th>\n",
       "      <th></th>\n",
       "      <th></th>\n",
       "      <th></th>\n",
       "      <th></th>\n",
       "      <th></th>\n",
       "      <th></th>\n",
       "      <th></th>\n",
       "      <th></th>\n",
       "      <th></th>\n",
       "      <th></th>\n",
       "      <th></th>\n",
       "      <th></th>\n",
       "      <th></th>\n",
       "      <th></th>\n",
       "      <th></th>\n",
       "    </tr>\n",
       "  </thead>\n",
       "  <tbody>\n",
       "    <tr>\n",
       "      <th>1995-05-02</th>\n",
       "      <td>nan</td>\n",
       "      <td>nan</td>\n",
       "      <td>nan</td>\n",
       "      <td>nan</td>\n",
       "      <td>nan</td>\n",
       "      <td>nan</td>\n",
       "      <td>nan</td>\n",
       "      <td>nan</td>\n",
       "      <td>nan</td>\n",
       "      <td>nan</td>\n",
       "      <td>nan</td>\n",
       "      <td>nan</td>\n",
       "      <td>nan</td>\n",
       "      <td>nan</td>\n",
       "      <td>nan</td>\n",
       "      <td>nan</td>\n",
       "      <td>nan</td>\n",
       "      <td>nan</td>\n",
       "      <td>nan</td>\n",
       "      <td>nan</td>\n",
       "      <td>nan</td>\n",
       "      <td>nan</td>\n",
       "      <td>nan</td>\n",
       "      <td>nan</td>\n",
       "      <td>nan</td>\n",
       "      <td>nan</td>\n",
       "      <td>nan</td>\n",
       "      <td>nan</td>\n",
       "      <td>nan</td>\n",
       "      <td>nan</td>\n",
       "      <td>nan</td>\n",
       "      <td>nan</td>\n",
       "      <td>nan</td>\n",
       "      <td>nan</td>\n",
       "      <td>nan</td>\n",
       "      <td>nan</td>\n",
       "      <td>nan</td>\n",
       "      <td>nan</td>\n",
       "      <td>nan</td>\n",
       "      <td>nan</td>\n",
       "      <td>...</td>\n",
       "      <td>nan</td>\n",
       "      <td>nan</td>\n",
       "      <td>nan</td>\n",
       "      <td>nan</td>\n",
       "      <td>nan</td>\n",
       "      <td>nan</td>\n",
       "      <td>nan</td>\n",
       "      <td>nan</td>\n",
       "      <td>nan</td>\n",
       "      <td>nan</td>\n",
       "      <td>nan</td>\n",
       "      <td>nan</td>\n",
       "      <td>nan</td>\n",
       "      <td>nan</td>\n",
       "      <td>nan</td>\n",
       "      <td>nan</td>\n",
       "      <td>nan</td>\n",
       "      <td>nan</td>\n",
       "      <td>nan</td>\n",
       "      <td>nan</td>\n",
       "      <td>nan</td>\n",
       "      <td>nan</td>\n",
       "      <td>nan</td>\n",
       "      <td>nan</td>\n",
       "      <td>nan</td>\n",
       "      <td>nan</td>\n",
       "      <td>nan</td>\n",
       "      <td>nan</td>\n",
       "      <td>nan</td>\n",
       "      <td>nan</td>\n",
       "      <td>nan</td>\n",
       "      <td>nan</td>\n",
       "      <td>nan</td>\n",
       "      <td>nan</td>\n",
       "      <td>nan</td>\n",
       "      <td>nan</td>\n",
       "      <td>nan</td>\n",
       "      <td>nan</td>\n",
       "      <td>nan</td>\n",
       "      <td>nan</td>\n",
       "    </tr>\n",
       "    <tr>\n",
       "      <th>1995-05-03</th>\n",
       "      <td>nan</td>\n",
       "      <td>nan</td>\n",
       "      <td>nan</td>\n",
       "      <td>nan</td>\n",
       "      <td>nan</td>\n",
       "      <td>nan</td>\n",
       "      <td>nan</td>\n",
       "      <td>nan</td>\n",
       "      <td>nan</td>\n",
       "      <td>nan</td>\n",
       "      <td>nan</td>\n",
       "      <td>nan</td>\n",
       "      <td>nan</td>\n",
       "      <td>nan</td>\n",
       "      <td>nan</td>\n",
       "      <td>nan</td>\n",
       "      <td>nan</td>\n",
       "      <td>nan</td>\n",
       "      <td>nan</td>\n",
       "      <td>nan</td>\n",
       "      <td>nan</td>\n",
       "      <td>nan</td>\n",
       "      <td>nan</td>\n",
       "      <td>nan</td>\n",
       "      <td>nan</td>\n",
       "      <td>nan</td>\n",
       "      <td>nan</td>\n",
       "      <td>nan</td>\n",
       "      <td>nan</td>\n",
       "      <td>nan</td>\n",
       "      <td>nan</td>\n",
       "      <td>nan</td>\n",
       "      <td>nan</td>\n",
       "      <td>nan</td>\n",
       "      <td>nan</td>\n",
       "      <td>nan</td>\n",
       "      <td>nan</td>\n",
       "      <td>nan</td>\n",
       "      <td>nan</td>\n",
       "      <td>nan</td>\n",
       "      <td>...</td>\n",
       "      <td>nan</td>\n",
       "      <td>nan</td>\n",
       "      <td>nan</td>\n",
       "      <td>nan</td>\n",
       "      <td>nan</td>\n",
       "      <td>nan</td>\n",
       "      <td>nan</td>\n",
       "      <td>nan</td>\n",
       "      <td>nan</td>\n",
       "      <td>nan</td>\n",
       "      <td>nan</td>\n",
       "      <td>nan</td>\n",
       "      <td>nan</td>\n",
       "      <td>nan</td>\n",
       "      <td>nan</td>\n",
       "      <td>nan</td>\n",
       "      <td>nan</td>\n",
       "      <td>nan</td>\n",
       "      <td>nan</td>\n",
       "      <td>nan</td>\n",
       "      <td>nan</td>\n",
       "      <td>nan</td>\n",
       "      <td>nan</td>\n",
       "      <td>nan</td>\n",
       "      <td>nan</td>\n",
       "      <td>nan</td>\n",
       "      <td>nan</td>\n",
       "      <td>nan</td>\n",
       "      <td>nan</td>\n",
       "      <td>nan</td>\n",
       "      <td>nan</td>\n",
       "      <td>nan</td>\n",
       "      <td>nan</td>\n",
       "      <td>nan</td>\n",
       "      <td>nan</td>\n",
       "      <td>nan</td>\n",
       "      <td>nan</td>\n",
       "      <td>nan</td>\n",
       "      <td>nan</td>\n",
       "      <td>nan</td>\n",
       "    </tr>\n",
       "    <tr>\n",
       "      <th>1995-05-04</th>\n",
       "      <td>nan</td>\n",
       "      <td>nan</td>\n",
       "      <td>nan</td>\n",
       "      <td>nan</td>\n",
       "      <td>nan</td>\n",
       "      <td>nan</td>\n",
       "      <td>nan</td>\n",
       "      <td>nan</td>\n",
       "      <td>nan</td>\n",
       "      <td>nan</td>\n",
       "      <td>nan</td>\n",
       "      <td>nan</td>\n",
       "      <td>nan</td>\n",
       "      <td>nan</td>\n",
       "      <td>nan</td>\n",
       "      <td>nan</td>\n",
       "      <td>nan</td>\n",
       "      <td>nan</td>\n",
       "      <td>nan</td>\n",
       "      <td>nan</td>\n",
       "      <td>nan</td>\n",
       "      <td>nan</td>\n",
       "      <td>nan</td>\n",
       "      <td>nan</td>\n",
       "      <td>nan</td>\n",
       "      <td>nan</td>\n",
       "      <td>nan</td>\n",
       "      <td>nan</td>\n",
       "      <td>nan</td>\n",
       "      <td>nan</td>\n",
       "      <td>nan</td>\n",
       "      <td>nan</td>\n",
       "      <td>nan</td>\n",
       "      <td>nan</td>\n",
       "      <td>nan</td>\n",
       "      <td>nan</td>\n",
       "      <td>nan</td>\n",
       "      <td>nan</td>\n",
       "      <td>nan</td>\n",
       "      <td>nan</td>\n",
       "      <td>...</td>\n",
       "      <td>nan</td>\n",
       "      <td>nan</td>\n",
       "      <td>nan</td>\n",
       "      <td>nan</td>\n",
       "      <td>nan</td>\n",
       "      <td>nan</td>\n",
       "      <td>nan</td>\n",
       "      <td>nan</td>\n",
       "      <td>nan</td>\n",
       "      <td>nan</td>\n",
       "      <td>nan</td>\n",
       "      <td>nan</td>\n",
       "      <td>nan</td>\n",
       "      <td>nan</td>\n",
       "      <td>nan</td>\n",
       "      <td>nan</td>\n",
       "      <td>nan</td>\n",
       "      <td>nan</td>\n",
       "      <td>nan</td>\n",
       "      <td>nan</td>\n",
       "      <td>nan</td>\n",
       "      <td>nan</td>\n",
       "      <td>nan</td>\n",
       "      <td>nan</td>\n",
       "      <td>nan</td>\n",
       "      <td>nan</td>\n",
       "      <td>nan</td>\n",
       "      <td>nan</td>\n",
       "      <td>nan</td>\n",
       "      <td>nan</td>\n",
       "      <td>nan</td>\n",
       "      <td>nan</td>\n",
       "      <td>nan</td>\n",
       "      <td>nan</td>\n",
       "      <td>nan</td>\n",
       "      <td>nan</td>\n",
       "      <td>nan</td>\n",
       "      <td>nan</td>\n",
       "      <td>nan</td>\n",
       "      <td>nan</td>\n",
       "    </tr>\n",
       "    <tr>\n",
       "      <th>1995-05-06</th>\n",
       "      <td>nan</td>\n",
       "      <td>nan</td>\n",
       "      <td>nan</td>\n",
       "      <td>nan</td>\n",
       "      <td>nan</td>\n",
       "      <td>nan</td>\n",
       "      <td>nan</td>\n",
       "      <td>nan</td>\n",
       "      <td>nan</td>\n",
       "      <td>nan</td>\n",
       "      <td>nan</td>\n",
       "      <td>nan</td>\n",
       "      <td>nan</td>\n",
       "      <td>nan</td>\n",
       "      <td>nan</td>\n",
       "      <td>nan</td>\n",
       "      <td>nan</td>\n",
       "      <td>nan</td>\n",
       "      <td>nan</td>\n",
       "      <td>nan</td>\n",
       "      <td>nan</td>\n",
       "      <td>nan</td>\n",
       "      <td>nan</td>\n",
       "      <td>nan</td>\n",
       "      <td>nan</td>\n",
       "      <td>nan</td>\n",
       "      <td>nan</td>\n",
       "      <td>nan</td>\n",
       "      <td>nan</td>\n",
       "      <td>nan</td>\n",
       "      <td>nan</td>\n",
       "      <td>nan</td>\n",
       "      <td>nan</td>\n",
       "      <td>nan</td>\n",
       "      <td>nan</td>\n",
       "      <td>nan</td>\n",
       "      <td>nan</td>\n",
       "      <td>nan</td>\n",
       "      <td>nan</td>\n",
       "      <td>nan</td>\n",
       "      <td>...</td>\n",
       "      <td>nan</td>\n",
       "      <td>nan</td>\n",
       "      <td>nan</td>\n",
       "      <td>nan</td>\n",
       "      <td>nan</td>\n",
       "      <td>nan</td>\n",
       "      <td>nan</td>\n",
       "      <td>nan</td>\n",
       "      <td>nan</td>\n",
       "      <td>nan</td>\n",
       "      <td>nan</td>\n",
       "      <td>nan</td>\n",
       "      <td>nan</td>\n",
       "      <td>nan</td>\n",
       "      <td>nan</td>\n",
       "      <td>nan</td>\n",
       "      <td>nan</td>\n",
       "      <td>nan</td>\n",
       "      <td>nan</td>\n",
       "      <td>nan</td>\n",
       "      <td>nan</td>\n",
       "      <td>nan</td>\n",
       "      <td>nan</td>\n",
       "      <td>nan</td>\n",
       "      <td>nan</td>\n",
       "      <td>nan</td>\n",
       "      <td>nan</td>\n",
       "      <td>nan</td>\n",
       "      <td>nan</td>\n",
       "      <td>nan</td>\n",
       "      <td>nan</td>\n",
       "      <td>nan</td>\n",
       "      <td>nan</td>\n",
       "      <td>nan</td>\n",
       "      <td>nan</td>\n",
       "      <td>nan</td>\n",
       "      <td>nan</td>\n",
       "      <td>nan</td>\n",
       "      <td>nan</td>\n",
       "      <td>nan</td>\n",
       "    </tr>\n",
       "    <tr>\n",
       "      <th>1995-05-08</th>\n",
       "      <td>nan</td>\n",
       "      <td>nan</td>\n",
       "      <td>nan</td>\n",
       "      <td>nan</td>\n",
       "      <td>nan</td>\n",
       "      <td>nan</td>\n",
       "      <td>nan</td>\n",
       "      <td>nan</td>\n",
       "      <td>nan</td>\n",
       "      <td>nan</td>\n",
       "      <td>nan</td>\n",
       "      <td>nan</td>\n",
       "      <td>nan</td>\n",
       "      <td>nan</td>\n",
       "      <td>nan</td>\n",
       "      <td>nan</td>\n",
       "      <td>nan</td>\n",
       "      <td>nan</td>\n",
       "      <td>nan</td>\n",
       "      <td>nan</td>\n",
       "      <td>nan</td>\n",
       "      <td>nan</td>\n",
       "      <td>nan</td>\n",
       "      <td>nan</td>\n",
       "      <td>nan</td>\n",
       "      <td>nan</td>\n",
       "      <td>nan</td>\n",
       "      <td>nan</td>\n",
       "      <td>nan</td>\n",
       "      <td>nan</td>\n",
       "      <td>nan</td>\n",
       "      <td>nan</td>\n",
       "      <td>nan</td>\n",
       "      <td>nan</td>\n",
       "      <td>nan</td>\n",
       "      <td>nan</td>\n",
       "      <td>nan</td>\n",
       "      <td>nan</td>\n",
       "      <td>nan</td>\n",
       "      <td>nan</td>\n",
       "      <td>...</td>\n",
       "      <td>nan</td>\n",
       "      <td>nan</td>\n",
       "      <td>nan</td>\n",
       "      <td>nan</td>\n",
       "      <td>nan</td>\n",
       "      <td>nan</td>\n",
       "      <td>nan</td>\n",
       "      <td>nan</td>\n",
       "      <td>nan</td>\n",
       "      <td>nan</td>\n",
       "      <td>nan</td>\n",
       "      <td>nan</td>\n",
       "      <td>nan</td>\n",
       "      <td>nan</td>\n",
       "      <td>nan</td>\n",
       "      <td>nan</td>\n",
       "      <td>nan</td>\n",
       "      <td>nan</td>\n",
       "      <td>nan</td>\n",
       "      <td>nan</td>\n",
       "      <td>nan</td>\n",
       "      <td>nan</td>\n",
       "      <td>nan</td>\n",
       "      <td>nan</td>\n",
       "      <td>nan</td>\n",
       "      <td>nan</td>\n",
       "      <td>nan</td>\n",
       "      <td>nan</td>\n",
       "      <td>nan</td>\n",
       "      <td>nan</td>\n",
       "      <td>nan</td>\n",
       "      <td>nan</td>\n",
       "      <td>nan</td>\n",
       "      <td>nan</td>\n",
       "      <td>nan</td>\n",
       "      <td>nan</td>\n",
       "      <td>nan</td>\n",
       "      <td>nan</td>\n",
       "      <td>nan</td>\n",
       "      <td>nan</td>\n",
       "    </tr>\n",
       "    <tr>\n",
       "      <th>...</th>\n",
       "      <td>...</td>\n",
       "      <td>...</td>\n",
       "      <td>...</td>\n",
       "      <td>...</td>\n",
       "      <td>...</td>\n",
       "      <td>...</td>\n",
       "      <td>...</td>\n",
       "      <td>...</td>\n",
       "      <td>...</td>\n",
       "      <td>...</td>\n",
       "      <td>...</td>\n",
       "      <td>...</td>\n",
       "      <td>...</td>\n",
       "      <td>...</td>\n",
       "      <td>...</td>\n",
       "      <td>...</td>\n",
       "      <td>...</td>\n",
       "      <td>...</td>\n",
       "      <td>...</td>\n",
       "      <td>...</td>\n",
       "      <td>...</td>\n",
       "      <td>...</td>\n",
       "      <td>...</td>\n",
       "      <td>...</td>\n",
       "      <td>...</td>\n",
       "      <td>...</td>\n",
       "      <td>...</td>\n",
       "      <td>...</td>\n",
       "      <td>...</td>\n",
       "      <td>...</td>\n",
       "      <td>...</td>\n",
       "      <td>...</td>\n",
       "      <td>...</td>\n",
       "      <td>...</td>\n",
       "      <td>...</td>\n",
       "      <td>...</td>\n",
       "      <td>...</td>\n",
       "      <td>...</td>\n",
       "      <td>...</td>\n",
       "      <td>...</td>\n",
       "      <td>...</td>\n",
       "      <td>...</td>\n",
       "      <td>...</td>\n",
       "      <td>...</td>\n",
       "      <td>...</td>\n",
       "      <td>...</td>\n",
       "      <td>...</td>\n",
       "      <td>...</td>\n",
       "      <td>...</td>\n",
       "      <td>...</td>\n",
       "      <td>...</td>\n",
       "      <td>...</td>\n",
       "      <td>...</td>\n",
       "      <td>...</td>\n",
       "      <td>...</td>\n",
       "      <td>...</td>\n",
       "      <td>...</td>\n",
       "      <td>...</td>\n",
       "      <td>...</td>\n",
       "      <td>...</td>\n",
       "      <td>...</td>\n",
       "      <td>...</td>\n",
       "      <td>...</td>\n",
       "      <td>...</td>\n",
       "      <td>...</td>\n",
       "      <td>...</td>\n",
       "      <td>...</td>\n",
       "      <td>...</td>\n",
       "      <td>...</td>\n",
       "      <td>...</td>\n",
       "      <td>...</td>\n",
       "      <td>...</td>\n",
       "      <td>...</td>\n",
       "      <td>...</td>\n",
       "      <td>...</td>\n",
       "      <td>...</td>\n",
       "      <td>...</td>\n",
       "      <td>...</td>\n",
       "      <td>...</td>\n",
       "      <td>...</td>\n",
       "      <td>...</td>\n",
       "    </tr>\n",
       "    <tr>\n",
       "      <th>2021-01-11</th>\n",
       "      <td>nan</td>\n",
       "      <td>nan</td>\n",
       "      <td>nan</td>\n",
       "      <td>nan</td>\n",
       "      <td>nan</td>\n",
       "      <td>nan</td>\n",
       "      <td>nan</td>\n",
       "      <td>nan</td>\n",
       "      <td>nan</td>\n",
       "      <td>nan</td>\n",
       "      <td>nan</td>\n",
       "      <td>nan</td>\n",
       "      <td>nan</td>\n",
       "      <td>nan</td>\n",
       "      <td>nan</td>\n",
       "      <td>nan</td>\n",
       "      <td>nan</td>\n",
       "      <td>nan</td>\n",
       "      <td>nan</td>\n",
       "      <td>nan</td>\n",
       "      <td>nan</td>\n",
       "      <td>nan</td>\n",
       "      <td>nan</td>\n",
       "      <td>nan</td>\n",
       "      <td>nan</td>\n",
       "      <td>nan</td>\n",
       "      <td>nan</td>\n",
       "      <td>nan</td>\n",
       "      <td>nan</td>\n",
       "      <td>nan</td>\n",
       "      <td>nan</td>\n",
       "      <td>nan</td>\n",
       "      <td>nan</td>\n",
       "      <td>nan</td>\n",
       "      <td>nan</td>\n",
       "      <td>nan</td>\n",
       "      <td>nan</td>\n",
       "      <td>nan</td>\n",
       "      <td>nan</td>\n",
       "      <td>nan</td>\n",
       "      <td>...</td>\n",
       "      <td>nan</td>\n",
       "      <td>nan</td>\n",
       "      <td>nan</td>\n",
       "      <td>nan</td>\n",
       "      <td>nan</td>\n",
       "      <td>nan</td>\n",
       "      <td>nan</td>\n",
       "      <td>nan</td>\n",
       "      <td>nan</td>\n",
       "      <td>nan</td>\n",
       "      <td>nan</td>\n",
       "      <td>nan</td>\n",
       "      <td>nan</td>\n",
       "      <td>nan</td>\n",
       "      <td>nan</td>\n",
       "      <td>nan</td>\n",
       "      <td>nan</td>\n",
       "      <td>nan</td>\n",
       "      <td>nan</td>\n",
       "      <td>nan</td>\n",
       "      <td>nan</td>\n",
       "      <td>nan</td>\n",
       "      <td>nan</td>\n",
       "      <td>nan</td>\n",
       "      <td>nan</td>\n",
       "      <td>nan</td>\n",
       "      <td>nan</td>\n",
       "      <td>nan</td>\n",
       "      <td>nan</td>\n",
       "      <td>nan</td>\n",
       "      <td>nan</td>\n",
       "      <td>nan</td>\n",
       "      <td>nan</td>\n",
       "      <td>nan</td>\n",
       "      <td>nan</td>\n",
       "      <td>nan</td>\n",
       "      <td>nan</td>\n",
       "      <td>nan</td>\n",
       "      <td>nan</td>\n",
       "      <td>nan</td>\n",
       "    </tr>\n",
       "    <tr>\n",
       "      <th>2021-01-12</th>\n",
       "      <td>nan</td>\n",
       "      <td>nan</td>\n",
       "      <td>nan</td>\n",
       "      <td>nan</td>\n",
       "      <td>nan</td>\n",
       "      <td>nan</td>\n",
       "      <td>nan</td>\n",
       "      <td>nan</td>\n",
       "      <td>nan</td>\n",
       "      <td>nan</td>\n",
       "      <td>nan</td>\n",
       "      <td>nan</td>\n",
       "      <td>nan</td>\n",
       "      <td>nan</td>\n",
       "      <td>nan</td>\n",
       "      <td>nan</td>\n",
       "      <td>nan</td>\n",
       "      <td>nan</td>\n",
       "      <td>nan</td>\n",
       "      <td>nan</td>\n",
       "      <td>nan</td>\n",
       "      <td>nan</td>\n",
       "      <td>nan</td>\n",
       "      <td>nan</td>\n",
       "      <td>nan</td>\n",
       "      <td>nan</td>\n",
       "      <td>nan</td>\n",
       "      <td>nan</td>\n",
       "      <td>nan</td>\n",
       "      <td>nan</td>\n",
       "      <td>nan</td>\n",
       "      <td>nan</td>\n",
       "      <td>nan</td>\n",
       "      <td>nan</td>\n",
       "      <td>nan</td>\n",
       "      <td>nan</td>\n",
       "      <td>nan</td>\n",
       "      <td>nan</td>\n",
       "      <td>nan</td>\n",
       "      <td>nan</td>\n",
       "      <td>...</td>\n",
       "      <td>nan</td>\n",
       "      <td>nan</td>\n",
       "      <td>nan</td>\n",
       "      <td>nan</td>\n",
       "      <td>nan</td>\n",
       "      <td>nan</td>\n",
       "      <td>nan</td>\n",
       "      <td>nan</td>\n",
       "      <td>nan</td>\n",
       "      <td>nan</td>\n",
       "      <td>nan</td>\n",
       "      <td>nan</td>\n",
       "      <td>nan</td>\n",
       "      <td>nan</td>\n",
       "      <td>nan</td>\n",
       "      <td>nan</td>\n",
       "      <td>nan</td>\n",
       "      <td>nan</td>\n",
       "      <td>nan</td>\n",
       "      <td>nan</td>\n",
       "      <td>nan</td>\n",
       "      <td>nan</td>\n",
       "      <td>nan</td>\n",
       "      <td>nan</td>\n",
       "      <td>nan</td>\n",
       "      <td>nan</td>\n",
       "      <td>nan</td>\n",
       "      <td>nan</td>\n",
       "      <td>nan</td>\n",
       "      <td>nan</td>\n",
       "      <td>nan</td>\n",
       "      <td>nan</td>\n",
       "      <td>nan</td>\n",
       "      <td>nan</td>\n",
       "      <td>nan</td>\n",
       "      <td>nan</td>\n",
       "      <td>nan</td>\n",
       "      <td>nan</td>\n",
       "      <td>nan</td>\n",
       "      <td>nan</td>\n",
       "    </tr>\n",
       "    <tr>\n",
       "      <th>2021-01-13</th>\n",
       "      <td>nan</td>\n",
       "      <td>nan</td>\n",
       "      <td>nan</td>\n",
       "      <td>nan</td>\n",
       "      <td>nan</td>\n",
       "      <td>nan</td>\n",
       "      <td>nan</td>\n",
       "      <td>nan</td>\n",
       "      <td>nan</td>\n",
       "      <td>nan</td>\n",
       "      <td>nan</td>\n",
       "      <td>nan</td>\n",
       "      <td>nan</td>\n",
       "      <td>nan</td>\n",
       "      <td>nan</td>\n",
       "      <td>nan</td>\n",
       "      <td>nan</td>\n",
       "      <td>nan</td>\n",
       "      <td>nan</td>\n",
       "      <td>nan</td>\n",
       "      <td>nan</td>\n",
       "      <td>nan</td>\n",
       "      <td>nan</td>\n",
       "      <td>nan</td>\n",
       "      <td>nan</td>\n",
       "      <td>nan</td>\n",
       "      <td>nan</td>\n",
       "      <td>nan</td>\n",
       "      <td>nan</td>\n",
       "      <td>nan</td>\n",
       "      <td>nan</td>\n",
       "      <td>nan</td>\n",
       "      <td>nan</td>\n",
       "      <td>nan</td>\n",
       "      <td>nan</td>\n",
       "      <td>nan</td>\n",
       "      <td>nan</td>\n",
       "      <td>nan</td>\n",
       "      <td>nan</td>\n",
       "      <td>nan</td>\n",
       "      <td>...</td>\n",
       "      <td>nan</td>\n",
       "      <td>nan</td>\n",
       "      <td>nan</td>\n",
       "      <td>nan</td>\n",
       "      <td>nan</td>\n",
       "      <td>nan</td>\n",
       "      <td>nan</td>\n",
       "      <td>nan</td>\n",
       "      <td>nan</td>\n",
       "      <td>nan</td>\n",
       "      <td>nan</td>\n",
       "      <td>nan</td>\n",
       "      <td>nan</td>\n",
       "      <td>nan</td>\n",
       "      <td>nan</td>\n",
       "      <td>nan</td>\n",
       "      <td>nan</td>\n",
       "      <td>nan</td>\n",
       "      <td>nan</td>\n",
       "      <td>nan</td>\n",
       "      <td>nan</td>\n",
       "      <td>nan</td>\n",
       "      <td>nan</td>\n",
       "      <td>nan</td>\n",
       "      <td>nan</td>\n",
       "      <td>nan</td>\n",
       "      <td>nan</td>\n",
       "      <td>nan</td>\n",
       "      <td>nan</td>\n",
       "      <td>nan</td>\n",
       "      <td>nan</td>\n",
       "      <td>nan</td>\n",
       "      <td>nan</td>\n",
       "      <td>nan</td>\n",
       "      <td>nan</td>\n",
       "      <td>nan</td>\n",
       "      <td>nan</td>\n",
       "      <td>nan</td>\n",
       "      <td>nan</td>\n",
       "      <td>nan</td>\n",
       "    </tr>\n",
       "    <tr>\n",
       "      <th>2021-01-14</th>\n",
       "      <td>nan</td>\n",
       "      <td>nan</td>\n",
       "      <td>nan</td>\n",
       "      <td>nan</td>\n",
       "      <td>nan</td>\n",
       "      <td>nan</td>\n",
       "      <td>nan</td>\n",
       "      <td>nan</td>\n",
       "      <td>nan</td>\n",
       "      <td>nan</td>\n",
       "      <td>nan</td>\n",
       "      <td>nan</td>\n",
       "      <td>nan</td>\n",
       "      <td>nan</td>\n",
       "      <td>nan</td>\n",
       "      <td>nan</td>\n",
       "      <td>nan</td>\n",
       "      <td>nan</td>\n",
       "      <td>nan</td>\n",
       "      <td>nan</td>\n",
       "      <td>nan</td>\n",
       "      <td>nan</td>\n",
       "      <td>nan</td>\n",
       "      <td>nan</td>\n",
       "      <td>nan</td>\n",
       "      <td>nan</td>\n",
       "      <td>nan</td>\n",
       "      <td>nan</td>\n",
       "      <td>nan</td>\n",
       "      <td>nan</td>\n",
       "      <td>nan</td>\n",
       "      <td>nan</td>\n",
       "      <td>nan</td>\n",
       "      <td>nan</td>\n",
       "      <td>nan</td>\n",
       "      <td>nan</td>\n",
       "      <td>nan</td>\n",
       "      <td>nan</td>\n",
       "      <td>nan</td>\n",
       "      <td>nan</td>\n",
       "      <td>...</td>\n",
       "      <td>nan</td>\n",
       "      <td>nan</td>\n",
       "      <td>nan</td>\n",
       "      <td>nan</td>\n",
       "      <td>nan</td>\n",
       "      <td>nan</td>\n",
       "      <td>nan</td>\n",
       "      <td>nan</td>\n",
       "      <td>nan</td>\n",
       "      <td>nan</td>\n",
       "      <td>nan</td>\n",
       "      <td>nan</td>\n",
       "      <td>nan</td>\n",
       "      <td>nan</td>\n",
       "      <td>nan</td>\n",
       "      <td>nan</td>\n",
       "      <td>nan</td>\n",
       "      <td>nan</td>\n",
       "      <td>nan</td>\n",
       "      <td>nan</td>\n",
       "      <td>nan</td>\n",
       "      <td>nan</td>\n",
       "      <td>nan</td>\n",
       "      <td>nan</td>\n",
       "      <td>nan</td>\n",
       "      <td>nan</td>\n",
       "      <td>nan</td>\n",
       "      <td>nan</td>\n",
       "      <td>nan</td>\n",
       "      <td>nan</td>\n",
       "      <td>nan</td>\n",
       "      <td>nan</td>\n",
       "      <td>nan</td>\n",
       "      <td>nan</td>\n",
       "      <td>nan</td>\n",
       "      <td>nan</td>\n",
       "      <td>nan</td>\n",
       "      <td>nan</td>\n",
       "      <td>nan</td>\n",
       "      <td>nan</td>\n",
       "    </tr>\n",
       "    <tr>\n",
       "      <th>2021-01-15</th>\n",
       "      <td>nan</td>\n",
       "      <td>nan</td>\n",
       "      <td>nan</td>\n",
       "      <td>nan</td>\n",
       "      <td>nan</td>\n",
       "      <td>nan</td>\n",
       "      <td>nan</td>\n",
       "      <td>nan</td>\n",
       "      <td>nan</td>\n",
       "      <td>nan</td>\n",
       "      <td>nan</td>\n",
       "      <td>nan</td>\n",
       "      <td>nan</td>\n",
       "      <td>nan</td>\n",
       "      <td>nan</td>\n",
       "      <td>nan</td>\n",
       "      <td>nan</td>\n",
       "      <td>nan</td>\n",
       "      <td>nan</td>\n",
       "      <td>nan</td>\n",
       "      <td>nan</td>\n",
       "      <td>nan</td>\n",
       "      <td>nan</td>\n",
       "      <td>nan</td>\n",
       "      <td>nan</td>\n",
       "      <td>nan</td>\n",
       "      <td>nan</td>\n",
       "      <td>nan</td>\n",
       "      <td>nan</td>\n",
       "      <td>nan</td>\n",
       "      <td>nan</td>\n",
       "      <td>nan</td>\n",
       "      <td>nan</td>\n",
       "      <td>nan</td>\n",
       "      <td>nan</td>\n",
       "      <td>nan</td>\n",
       "      <td>nan</td>\n",
       "      <td>nan</td>\n",
       "      <td>nan</td>\n",
       "      <td>nan</td>\n",
       "      <td>...</td>\n",
       "      <td>nan</td>\n",
       "      <td>nan</td>\n",
       "      <td>nan</td>\n",
       "      <td>nan</td>\n",
       "      <td>nan</td>\n",
       "      <td>nan</td>\n",
       "      <td>nan</td>\n",
       "      <td>nan</td>\n",
       "      <td>nan</td>\n",
       "      <td>nan</td>\n",
       "      <td>nan</td>\n",
       "      <td>nan</td>\n",
       "      <td>nan</td>\n",
       "      <td>nan</td>\n",
       "      <td>nan</td>\n",
       "      <td>nan</td>\n",
       "      <td>nan</td>\n",
       "      <td>nan</td>\n",
       "      <td>nan</td>\n",
       "      <td>nan</td>\n",
       "      <td>nan</td>\n",
       "      <td>nan</td>\n",
       "      <td>nan</td>\n",
       "      <td>nan</td>\n",
       "      <td>nan</td>\n",
       "      <td>nan</td>\n",
       "      <td>nan</td>\n",
       "      <td>nan</td>\n",
       "      <td>nan</td>\n",
       "      <td>nan</td>\n",
       "      <td>nan</td>\n",
       "      <td>nan</td>\n",
       "      <td>nan</td>\n",
       "      <td>nan</td>\n",
       "      <td>nan</td>\n",
       "      <td>nan</td>\n",
       "      <td>nan</td>\n",
       "      <td>nan</td>\n",
       "      <td>nan</td>\n",
       "      <td>nan</td>\n",
       "    </tr>\n",
       "  </tbody>\n",
       "</table>\n",
       "<p>6517 rows × 6522 columns</p>\n",
       "</div>"
      ],
      "text/plain": [
       "            1995-05-02 00:00:00  1995-05-03 00:00:00  ...  한국전력  현대차\n",
       "Date                                                  ...           \n",
       "1995-05-02                  nan                  nan  ...   nan  nan\n",
       "1995-05-03                  nan                  nan  ...   nan  nan\n",
       "1995-05-04                  nan                  nan  ...   nan  nan\n",
       "1995-05-06                  nan                  nan  ...   nan  nan\n",
       "1995-05-08                  nan                  nan  ...   nan  nan\n",
       "...                         ...                  ...  ...   ...  ...\n",
       "2021-01-11                  nan                  nan  ...   nan  nan\n",
       "2021-01-12                  nan                  nan  ...   nan  nan\n",
       "2021-01-13                  nan                  nan  ...   nan  nan\n",
       "2021-01-14                  nan                  nan  ...   nan  nan\n",
       "2021-01-15                  nan                  nan  ...   nan  nan\n",
       "\n",
       "[6517 rows x 6522 columns]"
      ]
     },
     "execution_count": 80,
     "metadata": {
      "tags": []
     },
     "output_type": "execute_result"
    }
   ],
   "source": [
    "marcap_ratio.div(df_marcap.groupby('Date').sum()['Marcap'], axis=1)"
   ]
  },
  {
   "cell_type": "code",
   "execution_count": 33,
   "metadata": {
    "colab": {
     "base_uri": "https://localhost:8080/",
     "height": 385
    },
    "executionInfo": {
     "elapsed": 1608,
     "status": "ok",
     "timestamp": 1611245076530,
     "user": {
      "displayName": "Sean-June Lee",
      "photoUrl": "https://lh3.googleusercontent.com/a-/AOh14Gj6rvtcx9Gy8VOzzw2LH1hYtnxIuHBDw8qnYK9SAuY=s64",
      "userId": "12576390002043678893"
     },
     "user_tz": -540
    },
    "id": "V1TKmOWfO65Z",
    "outputId": "894fc298-81b3-40d7-e92c-bc9733678caf"
   },
   "outputs": [
    {
     "data": {
      "text/plain": [
       "<matplotlib.axes._subplots.AxesSubplot at 0x7f5f21597b38>"
      ]
     },
     "execution_count": 33,
     "metadata": {
      "tags": []
     },
     "output_type": "execute_result"
    },
    {
     "data": {
      "image/png": "[encoded data removed]",
      "text/plain": [
       "<Figure size 1400x400 with 1 Axes>"
      ]
     },
     "metadata": {
      "tags": []
     },
     "output_type": "display_data"
    }
   ],
   "source": [
    "marcap_ratio.plot()"
   ]
  },
  {
   "cell_type": "markdown",
   "metadata": {
    "id": "mlWi0OTf3a1z"
   },
   "source": [
    "삼성전자가 다른 종목들에 비해 크게 나오기 때문에 나머지 종목간에 비교가 쉽지 않습니다.\n",
    "\n",
    "컬럼을 지정하여 차트를 그립니다. 여기서는 '삼성전자'를 제외한 나머지 종목들 ['현대차', 'POSCO', '한국전력', 'KB금융']을 지정하려 차트로 그립니다."
   ]
  },
  {
   "cell_type": "code",
   "execution_count": 34,
   "metadata": {
    "colab": {
     "base_uri": "https://localhost:8080/",
     "height": 383
    },
    "executionInfo": {
     "elapsed": 1534,
     "status": "ok",
     "timestamp": 1611245092098,
     "user": {
      "displayName": "Sean-June Lee",
      "photoUrl": "https://lh3.googleusercontent.com/a-/AOh14Gj6rvtcx9Gy8VOzzw2LH1hYtnxIuHBDw8qnYK9SAuY=s64",
      "userId": "12576390002043678893"
     },
     "user_tz": -540
    },
    "id": "0yvRrz2N1xlW",
    "outputId": "0207de1d-2714-44af-c9b8-8d467fd9a603"
   },
   "outputs": [
    {
     "data": {
      "text/plain": [
       "<matplotlib.axes._subplots.AxesSubplot at 0x7f5f214feb70>"
      ]
     },
     "execution_count": 34,
     "metadata": {
      "tags": []
     },
     "output_type": "execute_result"
    },
    {
     "data": {
      "image/png": "[encoded data removed]",
      "text/plain": [
       "<Figure size 1400x400 with 1 Axes>"
      ]
     },
     "metadata": {
      "tags": []
     },
     "output_type": "display_data"
    }
   ],
   "source": [
    "cols = ['현대차', 'POSCO', '한국전력', 'KB금융']\n",
    "marcap_ratio[cols].plot()"
   ]
  },
  {
   "cell_type": "markdown",
   "metadata": {
    "id": "HeOSVjHy3z-9"
   },
   "source": [
    "2010년 이후 한국전력의 시총이 지속적으로 줄어들고 있다는 점과, 2010~2012년 동안 다른 종목들의 시총과 달리 현대차의 시총이 지속적으로 늘어나는 점이 눈에 띕니다.\n",
    "\n",
    "2002년~2013년까지 현대차와 POSCO가 역상관을 보여주는 것도 흥미롭습니다.\n",
    "\n"
   ]
  },
  {
   "cell_type": "markdown",
   "metadata": {
    "id": "OQpRcXb8Wd18"
   },
   "source": [
    "시가총액 비중 데이터에 대한 간략한 통계량을 다음과 같이 산출할 수 있습니다.\n",
    "\n"
   ]
  },
  {
   "cell_type": "code",
   "execution_count": 35,
   "metadata": {
    "colab": {
     "base_uri": "https://localhost:8080/",
     "height": 296
    },
    "executionInfo": {
     "elapsed": 738,
     "status": "ok",
     "timestamp": 1611245098000,
     "user": {
      "displayName": "Sean-June Lee",
      "photoUrl": "https://lh3.googleusercontent.com/a-/AOh14Gj6rvtcx9Gy8VOzzw2LH1hYtnxIuHBDw8qnYK9SAuY=s64",
      "userId": "12576390002043678893"
     },
     "user_tz": -540
    },
    "id": "KxYCM1Y7O65f",
    "outputId": "6f044be0-3a26-41e3-e034-e3324eaa8a1e"
   },
   "outputs": [
    {
     "data": {
      "text/html": [
       "<div>\n",
       "<style scoped>\n",
       "    .dataframe tbody tr th:only-of-type {\n",
       "        vertical-align: middle;\n",
       "    }\n",
       "\n",
       "    .dataframe tbody tr th {\n",
       "        vertical-align: top;\n",
       "    }\n",
       "\n",
       "    .dataframe thead th {\n",
       "        text-align: right;\n",
       "    }\n",
       "</style>\n",
       "<table border=\"1\" class=\"dataframe\">\n",
       "  <thead>\n",
       "    <tr style=\"text-align: right;\">\n",
       "      <th>Code</th>\n",
       "      <th>현대차</th>\n",
       "      <th>POSCO</th>\n",
       "      <th>삼성전자</th>\n",
       "      <th>한국전력</th>\n",
       "      <th>KB금융</th>\n",
       "    </tr>\n",
       "  </thead>\n",
       "  <tbody>\n",
       "    <tr>\n",
       "      <th>count</th>\n",
       "      <td>4836.0</td>\n",
       "      <td>4836.0</td>\n",
       "      <td>4833.0</td>\n",
       "      <td>4836.0</td>\n",
       "      <td>3024.0</td>\n",
       "    </tr>\n",
       "    <tr>\n",
       "      <th>mean</th>\n",
       "      <td>26487546197776.8</td>\n",
       "      <td>25814201216500.1</td>\n",
       "      <td>157850746427505.6</td>\n",
       "      <td>20660540716211.0</td>\n",
       "      <td>17339613525521.2</td>\n",
       "    </tr>\n",
       "    <tr>\n",
       "      <th>std</th>\n",
       "      <td>14632281146290.9</td>\n",
       "      <td>11161337255904.0</td>\n",
       "      <td>93198627440748.5</td>\n",
       "      <td>6317215664695.9</td>\n",
       "      <td>3831564751990.5</td>\n",
       "    </tr>\n",
       "    <tr>\n",
       "      <th>min</th>\n",
       "      <td>3275376094900.0</td>\n",
       "      <td>6925621890000.0</td>\n",
       "      <td>21185969000000.0</td>\n",
       "      <td>10431916251250.0</td>\n",
       "      <td>8124818600400.0</td>\n",
       "    </tr>\n",
       "    <tr>\n",
       "      <th>25%</th>\n",
       "      <td>14402600475300.0</td>\n",
       "      <td>16914245990000.0</td>\n",
       "      <td>81751132035000.0</td>\n",
       "      <td>15870508089037.5</td>\n",
       "      <td>14254067720000.0</td>\n",
       "    </tr>\n",
       "    <tr>\n",
       "      <th>50%</th>\n",
       "      <td>26281187001000.0</td>\n",
       "      <td>23932786207500.0</td>\n",
       "      <td>125940933135000.0</td>\n",
       "      <td>19579904348500.0</td>\n",
       "      <td>16122952098000.0</td>\n",
       "    </tr>\n",
       "    <tr>\n",
       "      <th>75%</th>\n",
       "      <td>36125342556000.0</td>\n",
       "      <td>32705961479375.0</td>\n",
       "      <td>216530025390000.0</td>\n",
       "      <td>24732435297600.0</td>\n",
       "      <td>20048448199150.0</td>\n",
       "    </tr>\n",
       "    <tr>\n",
       "      <th>max</th>\n",
       "      <td>59144234611500.0</td>\n",
       "      <td>66697928775000.0</td>\n",
       "      <td>483552386550000.0</td>\n",
       "      <td>40443736851000.0</td>\n",
       "      <td>28682451438200.0</td>\n",
       "    </tr>\n",
       "  </tbody>\n",
       "</table>\n",
       "</div>"
      ],
      "text/plain": [
       "Code               현대차            POSCO  ...             한국전력             KB금융\n",
       "count           4836.0           4836.0  ...           4836.0           3024.0\n",
       "mean  26487546197776.8 25814201216500.1  ... 20660540716211.0 17339613525521.2\n",
       "std   14632281146290.9 11161337255904.0  ...  6317215664695.9  3831564751990.5\n",
       "min    3275376094900.0  6925621890000.0  ... 10431916251250.0  8124818600400.0\n",
       "25%   14402600475300.0 16914245990000.0  ... 15870508089037.5 14254067720000.0\n",
       "50%   26281187001000.0 23932786207500.0  ... 19579904348500.0 16122952098000.0\n",
       "75%   36125342556000.0 32705961479375.0  ... 24732435297600.0 20048448199150.0\n",
       "max   59144234611500.0 66697928775000.0  ... 40443736851000.0 28682451438200.0\n",
       "\n",
       "[8 rows x 5 columns]"
      ]
     },
     "execution_count": 35,
     "metadata": {
      "tags": []
     },
     "output_type": "execute_result"
    }
   ],
   "source": [
    "marcap_ratio.describe()"
   ]
  },
  {
   "cell_type": "markdown",
   "metadata": {
    "id": "fYxdGoDJO65i"
   },
   "source": [
    "삼성전자의 2001년 이후 6.8% ~ 20.8% (평균 13.9%)의 시가총액 비중을 유지하고 있습니다. \n",
    "\n",
    "시가총액 비중 데이터의 표준편차(std)값이 가장 큰 종목이 `삼성전자`, 가장 작은 종목이 `KB금융` 입니다. 즉, 시가총액 비중의 변화가 '삼성전자'가 가장 컸고, 'KB금융'이 가장 작았다는 것을 알 수 있죠."
   ]
  },
  {
   "cell_type": "markdown",
   "metadata": {
    "id": "X3inCWywO65i"
   },
   "source": [
    "## 수정주가(Adjust Price)\n",
    "\n",
    "수정주가(Adjust Price)란 총 발행 주식수의 변화를 반영한 가격을 말합니다. 액면분할, 액면병합, 유상증자, 무상증자와 같이 총 발행주식수의 변화가 발생하면 가격의 변화가 생깁니다. 예를 들어, 어떤 회사가 액면분할을 통해 1주를 2개로 쪼갠다고 하면, 주식수를 2배로 늘어나고 주식의 가격은 1/2로 낮아지며 시가총액은 동일하게 유지 됩니다.\n",
    "\n",
    "실제 예를 들어보죠.\n",
    "\n",
    "2018년 5월 4일, 삼성전자는 50:1로 액면분할을 합니다. 1주가 50주로 쪼개지는 것이죠. 이때 5000원인 삼성전자 주식 액면가는 액면분할 후 100원이 되었습니다. 액면분할 전에 주당 265만원(4월30일 기준)에서 5만3천원이 되었습니다.\n",
    "\n",
    "이 가격 데이터를 그대로 사용한다면 주가가 하루만에 1/50로 다시말해 -98% 하락한 것이 됩니다."
   ]
  },
  {
   "cell_type": "code",
   "execution_count": null,
   "metadata": {
    "executionInfo": {
     "elapsed": 82973,
     "status": "aborted",
     "timestamp": 1611243302512,
     "user": {
      "displayName": "Sean-June Lee",
      "photoUrl": "https://lh3.googleusercontent.com/a-/AOh14Gj6rvtcx9Gy8VOzzw2LH1hYtnxIuHBDw8qnYK9SAuY=s64",
      "userId": "12576390002043678893"
     },
     "user_tz": -540
    },
    "id": "znEbCrYbO65k"
   },
   "outputs": [],
   "source": [
    "code = '005930' # 삼성전자(005930)\n",
    "df_stock = marcap_date_range('2018-01-01', '2018-12-31', code)\n",
    "\n",
    "df_stock['Close'].plot()"
   ]
  },
  {
   "cell_type": "markdown",
   "metadata": {
    "id": "aAEOzXmIO65m"
   },
   "source": [
    "백테스트를 하기 위해서는 주식 가격 데이터의 연속성이 보장되어야 합니다. 삼성전자가 5월 4일에 -98% 하락한 것으로 계산하면 안되겠죠. \n",
    "\n",
    "발행 주식수가 변화하는 이벤트가 있는 경우 반드시 주식수를 변화를 함께 고려해야 합니다. 발행주식수의 변화를 반영한 가격을 수정주가(Adjusted Closing Price)라고 합니다. 백테스트를 위해서는 꼭 수정주가를 사용해야 합니다."
   ]
  },
  {
   "cell_type": "code",
   "execution_count": null,
   "metadata": {
    "executionInfo": {
     "elapsed": 82966,
     "status": "aborted",
     "timestamp": 1611243302513,
     "user": {
      "displayName": "Sean-June Lee",
      "photoUrl": "https://lh3.googleusercontent.com/a-/AOh14Gj6rvtcx9Gy8VOzzw2LH1hYtnxIuHBDw8qnYK9SAuY=s64",
      "userId": "12576390002043678893"
     },
     "user_tz": -540
    },
    "id": "vkCBQ47zO65n"
   },
   "outputs": [],
   "source": [
    "df_stock['2018-04-25':'2018-05-09']"
   ]
  },
  {
   "cell_type": "markdown",
   "metadata": {
    "id": "RQ4I1MhIO65r"
   },
   "source": [
    "액면분할을 위해 2018-04-30 부터 2018-05-03 까지 3일간 거래정지되고 2018-05-04 부터 액면분할된 가격으로 거래가 시작된 것을 확인할 수 있습니다. 2018-05-03일 총 주식수 128,386,494주에서 다음날 총 주식수는 6,419,324,700주 로 50배가 늘어났습니다. 즉 50:1로 액면분할을 한 것이죠."
   ]
  },
  {
   "cell_type": "markdown",
   "metadata": {
    "id": "CG4qNIINO65r"
   },
   "source": [
    "수정가격은 보통 오늘 가격과 총 주식수를 과거 데이터에 반영하여 구합니다. 혹은 특정 테스트 범위의 가장 마지막 날의 가격과 총 주식수를 기준으로 과거 가격들을 수정합니다.\n",
    "\n",
    "주가는 보통 종가(Close)를 기준으로 하기 때문에 수정주가로 가장 많이 쓰이는 것이 바로 수정 종가(Adjust Close Price) 입니다."
   ]
  },
  {
   "cell_type": "code",
   "execution_count": null,
   "metadata": {
    "executionInfo": {
     "elapsed": 82959,
     "status": "aborted",
     "timestamp": 1611243302514,
     "user": {
      "displayName": "Sean-June Lee",
      "photoUrl": "https://lh3.googleusercontent.com/a-/AOh14Gj6rvtcx9Gy8VOzzw2LH1hYtnxIuHBDw8qnYK9SAuY=s64",
      "userId": "12576390002043678893"
     },
     "user_tz": -540
    },
    "id": "LdfhsF6QU5rT"
   },
   "outputs": [],
   "source": [
    "# 삼성전자(005930), 수정종가\n",
    "code = '005930'\n",
    "df_stock = marcap_date_range('2018-01-01', '2018-12-31', code)\n",
    "\n",
    "latest_stocks = df_stock.iloc[-1]['Stocks'] # 범위 마지막날 주식수(기준)\n",
    "\n",
    "df_stock['Adj Close'] = df_stock['Close'] * (df_stock['Stocks'] / latest_stocks) # 수정종가\n",
    "df_stock['Adj Close'].plot()"
   ]
  },
  {
   "cell_type": "markdown",
   "metadata": {
    "id": "ZO2qlqAXO65w"
   },
   "source": [
    "다음과 같이 2018년 `종가`와 `수정 종가`를 같이 그려놓고 보면 더 확실하게 차이를 알 수 있습니다."
   ]
  },
  {
   "cell_type": "code",
   "execution_count": null,
   "metadata": {
    "executionInfo": {
     "elapsed": 82952,
     "status": "aborted",
     "timestamp": 1611243302514,
     "user": {
      "displayName": "Sean-June Lee",
      "photoUrl": "https://lh3.googleusercontent.com/a-/AOh14Gj6rvtcx9Gy8VOzzw2LH1hYtnxIuHBDw8qnYK9SAuY=s64",
      "userId": "12576390002043678893"
     },
     "user_tz": -540
    },
    "id": "gHcHGN89O65y"
   },
   "outputs": [],
   "source": [
    "df_stock[['Close', 'Adj Close']].plot(secondary_y=['Adj Close'])"
   ]
  },
  {
   "cell_type": "markdown",
   "metadata": {
    "id": "fDxCQmhrO651"
   },
   "source": [
    "특정 기간동안의 수익률을 정확하게 산정하기 위해서는 `수정 종가`로 계산해야 주식 가격의 연속성을 보장받을 수 있습니다."
   ]
  },
  {
   "cell_type": "markdown",
   "metadata": {
    "id": "vpDqOV0mO652"
   },
   "source": [
    "## 섹터 분석\n",
    "\n",
    "[FinanceDataReader](https://financedata.github.io/FinanceDataReader/)를 사용하면 간편하게 전체종목 코드와 섹터 데이터를 가져올 수 있습니다.\n",
    "\n",
    "\n",
    "[FinanceDataReader](https://financedata.github.io/FinanceDataReader/)는 다음과 같이 설치합니다."
   ]
  },
  {
   "cell_type": "code",
   "execution_count": null,
   "metadata": {
    "executionInfo": {
     "elapsed": 82951,
     "status": "aborted",
     "timestamp": 1611243302515,
     "user": {
      "displayName": "Sean-June Lee",
      "photoUrl": "https://lh3.googleusercontent.com/a-/AOh14Gj6rvtcx9Gy8VOzzw2LH1hYtnxIuHBDw8qnYK9SAuY=s64",
      "userId": "12576390002043678893"
     },
     "user_tz": -540
    },
    "id": "wb2yiCIa8qQn"
   },
   "outputs": [],
   "source": [
    "!pip install -q finance-datareader"
   ]
  },
  {
   "cell_type": "code",
   "execution_count": null,
   "metadata": {
    "executionInfo": {
     "elapsed": 82943,
     "status": "aborted",
     "timestamp": 1611243302515,
     "user": {
      "displayName": "Sean-June Lee",
      "photoUrl": "https://lh3.googleusercontent.com/a-/AOh14Gj6rvtcx9Gy8VOzzw2LH1hYtnxIuHBDw8qnYK9SAuY=s64",
      "userId": "12576390002043678893"
     },
     "user_tz": -540
    },
    "id": "tWflH9OUO652"
   },
   "outputs": [],
   "source": [
    "import FinanceDataReader as fdr\n",
    "\n",
    "df_master = fdr.StockListing('KRX')\n",
    "df_master.head(10)"
   ]
  },
  {
   "cell_type": "code",
   "execution_count": null,
   "metadata": {
    "executionInfo": {
     "elapsed": 82938,
     "status": "aborted",
     "timestamp": 1611243302517,
     "user": {
      "displayName": "Sean-June Lee",
      "photoUrl": "https://lh3.googleusercontent.com/a-/AOh14Gj6rvtcx9Gy8VOzzw2LH1hYtnxIuHBDw8qnYK9SAuY=s64",
      "userId": "12576390002043678893"
     },
     "user_tz": -540
    },
    "id": "oyIboW2bXTN7"
   },
   "outputs": [],
   "source": [
    "len(df_master)"
   ]
  },
  {
   "cell_type": "markdown",
   "metadata": {
    "id": "Uqq_VPmkO654"
   },
   "source": [
    "이 중에서 종목코드(Symbol)와 섹터(Sector) 데이터만 활용하려 합니다."
   ]
  },
  {
   "cell_type": "code",
   "execution_count": null,
   "metadata": {
    "executionInfo": {
     "elapsed": 82934,
     "status": "aborted",
     "timestamp": 1611243302520,
     "user": {
      "displayName": "Sean-June Lee",
      "photoUrl": "https://lh3.googleusercontent.com/a-/AOh14Gj6rvtcx9Gy8VOzzw2LH1hYtnxIuHBDw8qnYK9SAuY=s64",
      "userId": "12576390002043678893"
     },
     "user_tz": -540
    },
    "id": "sHjPmGoqO655"
   },
   "outputs": [],
   "source": [
    "df_master[['Symbol', 'Sector']].head(10)"
   ]
  },
  {
   "cell_type": "markdown",
   "metadata": {
    "id": "sVMgbKfQO658"
   },
   "source": [
    "특정한 일자의 시가총액 데이터를 가져옵니다."
   ]
  },
  {
   "cell_type": "code",
   "execution_count": null,
   "metadata": {
    "executionInfo": {
     "elapsed": 82928,
     "status": "aborted",
     "timestamp": 1611243302521,
     "user": {
      "displayName": "Sean-June Lee",
      "photoUrl": "https://lh3.googleusercontent.com/a-/AOh14Gj6rvtcx9Gy8VOzzw2LH1hYtnxIuHBDw8qnYK9SAuY=s64",
      "userId": "12576390002043678893"
     },
     "user_tz": -540
    },
    "id": "nnabMoXTO659"
   },
   "outputs": [],
   "source": [
    "# 시가총액 데이터 2019-04-30\n",
    "df_marcap = marcap_date('2019-04-30')\n",
    "\n",
    "df_marcap[['Code', 'Name', 'Marcap']].head(10)"
   ]
  },
  {
   "cell_type": "markdown",
   "metadata": {
    "id": "uC6dviANO65_"
   },
   "source": [
    "다음 두 데이터를 종목코드를 기준으로 병합합니다.\n",
    "\n",
    "* 전체종목코드(df_master): 종목코드(Symbol), 섹터(Sector)\n",
    "* 시가총액 데이터(df_marcap): 종목코드(Code), 종목명(Name), 시가총액(Marcap)\n"
   ]
  },
  {
   "cell_type": "code",
   "execution_count": null,
   "metadata": {
    "executionInfo": {
     "elapsed": 82921,
     "status": "aborted",
     "timestamp": 1611243302521,
     "user": {
      "displayName": "Sean-June Lee",
      "photoUrl": "https://lh3.googleusercontent.com/a-/AOh14Gj6rvtcx9Gy8VOzzw2LH1hYtnxIuHBDw8qnYK9SAuY=s64",
      "userId": "12576390002043678893"
     },
     "user_tz": -540
    },
    "id": "F7IytD9MO66A"
   },
   "outputs": [],
   "source": [
    "df_merge = pd.merge(df_marcap[['Code', 'Name', 'Marcap']], df_master[['Symbol', 'Sector']], left_on='Code', right_on=\"Symbol\")\n",
    "\n",
    "print('row count:', len(df_merge))\n",
    "df_merge.head(10)"
   ]
  },
  {
   "cell_type": "markdown",
   "metadata": {
    "id": "HoSeIpoMJPd1"
   },
   "source": [
    "섹터별 종목수 TOP 10을 산출합니다."
   ]
  },
  {
   "cell_type": "code",
   "execution_count": null,
   "metadata": {
    "executionInfo": {
     "elapsed": 82915,
     "status": "aborted",
     "timestamp": 1611243302522,
     "user": {
      "displayName": "Sean-June Lee",
      "photoUrl": "https://lh3.googleusercontent.com/a-/AOh14Gj6rvtcx9Gy8VOzzw2LH1hYtnxIuHBDw8qnYK9SAuY=s64",
      "userId": "12576390002043678893"
     },
     "user_tz": -540
    },
    "id": "idCk3tLrO66D"
   },
   "outputs": [],
   "source": [
    "df_sector_counts = df_merge['Sector'].value_counts()[:10]\n",
    "df_sector_counts"
   ]
  },
  {
   "cell_type": "markdown",
   "metadata": {
    "id": "6o3HV4OtI-17"
   },
   "source": [
    "종목수 기준으로 가장 많은 종목은 '특수 목적용 기계 제조업', '소프트웨어 개발 및 공급업', '전자부품 제조업' 순이네요.\n",
    "\n",
    "섹터별 종목수 TOP 10을 파이차트로 표현해 봅니다. 특정 날짜(2019-04-30)의 섹터별 종목수 현황은 다음과 같습니다.\n",
    "\n"
   ]
  },
  {
   "cell_type": "code",
   "execution_count": null,
   "metadata": {
    "executionInfo": {
     "elapsed": 82908,
     "status": "aborted",
     "timestamp": 1611243302522,
     "user": {
      "displayName": "Sean-June Lee",
      "photoUrl": "https://lh3.googleusercontent.com/a-/AOh14Gj6rvtcx9Gy8VOzzw2LH1hYtnxIuHBDw8qnYK9SAuY=s64",
      "userId": "12576390002043678893"
     },
     "user_tz": -540
    },
    "id": "Uj-mrstpO66F"
   },
   "outputs": [],
   "source": [
    "df_sector_counts.plot.pie(figsize=(8, 8))"
   ]
  },
  {
   "cell_type": "markdown",
   "metadata": {
    "id": "iKB9SQe7J_-r"
   },
   "source": [
    "## 섹터별 시가총액\n",
    "\n",
    "섹터별 시가총액을 구해봅니다."
   ]
  },
  {
   "cell_type": "code",
   "execution_count": null,
   "metadata": {
    "executionInfo": {
     "elapsed": 82900,
     "status": "aborted",
     "timestamp": 1611243302523,
     "user": {
      "displayName": "Sean-June Lee",
      "photoUrl": "https://lh3.googleusercontent.com/a-/AOh14Gj6rvtcx9Gy8VOzzw2LH1hYtnxIuHBDw8qnYK9SAuY=s64",
      "userId": "12576390002043678893"
     },
     "user_tz": -540
    },
    "id": "fer1ia0PKahP"
   },
   "outputs": [],
   "source": [
    "df_merge.head()"
   ]
  },
  {
   "cell_type": "markdown",
   "metadata": {
    "id": "PHevLB7zKd5O"
   },
   "source": [
    "데이터를 섹터별로 묶어서(groupby) 덧셈(sum)을 하면 섹터별 시가총액을 구할 수 있습니다."
   ]
  },
  {
   "cell_type": "code",
   "execution_count": null,
   "metadata": {
    "executionInfo": {
     "elapsed": 82894,
     "status": "aborted",
     "timestamp": 1611243302524,
     "user": {
      "displayName": "Sean-June Lee",
      "photoUrl": "https://lh3.googleusercontent.com/a-/AOh14Gj6rvtcx9Gy8VOzzw2LH1hYtnxIuHBDw8qnYK9SAuY=s64",
      "userId": "12576390002043678893"
     },
     "user_tz": -540
    },
    "id": "pSRf7yJ1KnJO"
   },
   "outputs": [],
   "source": [
    "df_merge.groupby('Sector').sum().head()"
   ]
  },
  {
   "cell_type": "markdown",
   "metadata": {
    "id": "5OPndek1Kw13"
   },
   "source": [
    "그리고, Marcap(시가총액) 역순으로 소트하여 처음 TOP 20개 섹터를 산출합니다"
   ]
  },
  {
   "cell_type": "code",
   "execution_count": null,
   "metadata": {
    "executionInfo": {
     "elapsed": 82887,
     "status": "aborted",
     "timestamp": 1611243302524,
     "user": {
      "displayName": "Sean-June Lee",
      "photoUrl": "https://lh3.googleusercontent.com/a-/AOh14Gj6rvtcx9Gy8VOzzw2LH1hYtnxIuHBDw8qnYK9SAuY=s64",
      "userId": "12576390002043678893"
     },
     "user_tz": -540
    },
    "id": "39yNlLeXU5r4"
   },
   "outputs": [],
   "source": [
    "df_sector_corp_marcap = df_merge.groupby('Sector').sum().sort_values('Marcap', ascending=False)[:20]\n",
    "df_sector_corp_marcap"
   ]
  },
  {
   "cell_type": "markdown",
   "metadata": {
    "id": "JHmSr_F_K_kx"
   },
   "source": [
    "가로 막대차트로 표현하면 훨씬 더 잘 확인할 수 있죠."
   ]
  },
  {
   "cell_type": "code",
   "execution_count": null,
   "metadata": {
    "executionInfo": {
     "elapsed": 82881,
     "status": "aborted",
     "timestamp": 1611243302525,
     "user": {
      "displayName": "Sean-June Lee",
      "photoUrl": "https://lh3.googleusercontent.com/a-/AOh14Gj6rvtcx9Gy8VOzzw2LH1hYtnxIuHBDw8qnYK9SAuY=s64",
      "userId": "12576390002043678893"
     },
     "user_tz": -540
    },
    "id": "y-_zCqwxU5r7"
   },
   "outputs": [],
   "source": [
    "df_sector_corp_marcap[::-1].plot(kind='barh', figsize=(12, 8))"
   ]
  },
  {
   "cell_type": "markdown",
   "metadata": {
    "id": "TzHN7IhtU5sA"
   },
   "source": [
    "## 컬럼의 금액 단위 바꾸기\n",
    "\n",
    "시가총액은 단위가 너무 커서 읽기가 어렵습니다. 좀 더 쉽게 보기 위해 조 단위로 바꾸어 봅니다."
   ]
  },
  {
   "cell_type": "code",
   "execution_count": null,
   "metadata": {
    "executionInfo": {
     "elapsed": 82874,
     "status": "aborted",
     "timestamp": 1611243302525,
     "user": {
      "displayName": "Sean-June Lee",
      "photoUrl": "https://lh3.googleusercontent.com/a-/AOh14Gj6rvtcx9Gy8VOzzw2LH1hYtnxIuHBDw8qnYK9SAuY=s64",
      "userId": "12576390002043678893"
     },
     "user_tz": -540
    },
    "id": "8EX_nuhiU5sB"
   },
   "outputs": [],
   "source": [
    "df = marcap_date('2019-05-10')\n",
    "\n",
    "df['Marcap_trillion'] = df['Marcap'] / 1e12 # 원 단위에서 조(10^12) 단위로 변경\n",
    "df.head()"
   ]
  },
  {
   "cell_type": "markdown",
   "metadata": {
    "id": "KfJXz5e3MNJD"
   },
   "source": [
    "개별 종목의 시가총액  df\\['Marcap'\\]을 10^12으로 나누어 조 단위로 변경하여 df\\['Marcap_trillion'\\]  컬럼을 추가하였습니다."
   ]
  },
  {
   "cell_type": "code",
   "execution_count": null,
   "metadata": {
    "executionInfo": {
     "elapsed": 82868,
     "status": "aborted",
     "timestamp": 1611243302526,
     "user": {
      "displayName": "Sean-June Lee",
      "photoUrl": "https://lh3.googleusercontent.com/a-/AOh14Gj6rvtcx9Gy8VOzzw2LH1hYtnxIuHBDw8qnYK9SAuY=s64",
      "userId": "12576390002043678893"
     },
     "user_tz": -540
    },
    "id": "IH9iULBMU5sF"
   },
   "outputs": [],
   "source": [
    "df['Marcap_trillion'].sum()  # 시가총액 전체 (조단위)"
   ]
  },
  {
   "cell_type": "markdown",
   "metadata": {
    "id": "ME4ODxjrU5sE"
   },
   "source": [
    "시가총액 컬럼 df['Marcap_trillion']을 모두 더하면, 한국 주식시장 시가총액은 약 1,645.7 조원 입니다. (2019년 5월 10일 기준) "
   ]
  },
  {
   "cell_type": "markdown",
   "metadata": {
    "id": "ut8Dy3wYU5sI"
   },
   "source": [
    "시가총액 비중 df['MarcapRatio'] 의 합은 얼마일까? "
   ]
  },
  {
   "cell_type": "code",
   "execution_count": null,
   "metadata": {
    "executionInfo": {
     "elapsed": 82861,
     "status": "aborted",
     "timestamp": 1611243302526,
     "user": {
      "displayName": "Sean-June Lee",
      "photoUrl": "https://lh3.googleusercontent.com/a-/AOh14Gj6rvtcx9Gy8VOzzw2LH1hYtnxIuHBDw8qnYK9SAuY=s64",
      "userId": "12576390002043678893"
     },
     "user_tz": -540
    },
    "id": "wvwAGXpOU5sJ"
   },
   "outputs": [],
   "source": [
    "df['MarcapRatio'].sum()"
   ]
  },
  {
   "cell_type": "markdown",
   "metadata": {
    "id": "5kpJCiZGU5sP"
   },
   "source": [
    "당연히 100(%)이 되어야 하겠지만 100보다 약간 작은 숫자가 됩니다.\n",
    "\n",
    "시가총액 비중의 합이 100이 안되는 이유는 대부분의 종목들이 너무 작은 비중을 차지하기 때문이다.\n",
    "한국 주식시장에서 시가총액 비중이 0.01% 이 넘으려면 대략 1,200등 안에는 들어야 합니다. 다시 말해, 전체 종목(2133개)의 대략 절반 정도는 시가총액 비중이 0.01% 가 안된다는 의미이기도 한 것이죠."
   ]
  },
  {
   "cell_type": "markdown",
   "metadata": {
    "id": "0HWECBqDOvW7"
   },
   "source": [
    "## 결론\n",
    "시가총액(marcap) 데이터셋 뿐만 아니라 25년간 개별 종목의 가격 등 다양한 데이터를 포함하고 있습니다. 뿐만 아니라 발행 주식수가 데이터에 포함되어 있으므로 수정주가(Adjust Price)을 산출할 수 있습니다.\n",
    "\n",
    "특정 분야의 종목의 시총을 일자별로 합산하면 특정 영역의 혹은 특정 산업의 트렌드를 분석하는데도 요긴하게 사용할 수 있으며, 산업의 규모나 트렌드 분석을 위한 좋은 데이터셋 입니다.\n",
    "\n",
    "주피터 노트북(혹은 구글 Colab)을 통해 간편하게 데이터를 가져와 다양한 분석을 해볼 수 있도록 정리하였으며 관심있는 분들에게 도움이 되시길 바랍니다."
   ]
  },
  {
   "cell_type": "markdown",
   "metadata": {
    "id": "1tQiMXMnp51X"
   },
   "source": [
    "#### 2018 - 2021 [FinanceData.KR]()"
   ]
  }
 ],
 "metadata": {
  "colab": {
   "collapsed_sections": [],
   "name": "marcap-tutorial.ipynb",
   "provenance": []
  },
  "kernelspec": {
   "display_name": "Python 3",
   "language": "python",
   "name": "python3"
  },
  "language_info": {
   "codemirror_mode": {
    "name": "ipython",
    "version": 3
   },
   "file_extension": ".py",
   "mimetype": "text/x-python",
   "name": "python",
   "nbconvert_exporter": "python",
   "pygments_lexer": "ipython3",
   "version": "3.9.1"
  }
 },
 "nbformat": 4,
 "nbformat_minor": 4
}
