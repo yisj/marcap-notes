{
 "cells": [
  {
   "cell_type": "code",
   "execution_count": 1,
   "id": "liberal-lunch",
   "metadata": {},
   "outputs": [
    {
     "data": {
      "text/plain": [
       "'2021-03-10'"
      ]
     },
     "execution_count": 1,
     "metadata": {},
     "output_type": "execute_result"
    }
   ],
   "source": [
    "#\n",
    "from datetime import datetime\n",
    "#target_code = '033340'\n",
    "#date_from = '1995-5-2'\n",
    "date_from  = '2015-1-1'\n",
    "today=  datetime.now().strftime('%Y-%m-%d')\n",
    "today"
   ]
  },
  {
   "cell_type": "code",
   "execution_count": 2,
   "id": "provincial-investigation",
   "metadata": {},
   "outputs": [],
   "source": [
    "# 기본 모듈 로드\n",
    "import pandas as pd\n",
    "from marcap import marcap_data\n",
    "import matplotlib.pyplot as plt"
   ]
  },
  {
   "cell_type": "code",
   "execution_count": 3,
   "id": "hindu-pierre",
   "metadata": {},
   "outputs": [
    {
     "data": {
      "text/plain": [
       "'194480'"
      ]
     },
     "execution_count": 3,
     "metadata": {},
     "output_type": "execute_result"
    }
   ],
   "source": [
    "# 쌍방울 코드 검색하기\n",
    "target_name = \"데브시스터즈\"\n",
    "df = pd.read_csv(\"marcap/data/marcap-2021.csv.gz\")\n",
    "target_code = df[df[\"Name\"] == target_name][\"Code\"].iloc[0]\n",
    "target_code"
   ]
  },
  {
   "cell_type": "code",
   "execution_count": 4,
   "id": "patent-uncertainty",
   "metadata": {},
   "outputs": [],
   "source": [
    "# 그래프 설정\n",
    "import matplotlib.pyplot as plt\n",
    "import matplotlib.dates as mdates\n",
    "\n",
    "years = mdates.YearLocator()   # every year\n",
    "months = mdates.MonthLocator()  # every month\n",
    "years_fmt = mdates.DateFormatter('%Y')\n",
    "\n",
    "plt.rcParams[\"figure.figsize\"] = (16,4)\n",
    "plt.rcParams['lines.linewidth'] = 0.5\n",
    "plt.rcParams[\"axes.grid\"] = True\n",
    "plt.rcParams[\"axes.formatter.useoffset\"] = False\n",
    "plt.rcParams[\"xtick.minor.visible\"] = True \n",
    "\n",
    "pd.options.display.float_format = '{:.2f}'.format"
   ]
  },
  {
   "cell_type": "code",
   "execution_count": 5,
   "id": "miniature-concern",
   "metadata": {},
   "outputs": [],
   "source": [
    "df = marcap_data(date_from, today, target_code)"
   ]
  },
  {
   "cell_type": "code",
   "execution_count": 6,
   "id": "amber-pledge",
   "metadata": {},
   "outputs": [
    {
     "data": {
      "text/plain": [
       "11224370.0"
      ]
     },
     "execution_count": 6,
     "metadata": {},
     "output_type": "execute_result"
    }
   ],
   "source": [
    "latest_stocks = df.iloc[-1]['Stocks']\n",
    "latest_stocks"
   ]
  },
  {
   "cell_type": "code",
   "execution_count": 7,
   "id": "sealed-timer",
   "metadata": {},
   "outputs": [],
   "source": [
    "df['Adj Close'] = df['Close'] / latest_stocks * df['Stocks']"
   ]
  },
  {
   "cell_type": "code",
   "execution_count": 8,
   "id": "rotary-purse",
   "metadata": {},
   "outputs": [
    {
     "data": {
      "text/plain": [
       "<AxesSubplot:xlabel='Date'>"
      ]
     },
     "execution_count": 8,
     "metadata": {},
     "output_type": "execute_result"
    },
    {
     "data": {
      "image/png": "[encoded data removed]",
      "text/plain": [
       "<Figure size 1152x288 with 1 Axes>"
      ]
     },
     "metadata": {
      "needs_background": "light"
     },
     "output_type": "display_data"
    }
   ],
   "source": [
    "df['Adj Close'].plot()"
   ]
  },
  {
   "cell_type": "code",
   "execution_count": 9,
   "id": "cleared-arrest",
   "metadata": {},
   "outputs": [
    {
     "data": {
      "text/plain": [
       "59999.99999999999"
      ]
     },
     "execution_count": 9,
     "metadata": {},
     "output_type": "execute_result"
    }
   ],
   "source": [
    "df['Adj Close'].iloc[-1]"
   ]
  },
  {
   "cell_type": "code",
   "execution_count": 10,
   "id": "boolean-carol",
   "metadata": {},
   "outputs": [
    {
     "data": {
      "text/plain": [
       "Code                   194480\n",
       "Name                   데브시스터즈\n",
       "Market                 KOSDAQ\n",
       "Dept                    벤처기업부\n",
       "Close                 60000.0\n",
       "ChangeCode                  2\n",
       "Changes               -3800.0\n",
       "ChagesRatio               NaN\n",
       "Open                  62800.0\n",
       "High                  63800.0\n",
       "Low                   59000.0\n",
       "Volume               159485.0\n",
       "Amount           9699467300.0\n",
       "Marcap         673462200000.0\n",
       "Stocks             11224370.0\n",
       "MarketId                  KSQ\n",
       "Rank                      329\n",
       "ChangesRatio            -5.96\n",
       "Adj Close             60000.0\n",
       "Name: 2021-03-10 00:00:00, dtype: object"
      ]
     },
     "execution_count": 10,
     "metadata": {},
     "output_type": "execute_result"
    }
   ],
   "source": [
    "df.iloc[-1]"
   ]
  },
  {
   "cell_type": "code",
   "execution_count": 11,
   "id": "violent-texas",
   "metadata": {},
   "outputs": [],
   "source": [
    "import scipy.stats"
   ]
  },
  {
   "cell_type": "code",
   "execution_count": 12,
   "id": "found-slovenia",
   "metadata": {},
   "outputs": [
    {
     "name": "stdout",
     "output_type": "stream",
     "text": [
      "4002.8548328324887 63800.0 17283.514925488962 59999.99999999999 0.9999792393505981\n"
     ]
    }
   ],
   "source": [
    "c_min = df['Adj Close'].min()\n",
    "c_max = df['Adj Close'].max()\n",
    "c_mean = df['Adj Close'].mean()\n",
    "c_std = df['Adj Close'].std()\n",
    "\n",
    "c_current = df['Adj Close'].iloc[-1]\n",
    "\n",
    "c_norm = scipy.stats.norm(c_mean, c_std)\n",
    "print(c_min, c_max, c_mean, c_current, c_norm.cdf(c_current))"
   ]
  },
  {
   "cell_type": "code",
   "execution_count": 13,
   "id": "jewish-bathroom",
   "metadata": {},
   "outputs": [
    {
     "data": {
      "text/plain": [
       "0.2880585820914827"
      ]
     },
     "execution_count": 13,
     "metadata": {},
     "output_type": "execute_result"
    }
   ],
   "source": [
    "c_mean/c_current"
   ]
  },
  {
   "cell_type": "code",
   "execution_count": 14,
   "id": "accompanied-company",
   "metadata": {},
   "outputs": [
    {
     "data": {
      "text/plain": [
       "<AxesSubplot:xlabel='Date'>"
      ]
     },
     "execution_count": 14,
     "metadata": {},
     "output_type": "execute_result"
    },
    {
     "data": {
      "image/png": "[encoded data removed]",
      "text/plain": [
       "<Figure size 1152x288 with 1 Axes>"
      ]
     },
     "metadata": {
      "needs_background": "light"
     },
     "output_type": "display_data"
    }
   ],
   "source": [
    "df['Stocks'].plot()"
   ]
  },
  {
   "cell_type": "code",
   "execution_count": null,
   "id": "broad-cattle",
   "metadata": {},
   "outputs": [],
   "source": []
  }
 ],
 "metadata": {
  "kernelspec": {
   "display_name": "Python 3",
   "language": "python",
   "name": "python3"
  },
  "language_info": {
   "codemirror_mode": {
    "name": "ipython",
    "version": 3
   },
   "file_extension": ".py",
   "mimetype": "text/x-python",
   "name": "python",
   "nbconvert_exporter": "python",
   "pygments_lexer": "ipython3",
   "version": "3.9.1"
  }
 },
 "nbformat": 4,
 "nbformat_minor": 5
}
